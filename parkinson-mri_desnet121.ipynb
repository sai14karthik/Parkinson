{
 "cells": [
  {
   "cell_type": "code",
   "execution_count": 1,
   "id": "d5928da8",
   "metadata": {},
   "outputs": [],
   "source": [
    "import os\n",
    "import numpy as np\n",
    "from tensorflow.keras.applications import DenseNet121\n",
    "\n",
    "\n",
    "from tensorflow.keras.models import Sequential\n",
    "from tensorflow.keras.layers import Dense, GlobalAveragePooling2D, Dropout\n",
    "from tensorflow.keras.preprocessing.image import ImageDataGenerator\n",
    "from tensorflow.keras.optimizers import Adam\n",
    "from sklearn.metrics import classification_report, confusion_matrix"
   ]
  },
  {
   "cell_type": "code",
   "execution_count": 2,
   "id": "d7851ba1",
   "metadata": {},
   "outputs": [],
   "source": [
    "data_dir = '/Users/saikarthik/Downloads/untitled folder/parkinsons_dataset'\n"
   ]
  },
  {
   "cell_type": "code",
   "execution_count": 3,
   "id": "66c3dd9b",
   "metadata": {},
   "outputs": [],
   "source": [
    "img_height, img_width = 224, 224 \n",
    "batch_size = 32\n"
   ]
  },
  {
   "cell_type": "code",
   "execution_count": 4,
   "id": "af6d12a2",
   "metadata": {},
   "outputs": [],
   "source": [
    "datagen = ImageDataGenerator(\n",
    "    rescale=1.0 / 255,\n",
    "    validation_split=0.2,  \n",
    "    rotation_range=20,\n",
    "    width_shift_range=0.2,\n",
    "    height_shift_range=0.2,\n",
    "    shear_range=0.2,\n",
    "    zoom_range=0.2,\n",
    "    horizontal_flip=True,\n",
    ")\n"
   ]
  },
  {
   "cell_type": "code",
   "execution_count": 5,
   "id": "bf0d4695",
   "metadata": {},
   "outputs": [
    {
     "name": "stdout",
     "output_type": "stream",
     "text": [
      "Found 665 images belonging to 2 classes.\n"
     ]
    }
   ],
   "source": [
    "\n",
    "train_generator = datagen.flow_from_directory(\n",
    "    data_dir,\n",
    "    target_size=(img_height, img_width),\n",
    "    batch_size=batch_size,\n",
    "    class_mode='binary',\n",
    "    subset='training',\n",
    ")"
   ]
  },
  {
   "cell_type": "code",
   "execution_count": 6,
   "id": "7467fe4b",
   "metadata": {},
   "outputs": [
    {
     "name": "stdout",
     "output_type": "stream",
     "text": [
      "Found 166 images belonging to 2 classes.\n"
     ]
    }
   ],
   "source": [
    "\n",
    "validation_generator = datagen.flow_from_directory(\n",
    "    data_dir,\n",
    "    target_size=(img_height, img_width),\n",
    "    batch_size=batch_size,\n",
    "    class_mode='binary',\n",
    "    subset='validation',\n",
    ")"
   ]
  },
  {
   "cell_type": "code",
   "execution_count": 7,
   "id": "ebc0cc15",
   "metadata": {},
   "outputs": [
    {
     "name": "stderr",
     "output_type": "stream",
     "text": [
      "2025-04-02 16:00:27.938285: I metal_plugin/src/device/metal_device.cc:1154] Metal device set to: Apple M1 Pro\n",
      "2025-04-02 16:00:27.938323: I metal_plugin/src/device/metal_device.cc:296] systemMemory: 16.00 GB\n",
      "2025-04-02 16:00:27.938337: I metal_plugin/src/device/metal_device.cc:313] maxCacheSize: 5.33 GB\n",
      "2025-04-02 16:00:27.938411: I tensorflow/core/common_runtime/pluggable_device/pluggable_device_factory.cc:303] Could not identify NUMA node of platform GPU ID 0, defaulting to 0. Your kernel may not have been built with NUMA support.\n",
      "2025-04-02 16:00:27.938603: I tensorflow/core/common_runtime/pluggable_device/pluggable_device_factory.cc:269] Created TensorFlow device (/job:localhost/replica:0/task:0/device:GPU:0 with 0 MB memory) -> physical PluggableDevice (device: 0, name: METAL, pci bus id: <undefined>)\n"
     ]
    },
    {
     "name": "stdout",
     "output_type": "stream",
     "text": [
      "Downloading data from https://storage.googleapis.com/tensorflow/keras-applications/densenet/densenet121_weights_tf_dim_ordering_tf_kernels_notop.h5\n",
      "29084464/29084464 [==============================] - 9s 0us/step\n"
     ]
    }
   ],
   "source": [
    "base_model = DenseNet121(weights='imagenet', include_top=False, input_shape=(img_height, img_width, 3))"
   ]
  },
  {
   "cell_type": "code",
   "execution_count": 8,
   "id": "f5629127",
   "metadata": {},
   "outputs": [],
   "source": [
    "for layer in base_model.layers:\n",
    "    layer.trainable = False"
   ]
  },
  {
   "cell_type": "code",
   "execution_count": 9,
   "id": "c62cda15",
   "metadata": {},
   "outputs": [],
   "source": [
    "\n",
    "\n",
    "model = Sequential([\n",
    "    base_model,\n",
    "    GlobalAveragePooling2D(),\n",
    "    Dense(256, activation='relu'),\n",
    "    Dropout(0.5),\n",
    "    Dense(1, activation='sigmoid')\n",
    "])\n"
   ]
  },
  {
   "cell_type": "code",
   "execution_count": 10,
   "id": "0ef99f53",
   "metadata": {},
   "outputs": [
    {
     "name": "stderr",
     "output_type": "stream",
     "text": [
      "WARNING:absl:At this time, the v2.11+ optimizer `tf.keras.optimizers.Adam` runs slowly on M1/M2 Macs, please use the legacy Keras optimizer instead, located at `tf.keras.optimizers.legacy.Adam`.\n",
      "WARNING:absl:There is a known slowdown when using v2.11+ Keras optimizers on M1/M2 Macs. Falling back to the legacy Keras optimizer, i.e., `tf.keras.optimizers.legacy.Adam`.\n"
     ]
    }
   ],
   "source": [
    "model.compile(optimizer=Adam(learning_rate=0.0001), loss='binary_crossentropy', metrics=['accuracy'])"
   ]
  },
  {
   "cell_type": "code",
   "execution_count": 11,
   "id": "9813ed99",
   "metadata": {},
   "outputs": [
    {
     "name": "stdout",
     "output_type": "stream",
     "text": [
      "Epoch 1/100\n"
     ]
    },
    {
     "name": "stderr",
     "output_type": "stream",
     "text": [
      "2025-04-02 16:00:42.498916: I tensorflow/core/grappler/optimizers/custom_graph_optimizer_registry.cc:114] Plugin optimizer for device_type GPU is enabled.\n"
     ]
    },
    {
     "name": "stdout",
     "output_type": "stream",
     "text": [
      "21/21 [==============================] - ETA: 0s - loss: 0.7941 - accuracy: 0.6421"
     ]
    },
    {
     "name": "stderr",
     "output_type": "stream",
     "text": [
      "2025-04-02 16:00:50.038850: I tensorflow/core/grappler/optimizers/custom_graph_optimizer_registry.cc:114] Plugin optimizer for device_type GPU is enabled.\n"
     ]
    },
    {
     "name": "stdout",
     "output_type": "stream",
     "text": [
      "21/21 [==============================] - 13s 418ms/step - loss: 0.7941 - accuracy: 0.6421 - val_loss: 0.5281 - val_accuracy: 0.7470\n",
      "Epoch 2/100\n",
      "21/21 [==============================] - 6s 250ms/step - loss: 0.6916 - accuracy: 0.6767 - val_loss: 0.4720 - val_accuracy: 0.8012\n",
      "Epoch 3/100\n",
      "21/21 [==============================] - 5s 245ms/step - loss: 0.5479 - accuracy: 0.7414 - val_loss: 0.4369 - val_accuracy: 0.7952\n",
      "Epoch 4/100\n",
      "21/21 [==============================] - 5s 256ms/step - loss: 0.4845 - accuracy: 0.7805 - val_loss: 0.4649 - val_accuracy: 0.7651\n",
      "Epoch 5/100\n",
      "21/21 [==============================] - 5s 246ms/step - loss: 0.4328 - accuracy: 0.8135 - val_loss: 0.4147 - val_accuracy: 0.7651\n",
      "Epoch 6/100\n",
      "21/21 [==============================] - 5s 248ms/step - loss: 0.4063 - accuracy: 0.8256 - val_loss: 0.3580 - val_accuracy: 0.8133\n",
      "Epoch 7/100\n",
      "21/21 [==============================] - 5s 245ms/step - loss: 0.3638 - accuracy: 0.8436 - val_loss: 0.3626 - val_accuracy: 0.8133\n",
      "Epoch 8/100\n",
      "21/21 [==============================] - 5s 240ms/step - loss: 0.3410 - accuracy: 0.8782 - val_loss: 0.3717 - val_accuracy: 0.7952\n",
      "Epoch 9/100\n",
      "21/21 [==============================] - 5s 248ms/step - loss: 0.3015 - accuracy: 0.8842 - val_loss: 0.3640 - val_accuracy: 0.7952\n",
      "Epoch 10/100\n",
      "21/21 [==============================] - 5s 251ms/step - loss: 0.2958 - accuracy: 0.8872 - val_loss: 0.3708 - val_accuracy: 0.8012\n",
      "Epoch 11/100\n",
      "21/21 [==============================] - 5s 251ms/step - loss: 0.2622 - accuracy: 0.9098 - val_loss: 0.2896 - val_accuracy: 0.8434\n",
      "Epoch 12/100\n",
      "21/21 [==============================] - 5s 257ms/step - loss: 0.2485 - accuracy: 0.9113 - val_loss: 0.4236 - val_accuracy: 0.7892\n",
      "Epoch 13/100\n",
      "21/21 [==============================] - 5s 240ms/step - loss: 0.2515 - accuracy: 0.8977 - val_loss: 0.3380 - val_accuracy: 0.8253\n",
      "Epoch 14/100\n",
      "21/21 [==============================] - 5s 235ms/step - loss: 0.2258 - accuracy: 0.9038 - val_loss: 0.3343 - val_accuracy: 0.8313\n",
      "Epoch 15/100\n",
      "21/21 [==============================] - 5s 240ms/step - loss: 0.2415 - accuracy: 0.9098 - val_loss: 0.2567 - val_accuracy: 0.8554\n",
      "Epoch 16/100\n",
      "21/21 [==============================] - 5s 249ms/step - loss: 0.1981 - accuracy: 0.9338 - val_loss: 0.2296 - val_accuracy: 0.8795\n",
      "Epoch 17/100\n",
      "21/21 [==============================] - 5s 247ms/step - loss: 0.2006 - accuracy: 0.9218 - val_loss: 0.3068 - val_accuracy: 0.8494\n",
      "Epoch 18/100\n",
      "21/21 [==============================] - 5s 247ms/step - loss: 0.1829 - accuracy: 0.9308 - val_loss: 0.2298 - val_accuracy: 0.9036\n",
      "Epoch 19/100\n",
      "21/21 [==============================] - 5s 242ms/step - loss: 0.1837 - accuracy: 0.9429 - val_loss: 0.3071 - val_accuracy: 0.8675\n",
      "Epoch 20/100\n",
      "21/21 [==============================] - 5s 244ms/step - loss: 0.1588 - accuracy: 0.9504 - val_loss: 0.2826 - val_accuracy: 0.8735\n",
      "Epoch 21/100\n",
      "21/21 [==============================] - 5s 244ms/step - loss: 0.1569 - accuracy: 0.9429 - val_loss: 0.2713 - val_accuracy: 0.8614\n",
      "Epoch 22/100\n",
      "21/21 [==============================] - 5s 238ms/step - loss: 0.1622 - accuracy: 0.9489 - val_loss: 0.2368 - val_accuracy: 0.8916\n",
      "Epoch 23/100\n",
      "21/21 [==============================] - 5s 243ms/step - loss: 0.1480 - accuracy: 0.9489 - val_loss: 0.2708 - val_accuracy: 0.8614\n",
      "Epoch 24/100\n",
      "21/21 [==============================] - 5s 236ms/step - loss: 0.1458 - accuracy: 0.9504 - val_loss: 0.2033 - val_accuracy: 0.9157\n",
      "Epoch 25/100\n",
      "21/21 [==============================] - 5s 236ms/step - loss: 0.1444 - accuracy: 0.9639 - val_loss: 0.2341 - val_accuracy: 0.9036\n",
      "Epoch 26/100\n",
      "21/21 [==============================] - 5s 236ms/step - loss: 0.1575 - accuracy: 0.9459 - val_loss: 0.2591 - val_accuracy: 0.8855\n",
      "Epoch 27/100\n",
      "21/21 [==============================] - 5s 237ms/step - loss: 0.1254 - accuracy: 0.9594 - val_loss: 0.2819 - val_accuracy: 0.8735\n",
      "Epoch 28/100\n",
      "21/21 [==============================] - 5s 236ms/step - loss: 0.1053 - accuracy: 0.9729 - val_loss: 0.2542 - val_accuracy: 0.8795\n",
      "Epoch 29/100\n",
      "21/21 [==============================] - 5s 236ms/step - loss: 0.1228 - accuracy: 0.9609 - val_loss: 0.2733 - val_accuracy: 0.8675\n",
      "Epoch 30/100\n",
      "21/21 [==============================] - 5s 236ms/step - loss: 0.1343 - accuracy: 0.9398 - val_loss: 0.1784 - val_accuracy: 0.9277\n",
      "Epoch 31/100\n",
      "21/21 [==============================] - 5s 236ms/step - loss: 0.1083 - accuracy: 0.9624 - val_loss: 0.2511 - val_accuracy: 0.8855\n",
      "Epoch 32/100\n",
      "21/21 [==============================] - 5s 236ms/step - loss: 0.1264 - accuracy: 0.9669 - val_loss: 0.2312 - val_accuracy: 0.8855\n",
      "Epoch 33/100\n",
      "21/21 [==============================] - 5s 236ms/step - loss: 0.1133 - accuracy: 0.9654 - val_loss: 0.1820 - val_accuracy: 0.9096\n",
      "Epoch 34/100\n",
      "21/21 [==============================] - 5s 236ms/step - loss: 0.1045 - accuracy: 0.9684 - val_loss: 0.2166 - val_accuracy: 0.8976\n",
      "Epoch 35/100\n",
      "21/21 [==============================] - 5s 236ms/step - loss: 0.1123 - accuracy: 0.9564 - val_loss: 0.2269 - val_accuracy: 0.9036\n",
      "Epoch 36/100\n",
      "21/21 [==============================] - 5s 243ms/step - loss: 0.1124 - accuracy: 0.9669 - val_loss: 0.2118 - val_accuracy: 0.9157\n",
      "Epoch 37/100\n",
      "21/21 [==============================] - 5s 241ms/step - loss: 0.1000 - accuracy: 0.9684 - val_loss: 0.1718 - val_accuracy: 0.9157\n",
      "Epoch 38/100\n",
      "21/21 [==============================] - 5s 238ms/step - loss: 0.0944 - accuracy: 0.9669 - val_loss: 0.1582 - val_accuracy: 0.9217\n",
      "Epoch 39/100\n",
      "21/21 [==============================] - 5s 236ms/step - loss: 0.0952 - accuracy: 0.9714 - val_loss: 0.2131 - val_accuracy: 0.8916\n",
      "Epoch 40/100\n",
      "21/21 [==============================] - 5s 235ms/step - loss: 0.0828 - accuracy: 0.9805 - val_loss: 0.1670 - val_accuracy: 0.9277\n",
      "Epoch 41/100\n",
      "21/21 [==============================] - 5s 236ms/step - loss: 0.0945 - accuracy: 0.9714 - val_loss: 0.1401 - val_accuracy: 0.9518\n",
      "Epoch 42/100\n",
      "21/21 [==============================] - 5s 235ms/step - loss: 0.0933 - accuracy: 0.9684 - val_loss: 0.1824 - val_accuracy: 0.9277\n",
      "Epoch 43/100\n",
      "21/21 [==============================] - 5s 235ms/step - loss: 0.0861 - accuracy: 0.9684 - val_loss: 0.1697 - val_accuracy: 0.9217\n",
      "Epoch 44/100\n",
      "21/21 [==============================] - 5s 236ms/step - loss: 0.0852 - accuracy: 0.9805 - val_loss: 0.2139 - val_accuracy: 0.9157\n",
      "Epoch 45/100\n",
      "21/21 [==============================] - 5s 235ms/step - loss: 0.0777 - accuracy: 0.9789 - val_loss: 0.1874 - val_accuracy: 0.9096\n",
      "Epoch 46/100\n",
      "21/21 [==============================] - 5s 235ms/step - loss: 0.0845 - accuracy: 0.9669 - val_loss: 0.2036 - val_accuracy: 0.9036\n",
      "Epoch 47/100\n",
      "21/21 [==============================] - 5s 234ms/step - loss: 0.0826 - accuracy: 0.9759 - val_loss: 0.2173 - val_accuracy: 0.9096\n",
      "Epoch 48/100\n",
      "21/21 [==============================] - 5s 236ms/step - loss: 0.0809 - accuracy: 0.9744 - val_loss: 0.1807 - val_accuracy: 0.9277\n",
      "Epoch 49/100\n",
      "21/21 [==============================] - 5s 235ms/step - loss: 0.0712 - accuracy: 0.9820 - val_loss: 0.1568 - val_accuracy: 0.9277\n",
      "Epoch 50/100\n",
      "21/21 [==============================] - 5s 241ms/step - loss: 0.0730 - accuracy: 0.9774 - val_loss: 0.1689 - val_accuracy: 0.9337\n",
      "Epoch 51/100\n",
      "21/21 [==============================] - 5s 237ms/step - loss: 0.0756 - accuracy: 0.9850 - val_loss: 0.1462 - val_accuracy: 0.9277\n",
      "Epoch 52/100\n",
      "21/21 [==============================] - 17s 810ms/step - loss: 0.0770 - accuracy: 0.9759 - val_loss: 0.1267 - val_accuracy: 0.9337\n",
      "Epoch 53/100\n",
      "21/21 [==============================] - 6s 263ms/step - loss: 0.0638 - accuracy: 0.9865 - val_loss: 0.1683 - val_accuracy: 0.9157\n",
      "Epoch 54/100\n",
      "21/21 [==============================] - 6s 261ms/step - loss: 0.0616 - accuracy: 0.9880 - val_loss: 0.1496 - val_accuracy: 0.9398\n",
      "Epoch 55/100\n",
      "21/21 [==============================] - 5s 247ms/step - loss: 0.0720 - accuracy: 0.9774 - val_loss: 0.1892 - val_accuracy: 0.9398\n",
      "Epoch 56/100\n",
      "21/21 [==============================] - 5s 240ms/step - loss: 0.0687 - accuracy: 0.9774 - val_loss: 0.1609 - val_accuracy: 0.9277\n",
      "Epoch 57/100\n",
      "21/21 [==============================] - 5s 239ms/step - loss: 0.0667 - accuracy: 0.9835 - val_loss: 0.1807 - val_accuracy: 0.9157\n",
      "Epoch 58/100\n",
      "21/21 [==============================] - 5s 243ms/step - loss: 0.0624 - accuracy: 0.9850 - val_loss: 0.1321 - val_accuracy: 0.9337\n",
      "Epoch 59/100\n",
      "21/21 [==============================] - 5s 244ms/step - loss: 0.0636 - accuracy: 0.9789 - val_loss: 0.1459 - val_accuracy: 0.9217\n",
      "Epoch 60/100\n",
      "21/21 [==============================] - 5s 237ms/step - loss: 0.0684 - accuracy: 0.9820 - val_loss: 0.1477 - val_accuracy: 0.9277\n",
      "Epoch 61/100\n",
      "21/21 [==============================] - 5s 247ms/step - loss: 0.0511 - accuracy: 0.9910 - val_loss: 0.1689 - val_accuracy: 0.9337\n",
      "Epoch 62/100\n",
      "21/21 [==============================] - 5s 250ms/step - loss: 0.0606 - accuracy: 0.9865 - val_loss: 0.1348 - val_accuracy: 0.9337\n",
      "Epoch 63/100\n",
      "21/21 [==============================] - 5s 245ms/step - loss: 0.0641 - accuracy: 0.9820 - val_loss: 0.1308 - val_accuracy: 0.9337\n",
      "Epoch 64/100\n",
      "21/21 [==============================] - 5s 245ms/step - loss: 0.0695 - accuracy: 0.9789 - val_loss: 0.1984 - val_accuracy: 0.9157\n",
      "Epoch 65/100\n",
      "21/21 [==============================] - 5s 242ms/step - loss: 0.0584 - accuracy: 0.9835 - val_loss: 0.1531 - val_accuracy: 0.9277\n",
      "Epoch 66/100\n",
      "21/21 [==============================] - 5s 245ms/step - loss: 0.0547 - accuracy: 0.9850 - val_loss: 0.1370 - val_accuracy: 0.9277\n",
      "Epoch 67/100\n",
      "21/21 [==============================] - 5s 247ms/step - loss: 0.0479 - accuracy: 0.9910 - val_loss: 0.1669 - val_accuracy: 0.9217\n",
      "Epoch 68/100\n",
      "21/21 [==============================] - 5s 255ms/step - loss: 0.0520 - accuracy: 0.9865 - val_loss: 0.0948 - val_accuracy: 0.9578\n",
      "Epoch 69/100\n",
      "21/21 [==============================] - 5s 251ms/step - loss: 0.0534 - accuracy: 0.9850 - val_loss: 0.1303 - val_accuracy: 0.9337\n",
      "Epoch 70/100\n",
      "21/21 [==============================] - 5s 240ms/step - loss: 0.0534 - accuracy: 0.9820 - val_loss: 0.1494 - val_accuracy: 0.9337\n",
      "Epoch 71/100\n",
      "21/21 [==============================] - 5s 252ms/step - loss: 0.0476 - accuracy: 0.9910 - val_loss: 0.1629 - val_accuracy: 0.9217\n",
      "Epoch 72/100\n",
      "21/21 [==============================] - 5s 246ms/step - loss: 0.0593 - accuracy: 0.9820 - val_loss: 0.1532 - val_accuracy: 0.9217\n",
      "Epoch 73/100\n",
      "21/21 [==============================] - 5s 256ms/step - loss: 0.0521 - accuracy: 0.9910 - val_loss: 0.1633 - val_accuracy: 0.9217\n",
      "Epoch 74/100\n",
      "21/21 [==============================] - 5s 248ms/step - loss: 0.0534 - accuracy: 0.9880 - val_loss: 0.1658 - val_accuracy: 0.9217\n",
      "Epoch 75/100\n",
      "21/21 [==============================] - 5s 246ms/step - loss: 0.0522 - accuracy: 0.9880 - val_loss: 0.1493 - val_accuracy: 0.9277\n",
      "Epoch 76/100\n",
      "21/21 [==============================] - 5s 245ms/step - loss: 0.0491 - accuracy: 0.9850 - val_loss: 0.1404 - val_accuracy: 0.9337\n",
      "Epoch 77/100\n",
      "21/21 [==============================] - 5s 243ms/step - loss: 0.0373 - accuracy: 0.9940 - val_loss: 0.1571 - val_accuracy: 0.9337\n",
      "Epoch 78/100\n",
      "21/21 [==============================] - 5s 251ms/step - loss: 0.0595 - accuracy: 0.9805 - val_loss: 0.1446 - val_accuracy: 0.9398\n",
      "Epoch 79/100\n",
      "21/21 [==============================] - 5s 246ms/step - loss: 0.0470 - accuracy: 0.9835 - val_loss: 0.1364 - val_accuracy: 0.9518\n",
      "Epoch 80/100\n",
      "21/21 [==============================] - 5s 248ms/step - loss: 0.0404 - accuracy: 0.9880 - val_loss: 0.1788 - val_accuracy: 0.9337\n",
      "Epoch 81/100\n",
      "21/21 [==============================] - 5s 257ms/step - loss: 0.0408 - accuracy: 0.9925 - val_loss: 0.1407 - val_accuracy: 0.9518\n",
      "Epoch 82/100\n",
      "21/21 [==============================] - 5s 244ms/step - loss: 0.0416 - accuracy: 0.9880 - val_loss: 0.1615 - val_accuracy: 0.9337\n",
      "Epoch 83/100\n",
      "21/21 [==============================] - 5s 244ms/step - loss: 0.0513 - accuracy: 0.9865 - val_loss: 0.1641 - val_accuracy: 0.9458\n",
      "Epoch 84/100\n",
      "21/21 [==============================] - 5s 244ms/step - loss: 0.0426 - accuracy: 0.9895 - val_loss: 0.1587 - val_accuracy: 0.9398\n",
      "Epoch 85/100\n",
      "21/21 [==============================] - 5s 244ms/step - loss: 0.0400 - accuracy: 0.9910 - val_loss: 0.1536 - val_accuracy: 0.9277\n",
      "Epoch 86/100\n",
      "21/21 [==============================] - 5s 244ms/step - loss: 0.0337 - accuracy: 0.9955 - val_loss: 0.1143 - val_accuracy: 0.9639\n",
      "Epoch 87/100\n",
      "21/21 [==============================] - 5s 243ms/step - loss: 0.0425 - accuracy: 0.9865 - val_loss: 0.1839 - val_accuracy: 0.9458\n",
      "Epoch 88/100\n",
      "21/21 [==============================] - 5s 245ms/step - loss: 0.0460 - accuracy: 0.9865 - val_loss: 0.1827 - val_accuracy: 0.9458\n",
      "Epoch 89/100\n",
      "21/21 [==============================] - 5s 244ms/step - loss: 0.0362 - accuracy: 0.9910 - val_loss: 0.0915 - val_accuracy: 0.9699\n",
      "Epoch 90/100\n",
      "21/21 [==============================] - 5s 244ms/step - loss: 0.0378 - accuracy: 0.9925 - val_loss: 0.1970 - val_accuracy: 0.9157\n",
      "Epoch 91/100\n",
      "21/21 [==============================] - 5s 246ms/step - loss: 0.0379 - accuracy: 0.9895 - val_loss: 0.1136 - val_accuracy: 0.9639\n",
      "Epoch 92/100\n",
      "21/21 [==============================] - 5s 244ms/step - loss: 0.0360 - accuracy: 0.9925 - val_loss: 0.1530 - val_accuracy: 0.9217\n",
      "Epoch 93/100\n",
      "21/21 [==============================] - 5s 247ms/step - loss: 0.0495 - accuracy: 0.9850 - val_loss: 0.1375 - val_accuracy: 0.9518\n",
      "Epoch 94/100\n",
      "21/21 [==============================] - 5s 244ms/step - loss: 0.0399 - accuracy: 0.9895 - val_loss: 0.0841 - val_accuracy: 0.9699\n",
      "Epoch 95/100\n",
      "21/21 [==============================] - 5s 244ms/step - loss: 0.0419 - accuracy: 0.9865 - val_loss: 0.1003 - val_accuracy: 0.9518\n",
      "Epoch 96/100\n",
      "21/21 [==============================] - 5s 246ms/step - loss: 0.0357 - accuracy: 0.9940 - val_loss: 0.1039 - val_accuracy: 0.9518\n",
      "Epoch 97/100\n",
      "21/21 [==============================] - 5s 244ms/step - loss: 0.0336 - accuracy: 0.9955 - val_loss: 0.1250 - val_accuracy: 0.9398\n",
      "Epoch 98/100\n",
      "21/21 [==============================] - 5s 246ms/step - loss: 0.0365 - accuracy: 0.9880 - val_loss: 0.0945 - val_accuracy: 0.9458\n",
      "Epoch 99/100\n",
      "21/21 [==============================] - 6s 269ms/step - loss: 0.0389 - accuracy: 0.9895 - val_loss: 0.0951 - val_accuracy: 0.9639\n",
      "Epoch 100/100\n",
      "21/21 [==============================] - 5s 248ms/step - loss: 0.0306 - accuracy: 0.9925 - val_loss: 0.1616 - val_accuracy: 0.9398\n"
     ]
    }
   ],
   "source": [
    "history = model.fit(\n",
    "    train_generator,\n",
    "    validation_data=validation_generator,\n",
    "    epochs=100,\n",
    ")"
   ]
  },
  {
   "cell_type": "code",
   "execution_count": 15,
   "id": "5706f4c1",
   "metadata": {},
   "outputs": [
    {
     "name": "stdout",
     "output_type": "stream",
     "text": [
      "6/6 [==============================] - 1s 154ms/step - loss: 0.0869 - accuracy: 0.9699\n",
      "Validation Accuracy: 96.99%\n",
      "6/6 [==============================] - 1s 174ms/step\n",
      "\n",
      "Classification Report:\n",
      "              precision    recall  f1-score   support\n",
      "\n",
      "           0       0.71      0.75      0.73       122\n",
      "           1       0.17      0.14      0.15        44\n",
      "\n",
      "    accuracy                           0.59       166\n",
      "   macro avg       0.44      0.45      0.44       166\n",
      "weighted avg       0.56      0.59      0.58       166\n",
      "\n",
      "\n",
      "Confusion Matrix:\n",
      "[[92 30]\n",
      " [38  6]]\n"
     ]
    }
   ],
   "source": [
    "val_loss, val_accuracy = model.evaluate(validation_generator)\n",
    "print(f\"Validation Accuracy: {val_accuracy * 100:.2f}%\")\n",
    "\n",
    "validation_generator.reset()\n",
    "predictions = (model.predict(validation_generator) > 0.5).astype(\"int64\")\n",
    "true_classes = validation_generator.classes\n",
    "\n",
    "print(\"\\nClassification Report:\")\n",
    "print(classification_report(true_classes, predictions))\n",
    "\n",
    "print(\"\\nConfusion Matrix:\")\n",
    "print(confusion_matrix(true_classes, predictions))"
   ]
  }
 ],
 "metadata": {
  "kaggle": {
   "accelerator": "gpu",
   "dataSources": [
    {
     "datasetId": 1685415,
     "sourceId": 2762111,
     "sourceType": "datasetVersion"
    }
   ],
   "dockerImageVersionId": 30648,
   "isGpuEnabled": true,
   "isInternetEnabled": true,
   "language": "python",
   "sourceType": "notebook"
  },
  "kernelspec": {
   "display_name": "Python 3",
   "language": "python",
   "name": "python3"
  },
  "language_info": {
   "codemirror_mode": {
    "name": "ipython",
    "version": 3
   },
   "file_extension": ".py",
   "mimetype": "text/x-python",
   "name": "python",
   "nbconvert_exporter": "python",
   "pygments_lexer": "ipython3",
   "version": "3.8.16"
  },
  "papermill": {
   "default_parameters": {},
   "duration": 695.546863,
   "end_time": "2024-02-13T15:29:11.942165",
   "environment_variables": {},
   "exception": null,
   "input_path": "__notebook__.ipynb",
   "output_path": "__notebook__.ipynb",
   "parameters": {},
   "start_time": "2024-02-13T15:17:36.395302",
   "version": "2.5.0"
  }
 },
 "nbformat": 4,
 "nbformat_minor": 5
}
