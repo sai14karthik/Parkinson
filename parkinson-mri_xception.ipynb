{
 "cells": [
  {
   "cell_type": "code",
   "execution_count": 1,
   "id": "d5928da8",
   "metadata": {},
   "outputs": [],
   "source": [
    "import os\n",
    "import numpy as np\n",
    "from tensorflow.keras.applications import Xception\n",
    "\n",
    "from tensorflow.keras.models import Sequential\n",
    "from tensorflow.keras.layers import Dense, GlobalAveragePooling2D, Dropout\n",
    "from tensorflow.keras.preprocessing.image import ImageDataGenerator\n",
    "from tensorflow.keras.optimizers import Adam\n",
    "from sklearn.metrics import classification_report, confusion_matrix"
   ]
  },
  {
   "cell_type": "code",
   "execution_count": 2,
   "id": "d7851ba1",
   "metadata": {},
   "outputs": [],
   "source": [
    "data_dir = '/Users/saikarthik/Downloads/untitled folder/parkinsons_dataset'\n"
   ]
  },
  {
   "cell_type": "code",
   "execution_count": 3,
   "id": "66c3dd9b",
   "metadata": {},
   "outputs": [],
   "source": [
    "img_height, img_width = 224, 224 \n",
    "batch_size = 32\n"
   ]
  },
  {
   "cell_type": "code",
   "execution_count": 4,
   "id": "af6d12a2",
   "metadata": {},
   "outputs": [],
   "source": [
    "datagen = ImageDataGenerator(\n",
    "    rescale=1.0 / 255,\n",
    "    validation_split=0.2,  \n",
    "    rotation_range=20,\n",
    "    width_shift_range=0.2,\n",
    "    height_shift_range=0.2,\n",
    "    shear_range=0.2,\n",
    "    zoom_range=0.2,\n",
    "    horizontal_flip=True,\n",
    ")\n"
   ]
  },
  {
   "cell_type": "code",
   "execution_count": 5,
   "id": "bf0d4695",
   "metadata": {},
   "outputs": [
    {
     "name": "stdout",
     "output_type": "stream",
     "text": [
      "Found 665 images belonging to 2 classes.\n"
     ]
    }
   ],
   "source": [
    "\n",
    "train_generator = datagen.flow_from_directory(\n",
    "    data_dir,\n",
    "    target_size=(img_height, img_width),\n",
    "    batch_size=batch_size,\n",
    "    class_mode='binary',\n",
    "    subset='training',\n",
    ")"
   ]
  },
  {
   "cell_type": "code",
   "execution_count": 6,
   "id": "7467fe4b",
   "metadata": {},
   "outputs": [
    {
     "name": "stdout",
     "output_type": "stream",
     "text": [
      "Found 166 images belonging to 2 classes.\n"
     ]
    }
   ],
   "source": [
    "\n",
    "validation_generator = datagen.flow_from_directory(\n",
    "    data_dir,\n",
    "    target_size=(img_height, img_width),\n",
    "    batch_size=batch_size,\n",
    "    class_mode='binary',\n",
    "    subset='validation',\n",
    ")"
   ]
  },
  {
   "cell_type": "code",
   "execution_count": 7,
   "id": "ebc0cc15",
   "metadata": {},
   "outputs": [
    {
     "name": "stderr",
     "output_type": "stream",
     "text": [
      "2025-04-02 13:58:32.434139: I metal_plugin/src/device/metal_device.cc:1154] Metal device set to: Apple M1 Pro\n",
      "2025-04-02 13:58:32.434176: I metal_plugin/src/device/metal_device.cc:296] systemMemory: 16.00 GB\n",
      "2025-04-02 13:58:32.434184: I metal_plugin/src/device/metal_device.cc:313] maxCacheSize: 5.33 GB\n",
      "2025-04-02 13:58:32.434217: I tensorflow/core/common_runtime/pluggable_device/pluggable_device_factory.cc:303] Could not identify NUMA node of platform GPU ID 0, defaulting to 0. Your kernel may not have been built with NUMA support.\n",
      "2025-04-02 13:58:32.434233: I tensorflow/core/common_runtime/pluggable_device/pluggable_device_factory.cc:269] Created TensorFlow device (/job:localhost/replica:0/task:0/device:GPU:0 with 0 MB memory) -> physical PluggableDevice (device: 0, name: METAL, pci bus id: <undefined>)\n"
     ]
    },
    {
     "name": "stdout",
     "output_type": "stream",
     "text": [
      "Downloading data from https://storage.googleapis.com/tensorflow/keras-applications/xception/xception_weights_tf_dim_ordering_tf_kernels_notop.h5\n",
      "83683744/83683744 [==============================] - 32s 0us/step\n"
     ]
    }
   ],
   "source": [
    "base_model = Xception(weights='imagenet', include_top=False, input_shape=(img_height, img_width, 3))"
   ]
  },
  {
   "cell_type": "code",
   "execution_count": 8,
   "id": "f5629127",
   "metadata": {},
   "outputs": [],
   "source": [
    "for layer in base_model.layers:\n",
    "    layer.trainable = False"
   ]
  },
  {
   "cell_type": "code",
   "execution_count": 9,
   "id": "c62cda15",
   "metadata": {},
   "outputs": [],
   "source": [
    "\n",
    "\n",
    "model = Sequential([\n",
    "    base_model,\n",
    "    GlobalAveragePooling2D(),\n",
    "    Dense(256, activation='relu'),\n",
    "    Dropout(0.5),\n",
    "    Dense(1, activation='sigmoid')\n",
    "])\n"
   ]
  },
  {
   "cell_type": "code",
   "execution_count": 10,
   "id": "0ef99f53",
   "metadata": {},
   "outputs": [
    {
     "name": "stderr",
     "output_type": "stream",
     "text": [
      "WARNING:absl:At this time, the v2.11+ optimizer `tf.keras.optimizers.Adam` runs slowly on M1/M2 Macs, please use the legacy Keras optimizer instead, located at `tf.keras.optimizers.legacy.Adam`.\n",
      "WARNING:absl:There is a known slowdown when using v2.11+ Keras optimizers on M1/M2 Macs. Falling back to the legacy Keras optimizer, i.e., `tf.keras.optimizers.legacy.Adam`.\n"
     ]
    }
   ],
   "source": [
    "model.compile(optimizer=Adam(learning_rate=0.0001), loss='binary_crossentropy', metrics=['accuracy'])"
   ]
  },
  {
   "cell_type": "code",
   "execution_count": 11,
   "id": "9813ed99",
   "metadata": {},
   "outputs": [
    {
     "name": "stdout",
     "output_type": "stream",
     "text": [
      "Epoch 1/100\n"
     ]
    },
    {
     "name": "stderr",
     "output_type": "stream",
     "text": [
      "2025-04-02 13:59:07.581797: I tensorflow/core/grappler/optimizers/custom_graph_optimizer_registry.cc:114] Plugin optimizer for device_type GPU is enabled.\n"
     ]
    },
    {
     "name": "stdout",
     "output_type": "stream",
     "text": [
      "21/21 [==============================] - ETA: 0s - loss: 0.6379 - accuracy: 0.7023"
     ]
    },
    {
     "name": "stderr",
     "output_type": "stream",
     "text": [
      "2025-04-02 13:59:15.006662: I tensorflow/core/grappler/optimizers/custom_graph_optimizer_registry.cc:114] Plugin optimizer for device_type GPU is enabled.\n"
     ]
    },
    {
     "name": "stdout",
     "output_type": "stream",
     "text": [
      "21/21 [==============================] - 10s 395ms/step - loss: 0.6379 - accuracy: 0.7023 - val_loss: 0.5801 - val_accuracy: 0.7349\n",
      "Epoch 2/100\n",
      "21/21 [==============================] - 7s 335ms/step - loss: 0.4820 - accuracy: 0.7865 - val_loss: 0.5494 - val_accuracy: 0.7349\n",
      "Epoch 3/100\n",
      "21/21 [==============================] - 7s 320ms/step - loss: 0.4188 - accuracy: 0.8301 - val_loss: 0.4296 - val_accuracy: 0.7651\n",
      "Epoch 4/100\n",
      "21/21 [==============================] - 7s 326ms/step - loss: 0.3742 - accuracy: 0.8361 - val_loss: 0.3900 - val_accuracy: 0.7831\n",
      "Epoch 5/100\n",
      "21/21 [==============================] - 7s 315ms/step - loss: 0.3265 - accuracy: 0.8827 - val_loss: 0.3823 - val_accuracy: 0.7711\n",
      "Epoch 6/100\n",
      "21/21 [==============================] - 7s 313ms/step - loss: 0.2830 - accuracy: 0.9038 - val_loss: 0.3551 - val_accuracy: 0.8012\n",
      "Epoch 7/100\n",
      "21/21 [==============================] - 7s 310ms/step - loss: 0.2377 - accuracy: 0.9233 - val_loss: 0.3624 - val_accuracy: 0.7952\n",
      "Epoch 8/100\n",
      "21/21 [==============================] - 7s 312ms/step - loss: 0.2318 - accuracy: 0.9338 - val_loss: 0.3093 - val_accuracy: 0.8313\n",
      "Epoch 9/100\n",
      "21/21 [==============================] - 7s 307ms/step - loss: 0.2202 - accuracy: 0.9308 - val_loss: 0.3094 - val_accuracy: 0.8193\n",
      "Epoch 10/100\n",
      "21/21 [==============================] - 7s 306ms/step - loss: 0.2122 - accuracy: 0.9293 - val_loss: 0.2827 - val_accuracy: 0.8434\n",
      "Epoch 11/100\n",
      "21/21 [==============================] - 7s 305ms/step - loss: 0.1958 - accuracy: 0.9398 - val_loss: 0.2880 - val_accuracy: 0.8494\n",
      "Epoch 12/100\n",
      "21/21 [==============================] - 6s 304ms/step - loss: 0.1778 - accuracy: 0.9489 - val_loss: 0.2727 - val_accuracy: 0.8554\n",
      "Epoch 13/100\n",
      "21/21 [==============================] - 6s 304ms/step - loss: 0.1735 - accuracy: 0.9459 - val_loss: 0.2656 - val_accuracy: 0.8614\n",
      "Epoch 14/100\n",
      "21/21 [==============================] - 7s 306ms/step - loss: 0.1537 - accuracy: 0.9624 - val_loss: 0.3175 - val_accuracy: 0.8554\n",
      "Epoch 15/100\n",
      "21/21 [==============================] - 6s 303ms/step - loss: 0.1394 - accuracy: 0.9639 - val_loss: 0.2617 - val_accuracy: 0.8675\n",
      "Epoch 16/100\n",
      "21/21 [==============================] - 7s 307ms/step - loss: 0.1452 - accuracy: 0.9594 - val_loss: 0.2162 - val_accuracy: 0.8916\n",
      "Epoch 17/100\n",
      "21/21 [==============================] - 7s 328ms/step - loss: 0.1334 - accuracy: 0.9669 - val_loss: 0.2461 - val_accuracy: 0.8735\n",
      "Epoch 18/100\n",
      "21/21 [==============================] - 7s 338ms/step - loss: 0.1290 - accuracy: 0.9624 - val_loss: 0.2224 - val_accuracy: 0.9157\n",
      "Epoch 19/100\n",
      "21/21 [==============================] - 7s 309ms/step - loss: 0.1046 - accuracy: 0.9744 - val_loss: 0.2454 - val_accuracy: 0.8795\n",
      "Epoch 20/100\n",
      "21/21 [==============================] - 6s 302ms/step - loss: 0.1286 - accuracy: 0.9624 - val_loss: 0.2184 - val_accuracy: 0.8855\n",
      "Epoch 21/100\n",
      "21/21 [==============================] - 7s 308ms/step - loss: 0.1176 - accuracy: 0.9699 - val_loss: 0.1703 - val_accuracy: 0.9217\n",
      "Epoch 22/100\n",
      "21/21 [==============================] - 7s 306ms/step - loss: 0.1239 - accuracy: 0.9609 - val_loss: 0.2564 - val_accuracy: 0.8795\n",
      "Epoch 23/100\n",
      "21/21 [==============================] - 7s 308ms/step - loss: 0.0861 - accuracy: 0.9880 - val_loss: 0.2424 - val_accuracy: 0.8795\n",
      "Epoch 24/100\n",
      "21/21 [==============================] - 7s 312ms/step - loss: 0.1059 - accuracy: 0.9714 - val_loss: 0.2254 - val_accuracy: 0.9036\n",
      "Epoch 25/100\n",
      "21/21 [==============================] - 8s 367ms/step - loss: 0.1063 - accuracy: 0.9669 - val_loss: 0.1841 - val_accuracy: 0.9217\n",
      "Epoch 26/100\n",
      "21/21 [==============================] - 7s 337ms/step - loss: 0.1013 - accuracy: 0.9714 - val_loss: 0.1659 - val_accuracy: 0.9096\n",
      "Epoch 27/100\n",
      "21/21 [==============================] - 7s 329ms/step - loss: 0.0768 - accuracy: 0.9835 - val_loss: 0.2410 - val_accuracy: 0.8735\n",
      "Epoch 28/100\n",
      "21/21 [==============================] - 7s 317ms/step - loss: 0.0886 - accuracy: 0.9789 - val_loss: 0.1687 - val_accuracy: 0.9277\n",
      "Epoch 29/100\n",
      "21/21 [==============================] - 7s 316ms/step - loss: 0.0922 - accuracy: 0.9759 - val_loss: 0.1635 - val_accuracy: 0.9277\n",
      "Epoch 30/100\n",
      "21/21 [==============================] - 7s 319ms/step - loss: 0.0783 - accuracy: 0.9759 - val_loss: 0.2225 - val_accuracy: 0.8855\n",
      "Epoch 31/100\n",
      "21/21 [==============================] - 7s 315ms/step - loss: 0.0776 - accuracy: 0.9789 - val_loss: 0.1466 - val_accuracy: 0.9277\n",
      "Epoch 32/100\n",
      "21/21 [==============================] - 7s 319ms/step - loss: 0.0767 - accuracy: 0.9850 - val_loss: 0.1887 - val_accuracy: 0.9096\n",
      "Epoch 33/100\n",
      "21/21 [==============================] - 7s 321ms/step - loss: 0.0806 - accuracy: 0.9850 - val_loss: 0.1892 - val_accuracy: 0.9036\n",
      "Epoch 34/100\n",
      "21/21 [==============================] - 7s 320ms/step - loss: 0.0805 - accuracy: 0.9759 - val_loss: 0.2063 - val_accuracy: 0.9096\n",
      "Epoch 35/100\n",
      "21/21 [==============================] - 7s 320ms/step - loss: 0.0768 - accuracy: 0.9805 - val_loss: 0.1546 - val_accuracy: 0.9337\n",
      "Epoch 36/100\n",
      "21/21 [==============================] - 7s 322ms/step - loss: 0.0730 - accuracy: 0.9774 - val_loss: 0.1932 - val_accuracy: 0.8855\n",
      "Epoch 37/100\n",
      "21/21 [==============================] - 7s 322ms/step - loss: 0.0738 - accuracy: 0.9805 - val_loss: 0.2137 - val_accuracy: 0.9096\n",
      "Epoch 38/100\n",
      "21/21 [==============================] - 7s 323ms/step - loss: 0.0769 - accuracy: 0.9729 - val_loss: 0.1420 - val_accuracy: 0.9458\n",
      "Epoch 39/100\n",
      "21/21 [==============================] - 7s 324ms/step - loss: 0.0644 - accuracy: 0.9835 - val_loss: 0.2431 - val_accuracy: 0.8976\n",
      "Epoch 40/100\n",
      "21/21 [==============================] - 7s 324ms/step - loss: 0.0675 - accuracy: 0.9850 - val_loss: 0.2541 - val_accuracy: 0.8735\n",
      "Epoch 41/100\n",
      "21/21 [==============================] - 7s 324ms/step - loss: 0.0734 - accuracy: 0.9789 - val_loss: 0.1535 - val_accuracy: 0.9458\n",
      "Epoch 42/100\n",
      "21/21 [==============================] - 7s 326ms/step - loss: 0.0642 - accuracy: 0.9850 - val_loss: 0.1624 - val_accuracy: 0.9096\n",
      "Epoch 43/100\n",
      "21/21 [==============================] - 7s 326ms/step - loss: 0.0536 - accuracy: 0.9895 - val_loss: 0.1917 - val_accuracy: 0.9157\n",
      "Epoch 44/100\n",
      "21/21 [==============================] - 7s 333ms/step - loss: 0.0603 - accuracy: 0.9835 - val_loss: 0.2008 - val_accuracy: 0.9157\n",
      "Epoch 45/100\n",
      "21/21 [==============================] - 7s 331ms/step - loss: 0.0558 - accuracy: 0.9925 - val_loss: 0.2067 - val_accuracy: 0.8976\n",
      "Epoch 46/100\n",
      "21/21 [==============================] - 7s 342ms/step - loss: 0.0655 - accuracy: 0.9774 - val_loss: 0.1658 - val_accuracy: 0.9277\n",
      "Epoch 47/100\n",
      "21/21 [==============================] - 7s 340ms/step - loss: 0.0683 - accuracy: 0.9805 - val_loss: 0.1985 - val_accuracy: 0.9096\n",
      "Epoch 48/100\n",
      "21/21 [==============================] - 7s 333ms/step - loss: 0.0432 - accuracy: 0.9940 - val_loss: 0.1466 - val_accuracy: 0.9398\n",
      "Epoch 49/100\n",
      "21/21 [==============================] - 7s 338ms/step - loss: 0.0671 - accuracy: 0.9850 - val_loss: 0.1819 - val_accuracy: 0.9096\n",
      "Epoch 50/100\n",
      "21/21 [==============================] - 7s 333ms/step - loss: 0.0591 - accuracy: 0.9880 - val_loss: 0.1935 - val_accuracy: 0.9277\n",
      "Epoch 51/100\n",
      "21/21 [==============================] - 7s 334ms/step - loss: 0.0585 - accuracy: 0.9835 - val_loss: 0.1649 - val_accuracy: 0.9337\n",
      "Epoch 52/100\n",
      "21/21 [==============================] - 7s 334ms/step - loss: 0.0540 - accuracy: 0.9850 - val_loss: 0.1320 - val_accuracy: 0.9458\n",
      "Epoch 53/100\n",
      "21/21 [==============================] - 7s 344ms/step - loss: 0.0555 - accuracy: 0.9805 - val_loss: 0.2170 - val_accuracy: 0.9096\n",
      "Epoch 54/100\n",
      "21/21 [==============================] - 8s 353ms/step - loss: 0.0548 - accuracy: 0.9865 - val_loss: 0.1314 - val_accuracy: 0.9458\n",
      "Epoch 55/100\n",
      "21/21 [==============================] - 8s 375ms/step - loss: 0.0510 - accuracy: 0.9865 - val_loss: 0.1793 - val_accuracy: 0.9096\n",
      "Epoch 56/100\n",
      "21/21 [==============================] - 7s 334ms/step - loss: 0.0491 - accuracy: 0.9880 - val_loss: 0.1920 - val_accuracy: 0.9277\n",
      "Epoch 57/100\n",
      "21/21 [==============================] - 7s 334ms/step - loss: 0.0520 - accuracy: 0.9880 - val_loss: 0.1454 - val_accuracy: 0.9277\n",
      "Epoch 58/100\n",
      "21/21 [==============================] - 7s 349ms/step - loss: 0.0419 - accuracy: 0.9910 - val_loss: 0.1901 - val_accuracy: 0.9277\n",
      "Epoch 59/100\n",
      "21/21 [==============================] - 7s 352ms/step - loss: 0.0459 - accuracy: 0.9910 - val_loss: 0.1737 - val_accuracy: 0.9157\n",
      "Epoch 60/100\n",
      "21/21 [==============================] - 7s 338ms/step - loss: 0.0491 - accuracy: 0.9820 - val_loss: 0.1712 - val_accuracy: 0.9036\n",
      "Epoch 61/100\n",
      "21/21 [==============================] - 7s 350ms/step - loss: 0.0478 - accuracy: 0.9910 - val_loss: 0.1615 - val_accuracy: 0.9096\n",
      "Epoch 62/100\n",
      "21/21 [==============================] - 8s 354ms/step - loss: 0.0544 - accuracy: 0.9850 - val_loss: 0.1805 - val_accuracy: 0.9217\n",
      "Epoch 63/100\n",
      "21/21 [==============================] - 7s 337ms/step - loss: 0.0370 - accuracy: 0.9910 - val_loss: 0.2473 - val_accuracy: 0.9096\n",
      "Epoch 64/100\n",
      "21/21 [==============================] - 7s 340ms/step - loss: 0.0352 - accuracy: 0.9970 - val_loss: 0.2703 - val_accuracy: 0.8976\n",
      "Epoch 65/100\n",
      "21/21 [==============================] - 7s 342ms/step - loss: 0.0308 - accuracy: 0.9955 - val_loss: 0.2016 - val_accuracy: 0.9036\n",
      "Epoch 66/100\n",
      "21/21 [==============================] - 7s 349ms/step - loss: 0.0542 - accuracy: 0.9835 - val_loss: 0.2701 - val_accuracy: 0.8795\n",
      "Epoch 67/100\n",
      "21/21 [==============================] - 7s 344ms/step - loss: 0.0416 - accuracy: 0.9880 - val_loss: 0.1438 - val_accuracy: 0.9277\n",
      "Epoch 68/100\n",
      "21/21 [==============================] - 7s 336ms/step - loss: 0.0449 - accuracy: 0.9880 - val_loss: 0.1835 - val_accuracy: 0.9277\n",
      "Epoch 69/100\n",
      "21/21 [==============================] - 7s 342ms/step - loss: 0.0302 - accuracy: 0.9940 - val_loss: 0.2085 - val_accuracy: 0.9157\n",
      "Epoch 70/100\n",
      "21/21 [==============================] - 7s 341ms/step - loss: 0.0414 - accuracy: 0.9895 - val_loss: 0.1773 - val_accuracy: 0.8976\n",
      "Epoch 71/100\n",
      "21/21 [==============================] - 7s 340ms/step - loss: 0.0325 - accuracy: 0.9955 - val_loss: 0.1699 - val_accuracy: 0.9398\n",
      "Epoch 72/100\n",
      "21/21 [==============================] - 7s 343ms/step - loss: 0.0358 - accuracy: 0.9940 - val_loss: 0.1605 - val_accuracy: 0.9157\n",
      "Epoch 73/100\n",
      "21/21 [==============================] - 7s 345ms/step - loss: 0.0357 - accuracy: 0.9880 - val_loss: 0.1979 - val_accuracy: 0.9157\n",
      "Epoch 74/100\n",
      "21/21 [==============================] - 7s 343ms/step - loss: 0.0402 - accuracy: 0.9910 - val_loss: 0.1829 - val_accuracy: 0.9157\n",
      "Epoch 75/100\n",
      "21/21 [==============================] - 7s 342ms/step - loss: 0.0309 - accuracy: 0.9955 - val_loss: 0.1577 - val_accuracy: 0.9398\n",
      "Epoch 76/100\n",
      "21/21 [==============================] - 7s 343ms/step - loss: 0.0321 - accuracy: 0.9910 - val_loss: 0.1626 - val_accuracy: 0.9217\n",
      "Epoch 77/100\n",
      "21/21 [==============================] - 7s 345ms/step - loss: 0.0426 - accuracy: 0.9925 - val_loss: 0.1504 - val_accuracy: 0.9277\n",
      "Epoch 78/100\n",
      "21/21 [==============================] - 7s 344ms/step - loss: 0.0343 - accuracy: 0.9895 - val_loss: 0.1836 - val_accuracy: 0.9157\n",
      "Epoch 79/100\n",
      "21/21 [==============================] - 7s 351ms/step - loss: 0.0320 - accuracy: 0.9940 - val_loss: 0.1762 - val_accuracy: 0.9398\n",
      "Epoch 80/100\n",
      "21/21 [==============================] - 8s 353ms/step - loss: 0.0351 - accuracy: 0.9925 - val_loss: 0.1580 - val_accuracy: 0.9458\n",
      "Epoch 81/100\n",
      "21/21 [==============================] - 7s 349ms/step - loss: 0.0312 - accuracy: 0.9910 - val_loss: 0.2013 - val_accuracy: 0.9157\n",
      "Epoch 82/100\n",
      "21/21 [==============================] - 7s 349ms/step - loss: 0.0328 - accuracy: 0.9895 - val_loss: 0.2203 - val_accuracy: 0.8976\n",
      "Epoch 83/100\n",
      "21/21 [==============================] - 7s 347ms/step - loss: 0.0281 - accuracy: 0.9925 - val_loss: 0.1443 - val_accuracy: 0.9518\n",
      "Epoch 84/100\n",
      "21/21 [==============================] - 7s 348ms/step - loss: 0.0275 - accuracy: 0.9940 - val_loss: 0.1869 - val_accuracy: 0.9217\n",
      "Epoch 85/100\n",
      "21/21 [==============================] - 7s 349ms/step - loss: 0.0394 - accuracy: 0.9880 - val_loss: 0.2074 - val_accuracy: 0.9337\n",
      "Epoch 86/100\n",
      "21/21 [==============================] - 7s 348ms/step - loss: 0.0294 - accuracy: 0.9925 - val_loss: 0.2211 - val_accuracy: 0.8916\n",
      "Epoch 87/100\n",
      "21/21 [==============================] - 7s 349ms/step - loss: 0.0339 - accuracy: 0.9895 - val_loss: 0.2138 - val_accuracy: 0.8916\n",
      "Epoch 88/100\n",
      "21/21 [==============================] - 8s 356ms/step - loss: 0.0385 - accuracy: 0.9865 - val_loss: 0.1409 - val_accuracy: 0.9337\n",
      "Epoch 89/100\n",
      "21/21 [==============================] - 7s 349ms/step - loss: 0.0459 - accuracy: 0.9820 - val_loss: 0.1746 - val_accuracy: 0.9157\n",
      "Epoch 90/100\n",
      "21/21 [==============================] - 8s 358ms/step - loss: 0.0296 - accuracy: 0.9925 - val_loss: 0.1411 - val_accuracy: 0.9277\n",
      "Epoch 91/100\n",
      "21/21 [==============================] - 7s 351ms/step - loss: 0.0350 - accuracy: 0.9895 - val_loss: 0.1907 - val_accuracy: 0.9398\n",
      "Epoch 92/100\n",
      "21/21 [==============================] - 7s 349ms/step - loss: 0.0425 - accuracy: 0.9865 - val_loss: 0.1881 - val_accuracy: 0.9277\n",
      "Epoch 93/100\n",
      "21/21 [==============================] - 7s 353ms/step - loss: 0.0240 - accuracy: 0.9940 - val_loss: 0.1524 - val_accuracy: 0.9398\n",
      "Epoch 94/100\n",
      "21/21 [==============================] - 7s 349ms/step - loss: 0.0233 - accuracy: 0.9955 - val_loss: 0.2118 - val_accuracy: 0.8976\n",
      "Epoch 95/100\n",
      "21/21 [==============================] - 8s 354ms/step - loss: 0.0330 - accuracy: 0.9895 - val_loss: 0.2316 - val_accuracy: 0.9036\n",
      "Epoch 96/100\n",
      "21/21 [==============================] - 8s 360ms/step - loss: 0.0219 - accuracy: 0.9985 - val_loss: 0.1747 - val_accuracy: 0.9277\n",
      "Epoch 97/100\n",
      "21/21 [==============================] - 8s 355ms/step - loss: 0.0293 - accuracy: 0.9970 - val_loss: 0.2149 - val_accuracy: 0.9157\n",
      "Epoch 98/100\n",
      "21/21 [==============================] - 8s 379ms/step - loss: 0.0316 - accuracy: 0.9895 - val_loss: 0.2026 - val_accuracy: 0.9277\n",
      "Epoch 99/100\n",
      "21/21 [==============================] - 8s 366ms/step - loss: 0.0259 - accuracy: 0.9910 - val_loss: 0.1895 - val_accuracy: 0.9157\n",
      "Epoch 100/100\n",
      "21/21 [==============================] - 8s 371ms/step - loss: 0.0256 - accuracy: 0.9955 - val_loss: 0.1870 - val_accuracy: 0.9398\n"
     ]
    }
   ],
   "source": [
    "history = model.fit(\n",
    "    train_generator,\n",
    "    validation_data=validation_generator,\n",
    "    epochs=100,\n",
    ")"
   ]
  },
  {
   "cell_type": "code",
   "execution_count": 12,
   "id": "5706f4c1",
   "metadata": {},
   "outputs": [
    {
     "name": "stdout",
     "output_type": "stream",
     "text": [
      "6/6 [==============================] - 2s 212ms/step - loss: 0.1760 - accuracy: 0.9398\n",
      "Validation Accuracy: 93.98%\n"
     ]
    },
    {
     "name": "stderr",
     "output_type": "stream",
     "text": [
      "2025-04-02 14:11:05.272942: I tensorflow/core/grappler/optimizers/custom_graph_optimizer_registry.cc:114] Plugin optimizer for device_type GPU is enabled.\n"
     ]
    },
    {
     "name": "stdout",
     "output_type": "stream",
     "text": [
      "6/6 [==============================] - 2s 227ms/step\n",
      "\n",
      "Classification Report:\n",
      "              precision    recall  f1-score   support\n",
      "\n",
      "           0       0.72      0.79      0.75       122\n",
      "           1       0.19      0.14      0.16        44\n",
      "\n",
      "    accuracy                           0.61       166\n",
      "   macro avg       0.45      0.46      0.45       166\n",
      "weighted avg       0.58      0.61      0.59       166\n",
      "\n",
      "\n",
      "Confusion Matrix:\n",
      "[[96 26]\n",
      " [38  6]]\n"
     ]
    }
   ],
   "source": [
    "val_loss, val_accuracy = model.evaluate(validation_generator)\n",
    "print(f\"Validation Accuracy: {val_accuracy * 100:.2f}%\")\n",
    "\n",
    "validation_generator.reset()\n",
    "predictions = (model.predict(validation_generator) > 0.5).astype(\"int64\")\n",
    "true_classes = validation_generator.classes\n",
    "\n",
    "print(\"\\nClassification Report:\")\n",
    "print(classification_report(true_classes, predictions))\n",
    "\n",
    "print(\"\\nConfusion Matrix:\")\n",
    "print(confusion_matrix(true_classes, predictions))"
   ]
  }
 ],
 "metadata": {
  "kaggle": {
   "accelerator": "gpu",
   "dataSources": [
    {
     "datasetId": 1685415,
     "sourceId": 2762111,
     "sourceType": "datasetVersion"
    }
   ],
   "dockerImageVersionId": 30648,
   "isGpuEnabled": true,
   "isInternetEnabled": true,
   "language": "python",
   "sourceType": "notebook"
  },
  "kernelspec": {
   "display_name": "Python 3",
   "language": "python",
   "name": "python3"
  },
  "language_info": {
   "codemirror_mode": {
    "name": "ipython",
    "version": 3
   },
   "file_extension": ".py",
   "mimetype": "text/x-python",
   "name": "python",
   "nbconvert_exporter": "python",
   "pygments_lexer": "ipython3",
   "version": "3.8.16"
  },
  "papermill": {
   "default_parameters": {},
   "duration": 695.546863,
   "end_time": "2024-02-13T15:29:11.942165",
   "environment_variables": {},
   "exception": null,
   "input_path": "__notebook__.ipynb",
   "output_path": "__notebook__.ipynb",
   "parameters": {},
   "start_time": "2024-02-13T15:17:36.395302",
   "version": "2.5.0"
  }
 },
 "nbformat": 4,
 "nbformat_minor": 5
}
