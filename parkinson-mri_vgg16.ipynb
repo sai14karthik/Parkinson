{
 "cells": [
  {
   "cell_type": "code",
   "execution_count": 1,
   "id": "d5928da8",
   "metadata": {},
   "outputs": [],
   "source": [
    "import os\n",
    "import numpy as np\n",
    "import pandas as pd\n",
    "from tensorflow.keras.applications import VGG16\n",
    "from tensorflow.keras.models import Model, Sequential\n",
    "from tensorflow.keras.layers import Dense, Flatten, Dropout, GlobalAveragePooling2D\n",
    "from tensorflow.keras.preprocessing.image import ImageDataGenerator\n",
    "from tensorflow.keras.optimizers import Adam\n",
    "from sklearn.metrics import classification_report, confusion_matrix"
   ]
  },
  {
   "cell_type": "code",
   "execution_count": 2,
   "id": "d7851ba1",
   "metadata": {},
   "outputs": [],
   "source": [
    "data_dir = '/Users/saikarthik/Downloads/untitled folder/parkinsons_dataset'\n"
   ]
  },
  {
   "cell_type": "code",
   "execution_count": 3,
   "id": "66c3dd9b",
   "metadata": {},
   "outputs": [],
   "source": [
    "img_height, img_width = 224, 224 \n",
    "batch_size = 32\n",
    "epochs = 20  \n"
   ]
  },
  {
   "cell_type": "code",
   "execution_count": 4,
   "id": "af6d12a2",
   "metadata": {},
   "outputs": [],
   "source": [
    "datagen = ImageDataGenerator(\n",
    "    rescale=1.0 / 255,\n",
    "    validation_split=0.2,  \n",
    "    rotation_range=20,\n",
    "    width_shift_range=0.2,\n",
    "    height_shift_range=0.2,\n",
    "    shear_range=0.2,\n",
    "    zoom_range=0.2,\n",
    "    horizontal_flip=True,\n",
    ")\n"
   ]
  },
  {
   "cell_type": "code",
   "execution_count": 5,
   "id": "bf0d4695",
   "metadata": {},
   "outputs": [
    {
     "name": "stdout",
     "output_type": "stream",
     "text": [
      "Found 665 images belonging to 2 classes.\n"
     ]
    }
   ],
   "source": [
    "\n",
    "train_generator = datagen.flow_from_directory(\n",
    "    data_dir,\n",
    "    target_size=(img_height, img_width),\n",
    "    batch_size=batch_size,\n",
    "    class_mode='binary',\n",
    "    subset='training',\n",
    ")"
   ]
  },
  {
   "cell_type": "code",
   "execution_count": 6,
   "id": "7467fe4b",
   "metadata": {},
   "outputs": [
    {
     "name": "stdout",
     "output_type": "stream",
     "text": [
      "Found 166 images belonging to 2 classes.\n"
     ]
    }
   ],
   "source": [
    "\n",
    "validation_generator = datagen.flow_from_directory(\n",
    "    data_dir,\n",
    "    target_size=(img_height, img_width),\n",
    "    batch_size=batch_size,\n",
    "    class_mode='binary',\n",
    "    subset='validation',\n",
    ")"
   ]
  },
  {
   "cell_type": "code",
   "execution_count": 7,
   "id": "ebc0cc15",
   "metadata": {},
   "outputs": [
    {
     "name": "stderr",
     "output_type": "stream",
     "text": [
      "2025-04-02 10:53:27.069857: I metal_plugin/src/device/metal_device.cc:1154] Metal device set to: Apple M1 Pro\n",
      "2025-04-02 10:53:27.069885: I metal_plugin/src/device/metal_device.cc:296] systemMemory: 16.00 GB\n",
      "2025-04-02 10:53:27.069896: I metal_plugin/src/device/metal_device.cc:313] maxCacheSize: 5.33 GB\n",
      "2025-04-02 10:53:27.069929: I tensorflow/core/common_runtime/pluggable_device/pluggable_device_factory.cc:303] Could not identify NUMA node of platform GPU ID 0, defaulting to 0. Your kernel may not have been built with NUMA support.\n",
      "2025-04-02 10:53:27.069945: I tensorflow/core/common_runtime/pluggable_device/pluggable_device_factory.cc:269] Created TensorFlow device (/job:localhost/replica:0/task:0/device:GPU:0 with 0 MB memory) -> physical PluggableDevice (device: 0, name: METAL, pci bus id: <undefined>)\n"
     ]
    }
   ],
   "source": [
    "base_model = VGG16(weights='imagenet', include_top=False, input_shape=(img_height, img_width, 3))\n"
   ]
  },
  {
   "cell_type": "code",
   "execution_count": 8,
   "id": "c62cda15",
   "metadata": {},
   "outputs": [],
   "source": [
    "for layer in base_model.layers:\n",
    "    layer.trainable = False\n",
    "\n",
    "model = Sequential([\n",
    "    base_model,\n",
    "    GlobalAveragePooling2D(),\n",
    "    Dense(256, activation='relu'),\n",
    "    Dropout(0.5),\n",
    "    Dense(1, activation='sigmoid')\n",
    "])\n"
   ]
  },
  {
   "cell_type": "code",
   "execution_count": 9,
   "id": "0ef99f53",
   "metadata": {},
   "outputs": [
    {
     "name": "stderr",
     "output_type": "stream",
     "text": [
      "WARNING:absl:At this time, the v2.11+ optimizer `tf.keras.optimizers.Adam` runs slowly on M1/M2 Macs, please use the legacy Keras optimizer instead, located at `tf.keras.optimizers.legacy.Adam`.\n",
      "WARNING:absl:There is a known slowdown when using v2.11+ Keras optimizers on M1/M2 Macs. Falling back to the legacy Keras optimizer, i.e., `tf.keras.optimizers.legacy.Adam`.\n"
     ]
    }
   ],
   "source": [
    "model.compile(optimizer=Adam(learning_rate=0.0001), loss='binary_crossentropy', metrics=['accuracy'])"
   ]
  },
  {
   "cell_type": "code",
   "execution_count": 10,
   "id": "9813ed99",
   "metadata": {},
   "outputs": [
    {
     "name": "stdout",
     "output_type": "stream",
     "text": [
      "Epoch 1/50\n"
     ]
    },
    {
     "name": "stderr",
     "output_type": "stream",
     "text": [
      "2025-04-02 10:53:28.684028: I tensorflow/core/grappler/optimizers/custom_graph_optimizer_registry.cc:114] Plugin optimizer for device_type GPU is enabled.\n"
     ]
    },
    {
     "name": "stdout",
     "output_type": "stream",
     "text": [
      "21/21 [==============================] - ETA: 0s - loss: 0.6388 - accuracy: 0.6857"
     ]
    },
    {
     "name": "stderr",
     "output_type": "stream",
     "text": [
      "2025-04-02 10:53:36.582092: I tensorflow/core/grappler/optimizers/custom_graph_optimizer_registry.cc:114] Plugin optimizer for device_type GPU is enabled.\n"
     ]
    },
    {
     "name": "stdout",
     "output_type": "stream",
     "text": [
      "21/21 [==============================] - 10s 316ms/step - loss: 0.6388 - accuracy: 0.6857 - val_loss: 0.5889 - val_accuracy: 0.7349\n",
      "Epoch 2/50\n",
      "21/21 [==============================] - 6s 263ms/step - loss: 0.6170 - accuracy: 0.7143 - val_loss: 0.5709 - val_accuracy: 0.7349\n",
      "Epoch 3/50\n",
      "21/21 [==============================] - 6s 271ms/step - loss: 0.6148 - accuracy: 0.7113 - val_loss: 0.5582 - val_accuracy: 0.7349\n",
      "Epoch 4/50\n",
      "21/21 [==============================] - 6s 271ms/step - loss: 0.5994 - accuracy: 0.7158 - val_loss: 0.5453 - val_accuracy: 0.7349\n",
      "Epoch 5/50\n",
      "21/21 [==============================] - 6s 263ms/step - loss: 0.5694 - accuracy: 0.7444 - val_loss: 0.5415 - val_accuracy: 0.7349\n",
      "Epoch 6/50\n",
      "21/21 [==============================] - 6s 267ms/step - loss: 0.5412 - accuracy: 0.7474 - val_loss: 0.5333 - val_accuracy: 0.7349\n",
      "Epoch 7/50\n",
      "21/21 [==============================] - 6s 261ms/step - loss: 0.5544 - accuracy: 0.7338 - val_loss: 0.5193 - val_accuracy: 0.7349\n",
      "Epoch 8/50\n",
      "21/21 [==============================] - 6s 261ms/step - loss: 0.5442 - accuracy: 0.7534 - val_loss: 0.5080 - val_accuracy: 0.7349\n",
      "Epoch 9/50\n",
      "21/21 [==============================] - 6s 261ms/step - loss: 0.5140 - accuracy: 0.7429 - val_loss: 0.4961 - val_accuracy: 0.7349\n",
      "Epoch 10/50\n",
      "21/21 [==============================] - 6s 263ms/step - loss: 0.5044 - accuracy: 0.7684 - val_loss: 0.4940 - val_accuracy: 0.7349\n",
      "Epoch 11/50\n",
      "21/21 [==============================] - 6s 270ms/step - loss: 0.4975 - accuracy: 0.7609 - val_loss: 0.4815 - val_accuracy: 0.7349\n",
      "Epoch 12/50\n",
      "21/21 [==============================] - 6s 259ms/step - loss: 0.5002 - accuracy: 0.7654 - val_loss: 0.4798 - val_accuracy: 0.7349\n",
      "Epoch 13/50\n",
      "21/21 [==============================] - 6s 263ms/step - loss: 0.4755 - accuracy: 0.7699 - val_loss: 0.4763 - val_accuracy: 0.7349\n",
      "Epoch 14/50\n",
      "21/21 [==============================] - 6s 274ms/step - loss: 0.4714 - accuracy: 0.7774 - val_loss: 0.4722 - val_accuracy: 0.7349\n",
      "Epoch 15/50\n",
      "21/21 [==============================] - 6s 273ms/step - loss: 0.4695 - accuracy: 0.7835 - val_loss: 0.4651 - val_accuracy: 0.7410\n",
      "Epoch 16/50\n",
      "21/21 [==============================] - 6s 257ms/step - loss: 0.4652 - accuracy: 0.7895 - val_loss: 0.4559 - val_accuracy: 0.7410\n",
      "Epoch 17/50\n",
      "21/21 [==============================] - 6s 260ms/step - loss: 0.4409 - accuracy: 0.7940 - val_loss: 0.4448 - val_accuracy: 0.7410\n",
      "Epoch 18/50\n",
      "21/21 [==============================] - 6s 268ms/step - loss: 0.4412 - accuracy: 0.8045 - val_loss: 0.4478 - val_accuracy: 0.7349\n",
      "Epoch 19/50\n",
      "21/21 [==============================] - 6s 259ms/step - loss: 0.4333 - accuracy: 0.8000 - val_loss: 0.4484 - val_accuracy: 0.7410\n",
      "Epoch 20/50\n",
      "21/21 [==============================] - 6s 260ms/step - loss: 0.4260 - accuracy: 0.8030 - val_loss: 0.4460 - val_accuracy: 0.7410\n",
      "Epoch 21/50\n",
      "21/21 [==============================] - 6s 259ms/step - loss: 0.4174 - accuracy: 0.8150 - val_loss: 0.4379 - val_accuracy: 0.7410\n",
      "Epoch 22/50\n",
      "21/21 [==============================] - 6s 259ms/step - loss: 0.4128 - accuracy: 0.8150 - val_loss: 0.4252 - val_accuracy: 0.7711\n",
      "Epoch 23/50\n",
      "21/21 [==============================] - 6s 261ms/step - loss: 0.4120 - accuracy: 0.8211 - val_loss: 0.4201 - val_accuracy: 0.7590\n",
      "Epoch 24/50\n",
      "21/21 [==============================] - 6s 257ms/step - loss: 0.3987 - accuracy: 0.8286 - val_loss: 0.4069 - val_accuracy: 0.7771\n",
      "Epoch 25/50\n",
      "21/21 [==============================] - 6s 262ms/step - loss: 0.4091 - accuracy: 0.8105 - val_loss: 0.4165 - val_accuracy: 0.7771\n",
      "Epoch 26/50\n",
      "21/21 [==============================] - 6s 258ms/step - loss: 0.3824 - accuracy: 0.8346 - val_loss: 0.4265 - val_accuracy: 0.7651\n",
      "Epoch 27/50\n",
      "21/21 [==============================] - 6s 257ms/step - loss: 0.3811 - accuracy: 0.8361 - val_loss: 0.4008 - val_accuracy: 0.7711\n",
      "Epoch 28/50\n",
      "21/21 [==============================] - 6s 257ms/step - loss: 0.3790 - accuracy: 0.8376 - val_loss: 0.4149 - val_accuracy: 0.7831\n",
      "Epoch 29/50\n",
      "21/21 [==============================] - 6s 259ms/step - loss: 0.3732 - accuracy: 0.8391 - val_loss: 0.3977 - val_accuracy: 0.7771\n",
      "Epoch 30/50\n",
      "21/21 [==============================] - 6s 257ms/step - loss: 0.3772 - accuracy: 0.8331 - val_loss: 0.3946 - val_accuracy: 0.7771\n",
      "Epoch 31/50\n",
      "21/21 [==============================] - 6s 257ms/step - loss: 0.3633 - accuracy: 0.8571 - val_loss: 0.3951 - val_accuracy: 0.7892\n",
      "Epoch 32/50\n",
      "21/21 [==============================] - 6s 257ms/step - loss: 0.3646 - accuracy: 0.8586 - val_loss: 0.3981 - val_accuracy: 0.7952\n",
      "Epoch 33/50\n",
      "21/21 [==============================] - 6s 257ms/step - loss: 0.3683 - accuracy: 0.8271 - val_loss: 0.3819 - val_accuracy: 0.7952\n",
      "Epoch 34/50\n",
      "21/21 [==============================] - 6s 257ms/step - loss: 0.3620 - accuracy: 0.8496 - val_loss: 0.3750 - val_accuracy: 0.8253\n",
      "Epoch 35/50\n",
      "21/21 [==============================] - 6s 257ms/step - loss: 0.3468 - accuracy: 0.8511 - val_loss: 0.4041 - val_accuracy: 0.7590\n",
      "Epoch 36/50\n",
      "21/21 [==============================] - 6s 257ms/step - loss: 0.3461 - accuracy: 0.8602 - val_loss: 0.3917 - val_accuracy: 0.7952\n",
      "Epoch 37/50\n",
      "21/21 [==============================] - 6s 257ms/step - loss: 0.3281 - accuracy: 0.8737 - val_loss: 0.4079 - val_accuracy: 0.7711\n",
      "Epoch 38/50\n",
      "21/21 [==============================] - 6s 257ms/step - loss: 0.3368 - accuracy: 0.8677 - val_loss: 0.3857 - val_accuracy: 0.8193\n",
      "Epoch 39/50\n",
      "21/21 [==============================] - 6s 257ms/step - loss: 0.3394 - accuracy: 0.8586 - val_loss: 0.3774 - val_accuracy: 0.8012\n",
      "Epoch 40/50\n",
      "21/21 [==============================] - 6s 257ms/step - loss: 0.3365 - accuracy: 0.8617 - val_loss: 0.3632 - val_accuracy: 0.8193\n",
      "Epoch 41/50\n",
      "21/21 [==============================] - 6s 258ms/step - loss: 0.3210 - accuracy: 0.8752 - val_loss: 0.3653 - val_accuracy: 0.8133\n",
      "Epoch 42/50\n",
      "21/21 [==============================] - 6s 257ms/step - loss: 0.3185 - accuracy: 0.8692 - val_loss: 0.3499 - val_accuracy: 0.8133\n",
      "Epoch 43/50\n",
      "21/21 [==============================] - 6s 257ms/step - loss: 0.3135 - accuracy: 0.8677 - val_loss: 0.3819 - val_accuracy: 0.7892\n",
      "Epoch 44/50\n",
      "21/21 [==============================] - 6s 257ms/step - loss: 0.3113 - accuracy: 0.8737 - val_loss: 0.3890 - val_accuracy: 0.8072\n",
      "Epoch 45/50\n",
      "21/21 [==============================] - 6s 260ms/step - loss: 0.3173 - accuracy: 0.8617 - val_loss: 0.3544 - val_accuracy: 0.8253\n",
      "Epoch 46/50\n",
      "21/21 [==============================] - 6s 257ms/step - loss: 0.3085 - accuracy: 0.8782 - val_loss: 0.3566 - val_accuracy: 0.8012\n",
      "Epoch 47/50\n",
      "21/21 [==============================] - 6s 258ms/step - loss: 0.3096 - accuracy: 0.8782 - val_loss: 0.3752 - val_accuracy: 0.8012\n",
      "Epoch 48/50\n",
      "21/21 [==============================] - 6s 257ms/step - loss: 0.3055 - accuracy: 0.8677 - val_loss: 0.3727 - val_accuracy: 0.8012\n",
      "Epoch 49/50\n",
      "21/21 [==============================] - 6s 257ms/step - loss: 0.3058 - accuracy: 0.8872 - val_loss: 0.3607 - val_accuracy: 0.8313\n",
      "Epoch 50/50\n",
      "21/21 [==============================] - 6s 257ms/step - loss: 0.2846 - accuracy: 0.8872 - val_loss: 0.3963 - val_accuracy: 0.8012\n"
     ]
    }
   ],
   "source": [
    "# Train the model\n",
    "history = model.fit(\n",
    "    train_generator,\n",
    "    validation_data=validation_generator,\n",
    "    epochs=50,\n",
    ")"
   ]
  },
  {
   "cell_type": "code",
   "execution_count": 11,
   "id": "5706f4c1",
   "metadata": {},
   "outputs": [
    {
     "name": "stdout",
     "output_type": "stream",
     "text": [
      "6/6 [==============================] - 1s 168ms/step - loss: 0.3861 - accuracy: 0.7952\n",
      "Validation Accuracy: 79.52%\n"
     ]
    },
    {
     "name": "stderr",
     "output_type": "stream",
     "text": [
      "2025-04-02 10:58:14.456897: I tensorflow/core/grappler/optimizers/custom_graph_optimizer_registry.cc:114] Plugin optimizer for device_type GPU is enabled.\n"
     ]
    },
    {
     "name": "stdout",
     "output_type": "stream",
     "text": [
      "6/6 [==============================] - 1s 196ms/step\n",
      "\n",
      "Classification Report:\n",
      "              precision    recall  f1-score   support\n",
      "\n",
      "           0       0.73      0.92      0.81       122\n",
      "           1       0.23      0.07      0.11        44\n",
      "\n",
      "    accuracy                           0.69       166\n",
      "   macro avg       0.48      0.49      0.46       166\n",
      "weighted avg       0.60      0.69      0.63       166\n",
      "\n",
      "\n",
      "Confusion Matrix:\n",
      "[[112  10]\n",
      " [ 41   3]]\n"
     ]
    }
   ],
   "source": [
    "val_loss, val_accuracy = model.evaluate(validation_generator)\n",
    "print(f\"Validation Accuracy: {val_accuracy * 100:.2f}%\")\n",
    "\n",
    "validation_generator.reset()\n",
    "predictions = (model.predict(validation_generator) > 0.5).astype(\"int64\")\n",
    "true_classes = validation_generator.classes\n",
    "\n",
    "print(\"\\nClassification Report:\")\n",
    "print(classification_report(true_classes, predictions))\n",
    "\n",
    "print(\"\\nConfusion Matrix:\")\n",
    "print(confusion_matrix(true_classes, predictions))"
   ]
  }
 ],
 "metadata": {
  "kaggle": {
   "accelerator": "gpu",
   "dataSources": [
    {
     "datasetId": 1685415,
     "sourceId": 2762111,
     "sourceType": "datasetVersion"
    }
   ],
   "dockerImageVersionId": 30648,
   "isGpuEnabled": true,
   "isInternetEnabled": true,
   "language": "python",
   "sourceType": "notebook"
  },
  "kernelspec": {
   "display_name": "Python 3",
   "language": "python",
   "name": "python3"
  },
  "language_info": {
   "codemirror_mode": {
    "name": "ipython",
    "version": 3
   },
   "file_extension": ".py",
   "mimetype": "text/x-python",
   "name": "python",
   "nbconvert_exporter": "python",
   "pygments_lexer": "ipython3",
   "version": "3.8.16"
  },
  "papermill": {
   "default_parameters": {},
   "duration": 695.546863,
   "end_time": "2024-02-13T15:29:11.942165",
   "environment_variables": {},
   "exception": null,
   "input_path": "__notebook__.ipynb",
   "output_path": "__notebook__.ipynb",
   "parameters": {},
   "start_time": "2024-02-13T15:17:36.395302",
   "version": "2.5.0"
  }
 },
 "nbformat": 4,
 "nbformat_minor": 5
}
