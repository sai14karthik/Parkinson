{
 "cells": [
  {
   "cell_type": "code",
   "execution_count": 12,
   "id": "d5928da8",
   "metadata": {},
   "outputs": [],
   "source": [
    "import os\n",
    "import numpy as np\n",
    "import pandas as pd\n",
    "from tensorflow.keras.applications import VGG16\n",
    "from tensorflow.keras.models import Model, Sequential\n",
    "from tensorflow.keras.layers import Dense, Flatten, Dropout, GlobalAveragePooling2D\n",
    "from tensorflow.keras.preprocessing.image import ImageDataGenerator\n",
    "from tensorflow.keras.optimizers import Adam\n",
    "from sklearn.metrics import classification_report, confusion_matrix"
   ]
  },
  {
   "cell_type": "code",
   "execution_count": 13,
   "id": "d7851ba1",
   "metadata": {},
   "outputs": [],
   "source": [
    "data_dir = '/Users/saikarthik/Downloads/untitled folder/parkinsons_dataset'\n"
   ]
  },
  {
   "cell_type": "code",
   "execution_count": null,
   "id": "66c3dd9b",
   "metadata": {},
   "outputs": [],
   "source": [
    "img_height, img_width = 224, 224 \n",
    "batch_size = 32\n"
   ]
  },
  {
   "cell_type": "code",
   "execution_count": 15,
   "id": "af6d12a2",
   "metadata": {},
   "outputs": [],
   "source": [
    "datagen = ImageDataGenerator(\n",
    "    rescale=1.0 / 255,\n",
    "    validation_split=0.2,  \n",
    "    rotation_range=20,\n",
    "    width_shift_range=0.2,\n",
    "    height_shift_range=0.2,\n",
    "    shear_range=0.2,\n",
    "    zoom_range=0.2,\n",
    "    horizontal_flip=True,\n",
    ")\n"
   ]
  },
  {
   "cell_type": "code",
   "execution_count": 16,
   "id": "bf0d4695",
   "metadata": {},
   "outputs": [
    {
     "name": "stdout",
     "output_type": "stream",
     "text": [
      "Found 665 images belonging to 2 classes.\n"
     ]
    }
   ],
   "source": [
    "\n",
    "train_generator = datagen.flow_from_directory(\n",
    "    data_dir,\n",
    "    target_size=(img_height, img_width),\n",
    "    batch_size=batch_size,\n",
    "    class_mode='binary',\n",
    "    subset='training',\n",
    ")"
   ]
  },
  {
   "cell_type": "code",
   "execution_count": 17,
   "id": "7467fe4b",
   "metadata": {},
   "outputs": [
    {
     "name": "stdout",
     "output_type": "stream",
     "text": [
      "Found 166 images belonging to 2 classes.\n"
     ]
    }
   ],
   "source": [
    "\n",
    "validation_generator = datagen.flow_from_directory(\n",
    "    data_dir,\n",
    "    target_size=(img_height, img_width),\n",
    "    batch_size=batch_size,\n",
    "    class_mode='binary',\n",
    "    subset='validation',\n",
    ")"
   ]
  },
  {
   "cell_type": "code",
   "execution_count": 18,
   "id": "ebc0cc15",
   "metadata": {},
   "outputs": [],
   "source": [
    "base_model = VGG16(weights='imagenet', include_top=False, input_shape=(img_height, img_width, 3))\n"
   ]
  },
  {
   "cell_type": "code",
   "execution_count": 19,
   "id": "c62cda15",
   "metadata": {},
   "outputs": [],
   "source": [
    "for layer in base_model.layers:\n",
    "    layer.trainable = False\n",
    "\n",
    "model = Sequential([\n",
    "    base_model,\n",
    "    GlobalAveragePooling2D(),\n",
    "    Dense(256, activation='relu'),\n",
    "    Dropout(0.5),\n",
    "    Dense(1, activation='sigmoid')\n",
    "])\n"
   ]
  },
  {
   "cell_type": "code",
   "execution_count": 20,
   "id": "0ef99f53",
   "metadata": {},
   "outputs": [
    {
     "name": "stderr",
     "output_type": "stream",
     "text": [
      "WARNING:absl:At this time, the v2.11+ optimizer `tf.keras.optimizers.Adam` runs slowly on M1/M2 Macs, please use the legacy Keras optimizer instead, located at `tf.keras.optimizers.legacy.Adam`.\n",
      "WARNING:absl:There is a known slowdown when using v2.11+ Keras optimizers on M1/M2 Macs. Falling back to the legacy Keras optimizer, i.e., `tf.keras.optimizers.legacy.Adam`.\n"
     ]
    }
   ],
   "source": [
    "model.compile(optimizer=Adam(learning_rate=0.0001), loss='binary_crossentropy', metrics=['accuracy'])"
   ]
  },
  {
   "cell_type": "code",
   "execution_count": 21,
   "id": "9813ed99",
   "metadata": {},
   "outputs": [
    {
     "name": "stdout",
     "output_type": "stream",
     "text": [
      "Epoch 1/100\n"
     ]
    },
    {
     "name": "stderr",
     "output_type": "stream",
     "text": [
      "2025-04-02 11:07:33.151018: I tensorflow/core/grappler/optimizers/custom_graph_optimizer_registry.cc:114] Plugin optimizer for device_type GPU is enabled.\n"
     ]
    },
    {
     "name": "stdout",
     "output_type": "stream",
     "text": [
      "21/21 [==============================] - ETA: 0s - loss: 0.6394 - accuracy: 0.6872"
     ]
    },
    {
     "name": "stderr",
     "output_type": "stream",
     "text": [
      "2025-04-02 11:07:38.620432: I tensorflow/core/grappler/optimizers/custom_graph_optimizer_registry.cc:114] Plugin optimizer for device_type GPU is enabled.\n"
     ]
    },
    {
     "name": "stdout",
     "output_type": "stream",
     "text": [
      "21/21 [==============================] - 7s 302ms/step - loss: 0.6394 - accuracy: 0.6872 - val_loss: 0.6026 - val_accuracy: 0.7349\n",
      "Epoch 2/100\n",
      "21/21 [==============================] - 6s 259ms/step - loss: 0.6033 - accuracy: 0.7278 - val_loss: 0.5890 - val_accuracy: 0.7349\n",
      "Epoch 3/100\n",
      "21/21 [==============================] - 6s 264ms/step - loss: 0.5868 - accuracy: 0.7323 - val_loss: 0.5698 - val_accuracy: 0.7349\n",
      "Epoch 4/100\n",
      "21/21 [==============================] - 6s 266ms/step - loss: 0.5662 - accuracy: 0.7278 - val_loss: 0.5639 - val_accuracy: 0.7349\n",
      "Epoch 5/100\n",
      "21/21 [==============================] - 6s 263ms/step - loss: 0.5643 - accuracy: 0.7368 - val_loss: 0.5516 - val_accuracy: 0.7349\n",
      "Epoch 6/100\n",
      "21/21 [==============================] - 6s 262ms/step - loss: 0.5356 - accuracy: 0.7474 - val_loss: 0.5361 - val_accuracy: 0.7349\n",
      "Epoch 7/100\n",
      "21/21 [==============================] - 6s 270ms/step - loss: 0.5145 - accuracy: 0.7504 - val_loss: 0.5283 - val_accuracy: 0.7349\n",
      "Epoch 8/100\n",
      "21/21 [==============================] - 6s 260ms/step - loss: 0.5207 - accuracy: 0.7519 - val_loss: 0.5155 - val_accuracy: 0.7349\n",
      "Epoch 9/100\n",
      "21/21 [==============================] - 6s 258ms/step - loss: 0.5091 - accuracy: 0.7489 - val_loss: 0.5067 - val_accuracy: 0.7349\n",
      "Epoch 10/100\n",
      "21/21 [==============================] - 6s 261ms/step - loss: 0.4906 - accuracy: 0.7639 - val_loss: 0.4983 - val_accuracy: 0.7349\n",
      "Epoch 11/100\n",
      "21/21 [==============================] - 6s 269ms/step - loss: 0.4887 - accuracy: 0.7624 - val_loss: 0.4927 - val_accuracy: 0.7349\n",
      "Epoch 12/100\n",
      "21/21 [==============================] - 6s 270ms/step - loss: 0.4711 - accuracy: 0.7609 - val_loss: 0.4766 - val_accuracy: 0.7410\n",
      "Epoch 13/100\n",
      "21/21 [==============================] - 6s 266ms/step - loss: 0.4678 - accuracy: 0.7805 - val_loss: 0.4710 - val_accuracy: 0.7410\n",
      "Epoch 14/100\n",
      "21/21 [==============================] - 6s 261ms/step - loss: 0.4466 - accuracy: 0.7805 - val_loss: 0.4624 - val_accuracy: 0.7410\n",
      "Epoch 15/100\n",
      "21/21 [==============================] - 6s 269ms/step - loss: 0.4419 - accuracy: 0.7970 - val_loss: 0.4562 - val_accuracy: 0.7410\n",
      "Epoch 16/100\n",
      "21/21 [==============================] - 6s 267ms/step - loss: 0.4469 - accuracy: 0.7970 - val_loss: 0.4508 - val_accuracy: 0.7470\n",
      "Epoch 17/100\n",
      "21/21 [==============================] - 6s 261ms/step - loss: 0.4332 - accuracy: 0.7925 - val_loss: 0.4405 - val_accuracy: 0.7590\n",
      "Epoch 18/100\n",
      "21/21 [==============================] - 6s 261ms/step - loss: 0.4332 - accuracy: 0.7865 - val_loss: 0.4385 - val_accuracy: 0.7651\n",
      "Epoch 19/100\n",
      "21/21 [==============================] - 6s 258ms/step - loss: 0.4184 - accuracy: 0.8256 - val_loss: 0.4267 - val_accuracy: 0.7651\n",
      "Epoch 20/100\n",
      "21/21 [==============================] - 6s 257ms/step - loss: 0.4026 - accuracy: 0.8211 - val_loss: 0.4242 - val_accuracy: 0.7651\n",
      "Epoch 21/100\n",
      "21/21 [==============================] - 6s 256ms/step - loss: 0.4113 - accuracy: 0.8150 - val_loss: 0.4209 - val_accuracy: 0.7771\n",
      "Epoch 22/100\n",
      "21/21 [==============================] - 6s 258ms/step - loss: 0.4037 - accuracy: 0.8271 - val_loss: 0.4194 - val_accuracy: 0.7711\n",
      "Epoch 23/100\n",
      "21/21 [==============================] - 6s 262ms/step - loss: 0.3935 - accuracy: 0.8241 - val_loss: 0.4248 - val_accuracy: 0.7651\n",
      "Epoch 24/100\n",
      "21/21 [==============================] - 6s 266ms/step - loss: 0.3817 - accuracy: 0.8421 - val_loss: 0.4128 - val_accuracy: 0.7831\n",
      "Epoch 25/100\n",
      "21/21 [==============================] - 6s 259ms/step - loss: 0.3882 - accuracy: 0.8180 - val_loss: 0.4061 - val_accuracy: 0.7831\n",
      "Epoch 26/100\n",
      "21/21 [==============================] - 6s 266ms/step - loss: 0.3734 - accuracy: 0.8376 - val_loss: 0.3945 - val_accuracy: 0.8072\n",
      "Epoch 27/100\n",
      "21/21 [==============================] - 6s 257ms/step - loss: 0.3754 - accuracy: 0.8376 - val_loss: 0.3990 - val_accuracy: 0.7831\n",
      "Epoch 28/100\n",
      "21/21 [==============================] - 6s 268ms/step - loss: 0.3711 - accuracy: 0.8496 - val_loss: 0.4025 - val_accuracy: 0.7952\n",
      "Epoch 29/100\n",
      "21/21 [==============================] - 6s 263ms/step - loss: 0.3650 - accuracy: 0.8496 - val_loss: 0.3901 - val_accuracy: 0.8012\n",
      "Epoch 30/100\n",
      "21/21 [==============================] - 6s 257ms/step - loss: 0.3554 - accuracy: 0.8571 - val_loss: 0.4175 - val_accuracy: 0.7892\n",
      "Epoch 31/100\n",
      "21/21 [==============================] - 6s 258ms/step - loss: 0.3579 - accuracy: 0.8436 - val_loss: 0.4101 - val_accuracy: 0.7831\n",
      "Epoch 32/100\n",
      "21/21 [==============================] - 5s 256ms/step - loss: 0.3582 - accuracy: 0.8481 - val_loss: 0.3809 - val_accuracy: 0.8193\n",
      "Epoch 33/100\n",
      "21/21 [==============================] - 6s 257ms/step - loss: 0.3465 - accuracy: 0.8511 - val_loss: 0.4157 - val_accuracy: 0.7711\n",
      "Epoch 34/100\n",
      "21/21 [==============================] - 6s 256ms/step - loss: 0.3388 - accuracy: 0.8586 - val_loss: 0.3941 - val_accuracy: 0.7952\n",
      "Epoch 35/100\n",
      "21/21 [==============================] - 5s 257ms/step - loss: 0.3304 - accuracy: 0.8752 - val_loss: 0.3813 - val_accuracy: 0.8193\n",
      "Epoch 36/100\n",
      "21/21 [==============================] - 5s 255ms/step - loss: 0.3365 - accuracy: 0.8617 - val_loss: 0.3923 - val_accuracy: 0.7892\n",
      "Epoch 37/100\n",
      "21/21 [==============================] - 5s 256ms/step - loss: 0.3322 - accuracy: 0.8602 - val_loss: 0.3717 - val_accuracy: 0.8373\n",
      "Epoch 38/100\n",
      "21/21 [==============================] - 5s 256ms/step - loss: 0.3341 - accuracy: 0.8647 - val_loss: 0.3737 - val_accuracy: 0.8193\n",
      "Epoch 39/100\n",
      "21/21 [==============================] - 6s 257ms/step - loss: 0.3222 - accuracy: 0.8617 - val_loss: 0.3948 - val_accuracy: 0.7952\n",
      "Epoch 40/100\n",
      "21/21 [==============================] - 6s 256ms/step - loss: 0.3243 - accuracy: 0.8722 - val_loss: 0.3738 - val_accuracy: 0.8193\n",
      "Epoch 41/100\n",
      "21/21 [==============================] - 6s 256ms/step - loss: 0.3227 - accuracy: 0.8722 - val_loss: 0.3807 - val_accuracy: 0.8253\n",
      "Epoch 42/100\n",
      "21/21 [==============================] - 6s 257ms/step - loss: 0.3065 - accuracy: 0.8887 - val_loss: 0.3674 - val_accuracy: 0.8012\n",
      "Epoch 43/100\n",
      "21/21 [==============================] - 6s 257ms/step - loss: 0.3083 - accuracy: 0.8812 - val_loss: 0.3687 - val_accuracy: 0.8133\n",
      "Epoch 44/100\n",
      "21/21 [==============================] - 6s 263ms/step - loss: 0.3045 - accuracy: 0.8902 - val_loss: 0.3781 - val_accuracy: 0.8072\n",
      "Epoch 45/100\n",
      "21/21 [==============================] - 5s 255ms/step - loss: 0.3032 - accuracy: 0.8752 - val_loss: 0.3863 - val_accuracy: 0.7952\n",
      "Epoch 46/100\n",
      "21/21 [==============================] - 5s 256ms/step - loss: 0.3060 - accuracy: 0.8767 - val_loss: 0.3469 - val_accuracy: 0.8133\n",
      "Epoch 47/100\n",
      "21/21 [==============================] - 5s 255ms/step - loss: 0.2902 - accuracy: 0.8857 - val_loss: 0.3530 - val_accuracy: 0.8193\n",
      "Epoch 48/100\n",
      "21/21 [==============================] - 6s 256ms/step - loss: 0.2907 - accuracy: 0.8812 - val_loss: 0.3795 - val_accuracy: 0.8072\n",
      "Epoch 49/100\n",
      "21/21 [==============================] - 5s 255ms/step - loss: 0.2824 - accuracy: 0.8917 - val_loss: 0.3789 - val_accuracy: 0.8012\n",
      "Epoch 50/100\n",
      "21/21 [==============================] - 5s 256ms/step - loss: 0.2755 - accuracy: 0.8977 - val_loss: 0.3693 - val_accuracy: 0.8133\n",
      "Epoch 51/100\n",
      "21/21 [==============================] - 5s 255ms/step - loss: 0.2840 - accuracy: 0.8902 - val_loss: 0.3563 - val_accuracy: 0.8253\n",
      "Epoch 52/100\n",
      "21/21 [==============================] - 5s 256ms/step - loss: 0.2862 - accuracy: 0.8917 - val_loss: 0.3302 - val_accuracy: 0.8614\n",
      "Epoch 53/100\n",
      "21/21 [==============================] - 5s 255ms/step - loss: 0.2726 - accuracy: 0.9008 - val_loss: 0.3391 - val_accuracy: 0.8434\n",
      "Epoch 54/100\n",
      "21/21 [==============================] - 5s 255ms/step - loss: 0.2722 - accuracy: 0.9038 - val_loss: 0.3381 - val_accuracy: 0.8434\n",
      "Epoch 55/100\n",
      "21/21 [==============================] - 6s 261ms/step - loss: 0.2693 - accuracy: 0.9083 - val_loss: 0.3781 - val_accuracy: 0.8313\n",
      "Epoch 56/100\n",
      "21/21 [==============================] - 6s 262ms/step - loss: 0.2682 - accuracy: 0.8977 - val_loss: 0.3427 - val_accuracy: 0.8313\n",
      "Epoch 57/100\n",
      "21/21 [==============================] - 6s 284ms/step - loss: 0.2672 - accuracy: 0.9038 - val_loss: 0.3464 - val_accuracy: 0.8253\n",
      "Epoch 58/100\n",
      "21/21 [==============================] - 6s 284ms/step - loss: 0.2687 - accuracy: 0.9098 - val_loss: 0.3476 - val_accuracy: 0.8554\n",
      "Epoch 59/100\n",
      "21/21 [==============================] - 6s 261ms/step - loss: 0.2579 - accuracy: 0.9053 - val_loss: 0.3476 - val_accuracy: 0.8193\n",
      "Epoch 60/100\n",
      "21/21 [==============================] - 6s 257ms/step - loss: 0.2553 - accuracy: 0.9008 - val_loss: 0.3694 - val_accuracy: 0.8133\n",
      "Epoch 61/100\n",
      "21/21 [==============================] - 6s 271ms/step - loss: 0.2491 - accuracy: 0.8992 - val_loss: 0.3491 - val_accuracy: 0.8494\n",
      "Epoch 62/100\n",
      "21/21 [==============================] - 6s 267ms/step - loss: 0.2564 - accuracy: 0.9053 - val_loss: 0.3476 - val_accuracy: 0.8193\n",
      "Epoch 63/100\n",
      "21/21 [==============================] - 6s 269ms/step - loss: 0.2587 - accuracy: 0.8902 - val_loss: 0.3445 - val_accuracy: 0.8253\n",
      "Epoch 64/100\n",
      "21/21 [==============================] - 6s 272ms/step - loss: 0.2654 - accuracy: 0.8872 - val_loss: 0.3465 - val_accuracy: 0.8373\n",
      "Epoch 65/100\n",
      "21/21 [==============================] - 6s 277ms/step - loss: 0.2513 - accuracy: 0.9158 - val_loss: 0.3594 - val_accuracy: 0.8193\n",
      "Epoch 66/100\n",
      "21/21 [==============================] - 6s 276ms/step - loss: 0.2485 - accuracy: 0.9143 - val_loss: 0.3181 - val_accuracy: 0.8735\n",
      "Epoch 67/100\n",
      "21/21 [==============================] - 6s 285ms/step - loss: 0.2355 - accuracy: 0.9203 - val_loss: 0.3494 - val_accuracy: 0.8253\n",
      "Epoch 68/100\n",
      "21/21 [==============================] - 6s 278ms/step - loss: 0.2374 - accuracy: 0.9248 - val_loss: 0.3446 - val_accuracy: 0.8313\n",
      "Epoch 69/100\n",
      "21/21 [==============================] - 6s 280ms/step - loss: 0.2369 - accuracy: 0.9173 - val_loss: 0.3582 - val_accuracy: 0.8253\n",
      "Epoch 70/100\n",
      "21/21 [==============================] - 6s 279ms/step - loss: 0.2424 - accuracy: 0.9098 - val_loss: 0.3674 - val_accuracy: 0.8253\n",
      "Epoch 71/100\n",
      "21/21 [==============================] - 6s 282ms/step - loss: 0.2276 - accuracy: 0.9278 - val_loss: 0.3369 - val_accuracy: 0.8434\n",
      "Epoch 72/100\n",
      "21/21 [==============================] - 6s 283ms/step - loss: 0.2323 - accuracy: 0.9218 - val_loss: 0.3572 - val_accuracy: 0.8434\n",
      "Epoch 73/100\n",
      "21/21 [==============================] - 6s 285ms/step - loss: 0.2388 - accuracy: 0.9173 - val_loss: 0.3236 - val_accuracy: 0.8614\n",
      "Epoch 74/100\n",
      "21/21 [==============================] - 6s 283ms/step - loss: 0.2329 - accuracy: 0.9203 - val_loss: 0.3322 - val_accuracy: 0.8434\n",
      "Epoch 75/100\n",
      "21/21 [==============================] - 6s 287ms/step - loss: 0.2337 - accuracy: 0.9248 - val_loss: 0.3079 - val_accuracy: 0.8795\n",
      "Epoch 76/100\n",
      "21/21 [==============================] - 6s 288ms/step - loss: 0.2382 - accuracy: 0.9038 - val_loss: 0.3448 - val_accuracy: 0.8193\n",
      "Epoch 77/100\n",
      "21/21 [==============================] - 6s 288ms/step - loss: 0.2175 - accuracy: 0.9293 - val_loss: 0.3102 - val_accuracy: 0.8614\n",
      "Epoch 78/100\n",
      "21/21 [==============================] - 6s 291ms/step - loss: 0.2217 - accuracy: 0.9218 - val_loss: 0.3378 - val_accuracy: 0.8554\n",
      "Epoch 79/100\n",
      "21/21 [==============================] - 6s 293ms/step - loss: 0.2180 - accuracy: 0.9263 - val_loss: 0.3350 - val_accuracy: 0.8554\n",
      "Epoch 80/100\n",
      "21/21 [==============================] - 6s 292ms/step - loss: 0.2236 - accuracy: 0.9263 - val_loss: 0.3182 - val_accuracy: 0.8675\n",
      "Epoch 81/100\n",
      "21/21 [==============================] - 6s 295ms/step - loss: 0.2129 - accuracy: 0.9338 - val_loss: 0.3315 - val_accuracy: 0.8373\n",
      "Epoch 82/100\n",
      "21/21 [==============================] - 6s 296ms/step - loss: 0.2256 - accuracy: 0.9128 - val_loss: 0.3383 - val_accuracy: 0.8373\n",
      "Epoch 83/100\n",
      "21/21 [==============================] - 7s 306ms/step - loss: 0.2028 - accuracy: 0.9323 - val_loss: 0.3540 - val_accuracy: 0.8313\n",
      "Epoch 84/100\n",
      "21/21 [==============================] - 7s 316ms/step - loss: 0.2064 - accuracy: 0.9308 - val_loss: 0.3122 - val_accuracy: 0.8614\n",
      "Epoch 85/100\n",
      "21/21 [==============================] - 7s 311ms/step - loss: 0.2010 - accuracy: 0.9353 - val_loss: 0.3347 - val_accuracy: 0.8373\n",
      "Epoch 86/100\n",
      "21/21 [==============================] - 7s 305ms/step - loss: 0.2031 - accuracy: 0.9338 - val_loss: 0.3286 - val_accuracy: 0.8554\n",
      "Epoch 87/100\n",
      "21/21 [==============================] - 7s 305ms/step - loss: 0.2078 - accuracy: 0.9278 - val_loss: 0.3202 - val_accuracy: 0.8735\n",
      "Epoch 88/100\n",
      "21/21 [==============================] - 7s 306ms/step - loss: 0.2154 - accuracy: 0.9293 - val_loss: 0.3213 - val_accuracy: 0.8554\n",
      "Epoch 89/100\n",
      "21/21 [==============================] - 7s 309ms/step - loss: 0.2059 - accuracy: 0.9218 - val_loss: 0.3195 - val_accuracy: 0.8614\n",
      "Epoch 90/100\n",
      "21/21 [==============================] - 7s 309ms/step - loss: 0.1977 - accuracy: 0.9338 - val_loss: 0.3083 - val_accuracy: 0.8675\n",
      "Epoch 91/100\n",
      "21/21 [==============================] - 7s 314ms/step - loss: 0.2058 - accuracy: 0.9293 - val_loss: 0.3055 - val_accuracy: 0.8675\n",
      "Epoch 92/100\n",
      "21/21 [==============================] - 7s 321ms/step - loss: 0.1959 - accuracy: 0.9398 - val_loss: 0.3238 - val_accuracy: 0.8494\n",
      "Epoch 93/100\n",
      "21/21 [==============================] - 7s 325ms/step - loss: 0.1990 - accuracy: 0.9338 - val_loss: 0.2759 - val_accuracy: 0.8795\n",
      "Epoch 94/100\n",
      "21/21 [==============================] - 7s 317ms/step - loss: 0.1974 - accuracy: 0.9278 - val_loss: 0.3075 - val_accuracy: 0.8373\n",
      "Epoch 95/100\n",
      "21/21 [==============================] - 7s 322ms/step - loss: 0.1896 - accuracy: 0.9474 - val_loss: 0.3100 - val_accuracy: 0.8795\n",
      "Epoch 96/100\n",
      "21/21 [==============================] - 7s 323ms/step - loss: 0.1957 - accuracy: 0.9323 - val_loss: 0.2838 - val_accuracy: 0.8795\n",
      "Epoch 97/100\n",
      "21/21 [==============================] - 7s 338ms/step - loss: 0.1920 - accuracy: 0.9383 - val_loss: 0.3081 - val_accuracy: 0.8916\n",
      "Epoch 98/100\n",
      "21/21 [==============================] - 7s 336ms/step - loss: 0.1825 - accuracy: 0.9444 - val_loss: 0.2997 - val_accuracy: 0.8614\n",
      "Epoch 99/100\n",
      "21/21 [==============================] - 7s 327ms/step - loss: 0.1873 - accuracy: 0.9278 - val_loss: 0.2914 - val_accuracy: 0.8976\n",
      "Epoch 100/100\n",
      "21/21 [==============================] - 7s 330ms/step - loss: 0.1985 - accuracy: 0.9338 - val_loss: 0.3378 - val_accuracy: 0.8313\n"
     ]
    }
   ],
   "source": [
    "# Train the model\n",
    "history = model.fit(\n",
    "    train_generator,\n",
    "    validation_data=validation_generator,\n",
    "    epochs=100,\n",
    ")"
   ]
  },
  {
   "cell_type": "code",
   "execution_count": 25,
   "id": "5706f4c1",
   "metadata": {},
   "outputs": [
    {
     "name": "stdout",
     "output_type": "stream",
     "text": [
      "6/6 [==============================] - 1s 166ms/step - loss: 0.3174 - accuracy: 0.8675\n",
      "Validation Accuracy: 86.75%\n",
      "6/6 [==============================] - 1s 195ms/step\n",
      "\n",
      "Classification Report:\n",
      "              precision    recall  f1-score   support\n",
      "\n",
      "           0       0.74      0.85      0.79       122\n",
      "           1       0.28      0.16      0.20        44\n",
      "\n",
      "    accuracy                           0.67       166\n",
      "   macro avg       0.51      0.51      0.50       166\n",
      "weighted avg       0.62      0.67      0.64       166\n",
      "\n",
      "\n",
      "Confusion Matrix:\n",
      "[[104  18]\n",
      " [ 37   7]]\n"
     ]
    }
   ],
   "source": [
    "val_loss, val_accuracy = model.evaluate(validation_generator)\n",
    "print(f\"Validation Accuracy: {val_accuracy * 100:.2f}%\")\n",
    "\n",
    "validation_generator.reset()\n",
    "predictions = (model.predict(validation_generator) > 0.5).astype(\"int64\")\n",
    "true_classes = validation_generator.classes\n",
    "\n",
    "print(\"\\nClassification Report:\")\n",
    "print(classification_report(true_classes, predictions))\n",
    "\n",
    "print(\"\\nConfusion Matrix:\")\n",
    "print(confusion_matrix(true_classes, predictions))"
   ]
  }
 ],
 "metadata": {
  "kaggle": {
   "accelerator": "gpu",
   "dataSources": [
    {
     "datasetId": 1685415,
     "sourceId": 2762111,
     "sourceType": "datasetVersion"
    }
   ],
   "dockerImageVersionId": 30648,
   "isGpuEnabled": true,
   "isInternetEnabled": true,
   "language": "python",
   "sourceType": "notebook"
  },
  "kernelspec": {
   "display_name": "Python 3",
   "language": "python",
   "name": "python3"
  },
  "language_info": {
   "codemirror_mode": {
    "name": "ipython",
    "version": 3
   },
   "file_extension": ".py",
   "mimetype": "text/x-python",
   "name": "python",
   "nbconvert_exporter": "python",
   "pygments_lexer": "ipython3",
   "version": "3.8.16"
  },
  "papermill": {
   "default_parameters": {},
   "duration": 695.546863,
   "end_time": "2024-02-13T15:29:11.942165",
   "environment_variables": {},
   "exception": null,
   "input_path": "__notebook__.ipynb",
   "output_path": "__notebook__.ipynb",
   "parameters": {},
   "start_time": "2024-02-13T15:17:36.395302",
   "version": "2.5.0"
  }
 },
 "nbformat": 4,
 "nbformat_minor": 5
}
