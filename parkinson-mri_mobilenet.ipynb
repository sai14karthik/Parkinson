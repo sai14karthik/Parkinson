{
 "cells": [
  {
   "cell_type": "code",
   "execution_count": 1,
   "id": "d5928da8",
   "metadata": {},
   "outputs": [],
   "source": [
    "import os\n",
    "import numpy as np\n",
    "from tensorflow.keras.applications import MobileNet\n",
    "\n",
    "from tensorflow.keras.models import Sequential\n",
    "from tensorflow.keras.layers import Dense, GlobalAveragePooling2D, Dropout\n",
    "from tensorflow.keras.preprocessing.image import ImageDataGenerator\n",
    "from tensorflow.keras.optimizers import Adam\n",
    "from sklearn.metrics import classification_report, confusion_matrix"
   ]
  },
  {
   "cell_type": "code",
   "execution_count": 2,
   "id": "d7851ba1",
   "metadata": {},
   "outputs": [],
   "source": [
    "data_dir = '/Users/saikarthik/Downloads/untitled folder/parkinsons_dataset'\n"
   ]
  },
  {
   "cell_type": "code",
   "execution_count": 3,
   "id": "66c3dd9b",
   "metadata": {},
   "outputs": [],
   "source": [
    "img_height, img_width = 224, 224 \n",
    "batch_size = 32\n"
   ]
  },
  {
   "cell_type": "code",
   "execution_count": 4,
   "id": "af6d12a2",
   "metadata": {},
   "outputs": [],
   "source": [
    "datagen = ImageDataGenerator(\n",
    "    rescale=1.0 / 255,\n",
    "    validation_split=0.2,  \n",
    "    rotation_range=20,\n",
    "    width_shift_range=0.2,\n",
    "    height_shift_range=0.2,\n",
    "    shear_range=0.2,\n",
    "    zoom_range=0.2,\n",
    "    horizontal_flip=True,\n",
    ")\n"
   ]
  },
  {
   "cell_type": "code",
   "execution_count": 5,
   "id": "bf0d4695",
   "metadata": {},
   "outputs": [
    {
     "name": "stdout",
     "output_type": "stream",
     "text": [
      "Found 665 images belonging to 2 classes.\n"
     ]
    }
   ],
   "source": [
    "\n",
    "train_generator = datagen.flow_from_directory(\n",
    "    data_dir,\n",
    "    target_size=(img_height, img_width),\n",
    "    batch_size=batch_size,\n",
    "    class_mode='binary',\n",
    "    subset='training',\n",
    ")"
   ]
  },
  {
   "cell_type": "code",
   "execution_count": 6,
   "id": "7467fe4b",
   "metadata": {},
   "outputs": [
    {
     "name": "stdout",
     "output_type": "stream",
     "text": [
      "Found 166 images belonging to 2 classes.\n"
     ]
    }
   ],
   "source": [
    "\n",
    "validation_generator = datagen.flow_from_directory(\n",
    "    data_dir,\n",
    "    target_size=(img_height, img_width),\n",
    "    batch_size=batch_size,\n",
    "    class_mode='binary',\n",
    "    subset='validation',\n",
    ")"
   ]
  },
  {
   "cell_type": "code",
   "execution_count": 7,
   "id": "ebc0cc15",
   "metadata": {},
   "outputs": [
    {
     "name": "stderr",
     "output_type": "stream",
     "text": [
      "2025-04-02 12:07:07.594574: I metal_plugin/src/device/metal_device.cc:1154] Metal device set to: Apple M1 Pro\n",
      "2025-04-02 12:07:07.594610: I metal_plugin/src/device/metal_device.cc:296] systemMemory: 16.00 GB\n",
      "2025-04-02 12:07:07.594620: I metal_plugin/src/device/metal_device.cc:313] maxCacheSize: 5.33 GB\n",
      "2025-04-02 12:07:07.594657: I tensorflow/core/common_runtime/pluggable_device/pluggable_device_factory.cc:303] Could not identify NUMA node of platform GPU ID 0, defaulting to 0. Your kernel may not have been built with NUMA support.\n",
      "2025-04-02 12:07:07.594670: I tensorflow/core/common_runtime/pluggable_device/pluggable_device_factory.cc:269] Created TensorFlow device (/job:localhost/replica:0/task:0/device:GPU:0 with 0 MB memory) -> physical PluggableDevice (device: 0, name: METAL, pci bus id: <undefined>)\n"
     ]
    },
    {
     "name": "stdout",
     "output_type": "stream",
     "text": [
      "Downloading data from https://storage.googleapis.com/tensorflow/keras-applications/mobilenet/mobilenet_1_0_224_tf_no_top.h5\n",
      "17225924/17225924 [==============================] - 17s 1us/step\n"
     ]
    }
   ],
   "source": [
    "base_model = MobileNet(weights='imagenet', include_top=False, input_shape=(img_height, img_width, 3))"
   ]
  },
  {
   "cell_type": "code",
   "execution_count": 8,
   "id": "f5629127",
   "metadata": {},
   "outputs": [],
   "source": [
    "for layer in base_model.layers:\n",
    "    layer.trainable = False"
   ]
  },
  {
   "cell_type": "code",
   "execution_count": 9,
   "id": "c62cda15",
   "metadata": {},
   "outputs": [],
   "source": [
    "for layer in base_model.layers:\n",
    "    layer.trainable = False\n",
    "\n",
    "model = Sequential([\n",
    "    base_model,\n",
    "    GlobalAveragePooling2D(),\n",
    "    Dense(256, activation='relu'),\n",
    "    Dropout(0.5),\n",
    "    Dense(1, activation='sigmoid')\n",
    "])\n"
   ]
  },
  {
   "cell_type": "code",
   "execution_count": 10,
   "id": "0ef99f53",
   "metadata": {},
   "outputs": [
    {
     "name": "stderr",
     "output_type": "stream",
     "text": [
      "WARNING:absl:At this time, the v2.11+ optimizer `tf.keras.optimizers.Adam` runs slowly on M1/M2 Macs, please use the legacy Keras optimizer instead, located at `tf.keras.optimizers.legacy.Adam`.\n",
      "WARNING:absl:There is a known slowdown when using v2.11+ Keras optimizers on M1/M2 Macs. Falling back to the legacy Keras optimizer, i.e., `tf.keras.optimizers.legacy.Adam`.\n"
     ]
    }
   ],
   "source": [
    "model.compile(optimizer=Adam(learning_rate=0.0001), loss='binary_crossentropy', metrics=['accuracy'])"
   ]
  },
  {
   "cell_type": "code",
   "execution_count": 11,
   "id": "9813ed99",
   "metadata": {},
   "outputs": [
    {
     "name": "stdout",
     "output_type": "stream",
     "text": [
      "Epoch 1/100\n"
     ]
    },
    {
     "name": "stderr",
     "output_type": "stream",
     "text": [
      "2025-04-02 12:07:28.557991: I tensorflow/core/grappler/optimizers/custom_graph_optimizer_registry.cc:114] Plugin optimizer for device_type GPU is enabled.\n"
     ]
    },
    {
     "name": "stdout",
     "output_type": "stream",
     "text": [
      "21/21 [==============================] - ETA: 0s - loss: 0.6762 - accuracy: 0.7008"
     ]
    },
    {
     "name": "stderr",
     "output_type": "stream",
     "text": [
      "2025-04-02 12:07:33.580335: I tensorflow/core/grappler/optimizers/custom_graph_optimizer_registry.cc:114] Plugin optimizer for device_type GPU is enabled.\n"
     ]
    },
    {
     "name": "stdout",
     "output_type": "stream",
     "text": [
      "21/21 [==============================] - 7s 264ms/step - loss: 0.6762 - accuracy: 0.7008 - val_loss: 0.4998 - val_accuracy: 0.7470\n",
      "Epoch 2/100\n",
      "21/21 [==============================] - 5s 235ms/step - loss: 0.4598 - accuracy: 0.8030 - val_loss: 0.3866 - val_accuracy: 0.7952\n",
      "Epoch 3/100\n",
      "21/21 [==============================] - 5s 237ms/step - loss: 0.3791 - accuracy: 0.8165 - val_loss: 0.3657 - val_accuracy: 0.7952\n",
      "Epoch 4/100\n",
      "21/21 [==============================] - 5s 244ms/step - loss: 0.3030 - accuracy: 0.8692 - val_loss: 0.3875 - val_accuracy: 0.7892\n",
      "Epoch 5/100\n",
      "21/21 [==============================] - 5s 241ms/step - loss: 0.2403 - accuracy: 0.9158 - val_loss: 0.3476 - val_accuracy: 0.7952\n",
      "Epoch 6/100\n",
      "21/21 [==============================] - 5s 246ms/step - loss: 0.2204 - accuracy: 0.9173 - val_loss: 0.2962 - val_accuracy: 0.8133\n",
      "Epoch 7/100\n",
      "21/21 [==============================] - 5s 243ms/step - loss: 0.1872 - accuracy: 0.9323 - val_loss: 0.2744 - val_accuracy: 0.8795\n",
      "Epoch 8/100\n",
      "21/21 [==============================] - 5s 244ms/step - loss: 0.1634 - accuracy: 0.9429 - val_loss: 0.2929 - val_accuracy: 0.8313\n",
      "Epoch 9/100\n",
      "21/21 [==============================] - 5s 232ms/step - loss: 0.1461 - accuracy: 0.9444 - val_loss: 0.2712 - val_accuracy: 0.8494\n",
      "Epoch 10/100\n",
      "21/21 [==============================] - 5s 240ms/step - loss: 0.1210 - accuracy: 0.9669 - val_loss: 0.2625 - val_accuracy: 0.8795\n",
      "Epoch 11/100\n",
      "21/21 [==============================] - 5s 233ms/step - loss: 0.1218 - accuracy: 0.9579 - val_loss: 0.2277 - val_accuracy: 0.8976\n",
      "Epoch 12/100\n",
      "21/21 [==============================] - 5s 234ms/step - loss: 0.1039 - accuracy: 0.9684 - val_loss: 0.2447 - val_accuracy: 0.8554\n",
      "Epoch 13/100\n",
      "21/21 [==============================] - 5s 237ms/step - loss: 0.1041 - accuracy: 0.9759 - val_loss: 0.2003 - val_accuracy: 0.8976\n",
      "Epoch 14/100\n",
      "21/21 [==============================] - 5s 228ms/step - loss: 0.0867 - accuracy: 0.9789 - val_loss: 0.2305 - val_accuracy: 0.8554\n",
      "Epoch 15/100\n",
      "21/21 [==============================] - 5s 231ms/step - loss: 0.0929 - accuracy: 0.9714 - val_loss: 0.2348 - val_accuracy: 0.8855\n",
      "Epoch 16/100\n",
      "21/21 [==============================] - 5s 239ms/step - loss: 0.0735 - accuracy: 0.9850 - val_loss: 0.2345 - val_accuracy: 0.8554\n",
      "Epoch 17/100\n",
      "21/21 [==============================] - 5s 237ms/step - loss: 0.0681 - accuracy: 0.9820 - val_loss: 0.2225 - val_accuracy: 0.8795\n",
      "Epoch 18/100\n",
      "21/21 [==============================] - 5s 234ms/step - loss: 0.0619 - accuracy: 0.9880 - val_loss: 0.2326 - val_accuracy: 0.8976\n",
      "Epoch 19/100\n",
      "21/21 [==============================] - 5s 233ms/step - loss: 0.0667 - accuracy: 0.9850 - val_loss: 0.1720 - val_accuracy: 0.9337\n",
      "Epoch 20/100\n",
      "21/21 [==============================] - 5s 232ms/step - loss: 0.0558 - accuracy: 0.9910 - val_loss: 0.1706 - val_accuracy: 0.9157\n",
      "Epoch 21/100\n",
      "21/21 [==============================] - 5s 232ms/step - loss: 0.0633 - accuracy: 0.9835 - val_loss: 0.2205 - val_accuracy: 0.8795\n",
      "Epoch 22/100\n",
      "21/21 [==============================] - 5s 233ms/step - loss: 0.0572 - accuracy: 0.9895 - val_loss: 0.1451 - val_accuracy: 0.9337\n",
      "Epoch 23/100\n",
      "21/21 [==============================] - 5s 225ms/step - loss: 0.0552 - accuracy: 0.9880 - val_loss: 0.1774 - val_accuracy: 0.9157\n",
      "Epoch 24/100\n",
      "21/21 [==============================] - 5s 238ms/step - loss: 0.0592 - accuracy: 0.9865 - val_loss: 0.1784 - val_accuracy: 0.9096\n",
      "Epoch 25/100\n",
      "21/21 [==============================] - 5s 234ms/step - loss: 0.0466 - accuracy: 0.9895 - val_loss: 0.1624 - val_accuracy: 0.9036\n",
      "Epoch 26/100\n",
      "21/21 [==============================] - 5s 229ms/step - loss: 0.0395 - accuracy: 0.9970 - val_loss: 0.1458 - val_accuracy: 0.9458\n",
      "Epoch 27/100\n",
      "21/21 [==============================] - 5s 237ms/step - loss: 0.0336 - accuracy: 0.9970 - val_loss: 0.2092 - val_accuracy: 0.8855\n",
      "Epoch 28/100\n",
      "21/21 [==============================] - 5s 235ms/step - loss: 0.0417 - accuracy: 0.9940 - val_loss: 0.1788 - val_accuracy: 0.9036\n",
      "Epoch 29/100\n",
      "21/21 [==============================] - 5s 244ms/step - loss: 0.0414 - accuracy: 0.9925 - val_loss: 0.1953 - val_accuracy: 0.9157\n",
      "Epoch 30/100\n",
      "21/21 [==============================] - 5s 232ms/step - loss: 0.0484 - accuracy: 0.9835 - val_loss: 0.1479 - val_accuracy: 0.9398\n",
      "Epoch 31/100\n",
      "21/21 [==============================] - 5s 236ms/step - loss: 0.0343 - accuracy: 0.9910 - val_loss: 0.1438 - val_accuracy: 0.9277\n",
      "Epoch 32/100\n",
      "21/21 [==============================] - 5s 236ms/step - loss: 0.0310 - accuracy: 0.9955 - val_loss: 0.1721 - val_accuracy: 0.9096\n",
      "Epoch 33/100\n",
      "21/21 [==============================] - 5s 238ms/step - loss: 0.0285 - accuracy: 0.9955 - val_loss: 0.1614 - val_accuracy: 0.9337\n",
      "Epoch 34/100\n",
      "21/21 [==============================] - 5s 235ms/step - loss: 0.0325 - accuracy: 0.9955 - val_loss: 0.1919 - val_accuracy: 0.8976\n",
      "Epoch 35/100\n",
      "21/21 [==============================] - 5s 238ms/step - loss: 0.0262 - accuracy: 0.9970 - val_loss: 0.2006 - val_accuracy: 0.9036\n",
      "Epoch 36/100\n",
      "21/21 [==============================] - 5s 235ms/step - loss: 0.0301 - accuracy: 0.9955 - val_loss: 0.1423 - val_accuracy: 0.9277\n",
      "Epoch 37/100\n",
      "21/21 [==============================] - 5s 230ms/step - loss: 0.0232 - accuracy: 1.0000 - val_loss: 0.1297 - val_accuracy: 0.9518\n",
      "Epoch 38/100\n",
      "21/21 [==============================] - 5s 236ms/step - loss: 0.0296 - accuracy: 0.9910 - val_loss: 0.1446 - val_accuracy: 0.9277\n",
      "Epoch 39/100\n",
      "21/21 [==============================] - 5s 240ms/step - loss: 0.0266 - accuracy: 0.9955 - val_loss: 0.1992 - val_accuracy: 0.9096\n",
      "Epoch 40/100\n",
      "21/21 [==============================] - 5s 246ms/step - loss: 0.0243 - accuracy: 0.9940 - val_loss: 0.1305 - val_accuracy: 0.9458\n",
      "Epoch 41/100\n",
      "21/21 [==============================] - 5s 230ms/step - loss: 0.0254 - accuracy: 0.9955 - val_loss: 0.1510 - val_accuracy: 0.9157\n",
      "Epoch 42/100\n",
      "21/21 [==============================] - 5s 227ms/step - loss: 0.0230 - accuracy: 0.9970 - val_loss: 0.1251 - val_accuracy: 0.9458\n",
      "Epoch 43/100\n",
      "21/21 [==============================] - 5s 227ms/step - loss: 0.0185 - accuracy: 1.0000 - val_loss: 0.1926 - val_accuracy: 0.8976\n",
      "Epoch 44/100\n",
      "21/21 [==============================] - 5s 226ms/step - loss: 0.0169 - accuracy: 1.0000 - val_loss: 0.1741 - val_accuracy: 0.9036\n",
      "Epoch 45/100\n",
      "21/21 [==============================] - 5s 227ms/step - loss: 0.0206 - accuracy: 0.9985 - val_loss: 0.1108 - val_accuracy: 0.9578\n",
      "Epoch 46/100\n",
      "21/21 [==============================] - 5s 229ms/step - loss: 0.0229 - accuracy: 0.9940 - val_loss: 0.1297 - val_accuracy: 0.9398\n",
      "Epoch 47/100\n",
      "21/21 [==============================] - 5s 242ms/step - loss: 0.0221 - accuracy: 0.9970 - val_loss: 0.1497 - val_accuracy: 0.9277\n",
      "Epoch 48/100\n",
      "21/21 [==============================] - 5s 238ms/step - loss: 0.0221 - accuracy: 0.9955 - val_loss: 0.1848 - val_accuracy: 0.9277\n",
      "Epoch 49/100\n",
      "21/21 [==============================] - 5s 230ms/step - loss: 0.0191 - accuracy: 0.9955 - val_loss: 0.0874 - val_accuracy: 0.9639\n",
      "Epoch 50/100\n",
      "21/21 [==============================] - 5s 229ms/step - loss: 0.0189 - accuracy: 1.0000 - val_loss: 0.1151 - val_accuracy: 0.9398\n",
      "Epoch 51/100\n",
      "21/21 [==============================] - 5s 237ms/step - loss: 0.0156 - accuracy: 0.9955 - val_loss: 0.1299 - val_accuracy: 0.9217\n",
      "Epoch 52/100\n",
      "21/21 [==============================] - 5s 240ms/step - loss: 0.0174 - accuracy: 0.9970 - val_loss: 0.1309 - val_accuracy: 0.9398\n",
      "Epoch 53/100\n",
      "21/21 [==============================] - 5s 240ms/step - loss: 0.0120 - accuracy: 1.0000 - val_loss: 0.1249 - val_accuracy: 0.9458\n",
      "Epoch 54/100\n",
      "21/21 [==============================] - 5s 235ms/step - loss: 0.0172 - accuracy: 0.9970 - val_loss: 0.1939 - val_accuracy: 0.9096\n",
      "Epoch 55/100\n",
      "21/21 [==============================] - 5s 228ms/step - loss: 0.0171 - accuracy: 0.9955 - val_loss: 0.1034 - val_accuracy: 0.9458\n",
      "Epoch 56/100\n",
      "21/21 [==============================] - 5s 228ms/step - loss: 0.0174 - accuracy: 0.9955 - val_loss: 0.1923 - val_accuracy: 0.8976\n",
      "Epoch 57/100\n",
      "21/21 [==============================] - 5s 227ms/step - loss: 0.0163 - accuracy: 0.9985 - val_loss: 0.1320 - val_accuracy: 0.9398\n",
      "Epoch 58/100\n",
      "21/21 [==============================] - 5s 229ms/step - loss: 0.0137 - accuracy: 0.9970 - val_loss: 0.1893 - val_accuracy: 0.9217\n",
      "Epoch 59/100\n",
      "21/21 [==============================] - 5s 228ms/step - loss: 0.0136 - accuracy: 0.9985 - val_loss: 0.1085 - val_accuracy: 0.9458\n",
      "Epoch 60/100\n",
      "21/21 [==============================] - 5s 228ms/step - loss: 0.0113 - accuracy: 0.9970 - val_loss: 0.1040 - val_accuracy: 0.9337\n",
      "Epoch 61/100\n",
      "21/21 [==============================] - 5s 231ms/step - loss: 0.0161 - accuracy: 0.9970 - val_loss: 0.1476 - val_accuracy: 0.9458\n",
      "Epoch 62/100\n",
      "21/21 [==============================] - 5s 236ms/step - loss: 0.0121 - accuracy: 0.9985 - val_loss: 0.0637 - val_accuracy: 0.9819\n",
      "Epoch 63/100\n",
      "21/21 [==============================] - 5s 242ms/step - loss: 0.0114 - accuracy: 1.0000 - val_loss: 0.1492 - val_accuracy: 0.9398\n",
      "Epoch 64/100\n",
      "21/21 [==============================] - 5s 238ms/step - loss: 0.0116 - accuracy: 1.0000 - val_loss: 0.1277 - val_accuracy: 0.9458\n",
      "Epoch 65/100\n",
      "21/21 [==============================] - 5s 241ms/step - loss: 0.0193 - accuracy: 0.9955 - val_loss: 0.0863 - val_accuracy: 0.9699\n",
      "Epoch 66/100\n",
      "21/21 [==============================] - 5s 240ms/step - loss: 0.0189 - accuracy: 0.9940 - val_loss: 0.1132 - val_accuracy: 0.9578\n",
      "Epoch 67/100\n",
      "21/21 [==============================] - 5s 241ms/step - loss: 0.0108 - accuracy: 0.9985 - val_loss: 0.1162 - val_accuracy: 0.9458\n",
      "Epoch 68/100\n",
      "21/21 [==============================] - 5s 237ms/step - loss: 0.0140 - accuracy: 0.9985 - val_loss: 0.1235 - val_accuracy: 0.9337\n",
      "Epoch 69/100\n",
      "21/21 [==============================] - 5s 243ms/step - loss: 0.0121 - accuracy: 0.9985 - val_loss: 0.0742 - val_accuracy: 0.9759\n",
      "Epoch 70/100\n",
      "21/21 [==============================] - 5s 238ms/step - loss: 0.0129 - accuracy: 0.9970 - val_loss: 0.1063 - val_accuracy: 0.9458\n",
      "Epoch 71/100\n",
      "21/21 [==============================] - 5s 237ms/step - loss: 0.0126 - accuracy: 1.0000 - val_loss: 0.1568 - val_accuracy: 0.9398\n",
      "Epoch 72/100\n",
      "21/21 [==============================] - 5s 236ms/step - loss: 0.0140 - accuracy: 0.9955 - val_loss: 0.1369 - val_accuracy: 0.9458\n",
      "Epoch 73/100\n",
      "21/21 [==============================] - 5s 234ms/step - loss: 0.0134 - accuracy: 0.9955 - val_loss: 0.1316 - val_accuracy: 0.9277\n",
      "Epoch 74/100\n",
      "21/21 [==============================] - 5s 234ms/step - loss: 0.0128 - accuracy: 0.9955 - val_loss: 0.1068 - val_accuracy: 0.9458\n",
      "Epoch 75/100\n",
      "21/21 [==============================] - 5s 234ms/step - loss: 0.0106 - accuracy: 0.9985 - val_loss: 0.0672 - val_accuracy: 0.9699\n",
      "Epoch 76/100\n",
      "21/21 [==============================] - 5s 233ms/step - loss: 0.0138 - accuracy: 0.9955 - val_loss: 0.0926 - val_accuracy: 0.9699\n",
      "Epoch 77/100\n",
      "21/21 [==============================] - 5s 229ms/step - loss: 0.0107 - accuracy: 0.9970 - val_loss: 0.1229 - val_accuracy: 0.9458\n",
      "Epoch 78/100\n",
      "21/21 [==============================] - 5s 236ms/step - loss: 0.0104 - accuracy: 0.9985 - val_loss: 0.1125 - val_accuracy: 0.9458\n",
      "Epoch 79/100\n",
      "21/21 [==============================] - 5s 232ms/step - loss: 0.0157 - accuracy: 0.9970 - val_loss: 0.0818 - val_accuracy: 0.9699\n",
      "Epoch 80/100\n",
      "21/21 [==============================] - 5s 241ms/step - loss: 0.0126 - accuracy: 0.9970 - val_loss: 0.0927 - val_accuracy: 0.9578\n",
      "Epoch 81/100\n",
      "21/21 [==============================] - 5s 246ms/step - loss: 0.0126 - accuracy: 0.9985 - val_loss: 0.0811 - val_accuracy: 0.9578\n",
      "Epoch 82/100\n",
      "21/21 [==============================] - 5s 240ms/step - loss: 0.0123 - accuracy: 0.9985 - val_loss: 0.1419 - val_accuracy: 0.9337\n",
      "Epoch 83/100\n",
      "21/21 [==============================] - 5s 249ms/step - loss: 0.0113 - accuracy: 0.9970 - val_loss: 0.0923 - val_accuracy: 0.9639\n",
      "Epoch 84/100\n",
      "21/21 [==============================] - 5s 247ms/step - loss: 0.0109 - accuracy: 0.9985 - val_loss: 0.1323 - val_accuracy: 0.9458\n",
      "Epoch 85/100\n",
      "21/21 [==============================] - 5s 240ms/step - loss: 0.0100 - accuracy: 0.9985 - val_loss: 0.0981 - val_accuracy: 0.9578\n",
      "Epoch 86/100\n",
      "21/21 [==============================] - 5s 245ms/step - loss: 0.0088 - accuracy: 0.9985 - val_loss: 0.1192 - val_accuracy: 0.9518\n",
      "Epoch 87/100\n",
      "21/21 [==============================] - 5s 246ms/step - loss: 0.0077 - accuracy: 1.0000 - val_loss: 0.1568 - val_accuracy: 0.9277\n",
      "Epoch 88/100\n",
      "21/21 [==============================] - 5s 247ms/step - loss: 0.0091 - accuracy: 1.0000 - val_loss: 0.0986 - val_accuracy: 0.9578\n",
      "Epoch 89/100\n",
      "21/21 [==============================] - 5s 243ms/step - loss: 0.0107 - accuracy: 0.9985 - val_loss: 0.1276 - val_accuracy: 0.9518\n",
      "Epoch 90/100\n",
      "21/21 [==============================] - 5s 238ms/step - loss: 0.0084 - accuracy: 0.9985 - val_loss: 0.0950 - val_accuracy: 0.9518\n",
      "Epoch 91/100\n",
      "21/21 [==============================] - 5s 239ms/step - loss: 0.0057 - accuracy: 1.0000 - val_loss: 0.1617 - val_accuracy: 0.9337\n",
      "Epoch 92/100\n",
      "21/21 [==============================] - 5s 240ms/step - loss: 0.0067 - accuracy: 1.0000 - val_loss: 0.0943 - val_accuracy: 0.9639\n",
      "Epoch 93/100\n",
      "21/21 [==============================] - 5s 240ms/step - loss: 0.0063 - accuracy: 1.0000 - val_loss: 0.1088 - val_accuracy: 0.9639\n",
      "Epoch 94/100\n",
      "21/21 [==============================] - 5s 241ms/step - loss: 0.0052 - accuracy: 1.0000 - val_loss: 0.1423 - val_accuracy: 0.9217\n",
      "Epoch 95/100\n",
      "21/21 [==============================] - 5s 240ms/step - loss: 0.0128 - accuracy: 0.9955 - val_loss: 0.1636 - val_accuracy: 0.9157\n",
      "Epoch 96/100\n",
      "21/21 [==============================] - 5s 237ms/step - loss: 0.0071 - accuracy: 1.0000 - val_loss: 0.1387 - val_accuracy: 0.9518\n",
      "Epoch 97/100\n",
      "21/21 [==============================] - 5s 238ms/step - loss: 0.0077 - accuracy: 0.9985 - val_loss: 0.0607 - val_accuracy: 0.9639\n",
      "Epoch 98/100\n",
      "21/21 [==============================] - 5s 237ms/step - loss: 0.0051 - accuracy: 1.0000 - val_loss: 0.1394 - val_accuracy: 0.9337\n",
      "Epoch 99/100\n",
      "21/21 [==============================] - 5s 239ms/step - loss: 0.0087 - accuracy: 0.9955 - val_loss: 0.0664 - val_accuracy: 0.9639\n",
      "Epoch 100/100\n",
      "21/21 [==============================] - 5s 240ms/step - loss: 0.0043 - accuracy: 1.0000 - val_loss: 0.1408 - val_accuracy: 0.9578\n"
     ]
    }
   ],
   "source": [
    "history = model.fit(\n",
    "    train_generator,\n",
    "    validation_data=validation_generator,\n",
    "    epochs=100,\n",
    ")"
   ]
  },
  {
   "cell_type": "code",
   "execution_count": 12,
   "id": "5706f4c1",
   "metadata": {},
   "outputs": [
    {
     "name": "stdout",
     "output_type": "stream",
     "text": [
      "6/6 [==============================] - 1s 156ms/step - loss: 0.1190 - accuracy: 0.9578\n",
      "Validation Accuracy: 95.78%\n"
     ]
    },
    {
     "name": "stderr",
     "output_type": "stream",
     "text": [
      "2025-04-02 12:15:48.561524: I tensorflow/core/grappler/optimizers/custom_graph_optimizer_registry.cc:114] Plugin optimizer for device_type GPU is enabled.\n"
     ]
    },
    {
     "name": "stdout",
     "output_type": "stream",
     "text": [
      "6/6 [==============================] - 1s 160ms/step\n",
      "\n",
      "Classification Report:\n",
      "              precision    recall  f1-score   support\n",
      "\n",
      "           0       0.74      0.80      0.77       122\n",
      "           1       0.29      0.23      0.25        44\n",
      "\n",
      "    accuracy                           0.64       166\n",
      "   macro avg       0.51      0.51      0.51       166\n",
      "weighted avg       0.62      0.64      0.63       166\n",
      "\n",
      "\n",
      "Confusion Matrix:\n",
      "[[97 25]\n",
      " [34 10]]\n"
     ]
    }
   ],
   "source": [
    "val_loss, val_accuracy = model.evaluate(validation_generator)\n",
    "print(f\"Validation Accuracy: {val_accuracy * 100:.2f}%\")\n",
    "\n",
    "validation_generator.reset()\n",
    "predictions = (model.predict(validation_generator) > 0.5).astype(\"int64\")\n",
    "true_classes = validation_generator.classes\n",
    "\n",
    "print(\"\\nClassification Report:\")\n",
    "print(classification_report(true_classes, predictions))\n",
    "\n",
    "print(\"\\nConfusion Matrix:\")\n",
    "print(confusion_matrix(true_classes, predictions))"
   ]
  }
 ],
 "metadata": {
  "kaggle": {
   "accelerator": "gpu",
   "dataSources": [
    {
     "datasetId": 1685415,
     "sourceId": 2762111,
     "sourceType": "datasetVersion"
    }
   ],
   "dockerImageVersionId": 30648,
   "isGpuEnabled": true,
   "isInternetEnabled": true,
   "language": "python",
   "sourceType": "notebook"
  },
  "kernelspec": {
   "display_name": "Python 3",
   "language": "python",
   "name": "python3"
  },
  "language_info": {
   "codemirror_mode": {
    "name": "ipython",
    "version": 3
   },
   "file_extension": ".py",
   "mimetype": "text/x-python",
   "name": "python",
   "nbconvert_exporter": "python",
   "pygments_lexer": "ipython3",
   "version": "3.8.16"
  },
  "papermill": {
   "default_parameters": {},
   "duration": 695.546863,
   "end_time": "2024-02-13T15:29:11.942165",
   "environment_variables": {},
   "exception": null,
   "input_path": "__notebook__.ipynb",
   "output_path": "__notebook__.ipynb",
   "parameters": {},
   "start_time": "2024-02-13T15:17:36.395302",
   "version": "2.5.0"
  }
 },
 "nbformat": 4,
 "nbformat_minor": 5
}
