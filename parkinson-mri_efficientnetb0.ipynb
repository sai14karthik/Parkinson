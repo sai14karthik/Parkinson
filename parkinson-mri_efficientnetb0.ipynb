{
 "cells": [
  {
   "cell_type": "code",
   "execution_count": 1,
   "id": "d5928da8",
   "metadata": {},
   "outputs": [],
   "source": [
    "import os\n",
    "import numpy as np\n",
    "from tensorflow.keras.applications import EfficientNetB0\n",
    "\n",
    "from tensorflow.keras.models import Sequential\n",
    "from tensorflow.keras.layers import Dense, GlobalAveragePooling2D, Dropout\n",
    "from tensorflow.keras.preprocessing.image import ImageDataGenerator\n",
    "from tensorflow.keras.optimizers import Adam\n",
    "from sklearn.metrics import classification_report, confusion_matrix"
   ]
  },
  {
   "cell_type": "code",
   "execution_count": 2,
   "id": "d7851ba1",
   "metadata": {},
   "outputs": [],
   "source": [
    "data_dir = '/Users/saikarthik/Downloads/untitled folder/parkinsons_dataset'\n"
   ]
  },
  {
   "cell_type": "code",
   "execution_count": 3,
   "id": "66c3dd9b",
   "metadata": {},
   "outputs": [],
   "source": [
    "img_height, img_width = 224, 224 \n",
    "batch_size = 32\n"
   ]
  },
  {
   "cell_type": "code",
   "execution_count": 4,
   "id": "af6d12a2",
   "metadata": {},
   "outputs": [],
   "source": [
    "datagen = ImageDataGenerator(\n",
    "    rescale=1.0 / 255,\n",
    "    validation_split=0.2,  \n",
    "    rotation_range=20,\n",
    "    width_shift_range=0.2,\n",
    "    height_shift_range=0.2,\n",
    "    shear_range=0.2,\n",
    "    zoom_range=0.2,\n",
    "    horizontal_flip=True,\n",
    ")\n"
   ]
  },
  {
   "cell_type": "code",
   "execution_count": 5,
   "id": "bf0d4695",
   "metadata": {},
   "outputs": [
    {
     "name": "stdout",
     "output_type": "stream",
     "text": [
      "Found 665 images belonging to 2 classes.\n"
     ]
    }
   ],
   "source": [
    "\n",
    "train_generator = datagen.flow_from_directory(\n",
    "    data_dir,\n",
    "    target_size=(img_height, img_width),\n",
    "    batch_size=batch_size,\n",
    "    class_mode='binary',\n",
    "    subset='training',\n",
    ")"
   ]
  },
  {
   "cell_type": "code",
   "execution_count": 6,
   "id": "7467fe4b",
   "metadata": {},
   "outputs": [
    {
     "name": "stdout",
     "output_type": "stream",
     "text": [
      "Found 166 images belonging to 2 classes.\n"
     ]
    }
   ],
   "source": [
    "\n",
    "validation_generator = datagen.flow_from_directory(\n",
    "    data_dir,\n",
    "    target_size=(img_height, img_width),\n",
    "    batch_size=batch_size,\n",
    "    class_mode='binary',\n",
    "    subset='validation',\n",
    ")"
   ]
  },
  {
   "cell_type": "code",
   "execution_count": 7,
   "id": "ebc0cc15",
   "metadata": {},
   "outputs": [
    {
     "name": "stderr",
     "output_type": "stream",
     "text": [
      "2025-04-02 12:48:13.971306: I metal_plugin/src/device/metal_device.cc:1154] Metal device set to: Apple M1 Pro\n",
      "2025-04-02 12:48:13.971340: I metal_plugin/src/device/metal_device.cc:296] systemMemory: 16.00 GB\n",
      "2025-04-02 12:48:13.971347: I metal_plugin/src/device/metal_device.cc:313] maxCacheSize: 5.33 GB\n",
      "2025-04-02 12:48:13.971544: I tensorflow/core/common_runtime/pluggable_device/pluggable_device_factory.cc:303] Could not identify NUMA node of platform GPU ID 0, defaulting to 0. Your kernel may not have been built with NUMA support.\n",
      "2025-04-02 12:48:13.971557: I tensorflow/core/common_runtime/pluggable_device/pluggable_device_factory.cc:269] Created TensorFlow device (/job:localhost/replica:0/task:0/device:GPU:0 with 0 MB memory) -> physical PluggableDevice (device: 0, name: METAL, pci bus id: <undefined>)\n"
     ]
    },
    {
     "name": "stdout",
     "output_type": "stream",
     "text": [
      "Downloading data from https://storage.googleapis.com/keras-applications/efficientnetb0_notop.h5\n",
      "16705208/16705208 [==============================] - 5s 0us/step\n"
     ]
    }
   ],
   "source": [
    "base_model = EfficientNetB0(weights='imagenet', include_top=False, input_shape=(img_height, img_width, 3))"
   ]
  },
  {
   "cell_type": "code",
   "execution_count": 8,
   "id": "f5629127",
   "metadata": {},
   "outputs": [],
   "source": [
    "for layer in base_model.layers:\n",
    "    layer.trainable = False"
   ]
  },
  {
   "cell_type": "code",
   "execution_count": 9,
   "id": "c62cda15",
   "metadata": {},
   "outputs": [],
   "source": [
    "for layer in base_model.layers:\n",
    "    layer.trainable = False\n",
    "\n",
    "model = Sequential([\n",
    "    base_model,\n",
    "    GlobalAveragePooling2D(),\n",
    "    Dense(256, activation='relu'),\n",
    "    Dropout(0.5),\n",
    "    Dense(1, activation='sigmoid')\n",
    "])\n"
   ]
  },
  {
   "cell_type": "code",
   "execution_count": 10,
   "id": "0ef99f53",
   "metadata": {},
   "outputs": [
    {
     "name": "stderr",
     "output_type": "stream",
     "text": [
      "WARNING:absl:At this time, the v2.11+ optimizer `tf.keras.optimizers.Adam` runs slowly on M1/M2 Macs, please use the legacy Keras optimizer instead, located at `tf.keras.optimizers.legacy.Adam`.\n",
      "WARNING:absl:There is a known slowdown when using v2.11+ Keras optimizers on M1/M2 Macs. Falling back to the legacy Keras optimizer, i.e., `tf.keras.optimizers.legacy.Adam`.\n"
     ]
    }
   ],
   "source": [
    "model.compile(optimizer=Adam(learning_rate=0.0001), loss='binary_crossentropy', metrics=['accuracy'])"
   ]
  },
  {
   "cell_type": "code",
   "execution_count": 11,
   "id": "9813ed99",
   "metadata": {},
   "outputs": [
    {
     "name": "stdout",
     "output_type": "stream",
     "text": [
      "Epoch 1/100\n"
     ]
    },
    {
     "name": "stderr",
     "output_type": "stream",
     "text": [
      "2025-04-02 12:48:24.120116: I tensorflow/core/grappler/optimizers/custom_graph_optimizer_registry.cc:114] Plugin optimizer for device_type GPU is enabled.\n"
     ]
    },
    {
     "name": "stdout",
     "output_type": "stream",
     "text": [
      "21/21 [==============================] - ETA: 0s - loss: 0.6425 - accuracy: 0.6722"
     ]
    },
    {
     "name": "stderr",
     "output_type": "stream",
     "text": [
      "2025-04-02 12:48:30.690355: I tensorflow/core/grappler/optimizers/custom_graph_optimizer_registry.cc:114] Plugin optimizer for device_type GPU is enabled.\n"
     ]
    },
    {
     "name": "stdout",
     "output_type": "stream",
     "text": [
      "21/21 [==============================] - 11s 341ms/step - loss: 0.6425 - accuracy: 0.6722 - val_loss: 0.5906 - val_accuracy: 0.7349\n",
      "Epoch 2/100\n",
      "21/21 [==============================] - 5s 239ms/step - loss: 0.5883 - accuracy: 0.7338 - val_loss: 0.5807 - val_accuracy: 0.7349\n",
      "Epoch 3/100\n",
      "21/21 [==============================] - 5s 236ms/step - loss: 0.5855 - accuracy: 0.7338 - val_loss: 0.5791 - val_accuracy: 0.7349\n",
      "Epoch 4/100\n",
      "21/21 [==============================] - 5s 237ms/step - loss: 0.5885 - accuracy: 0.7338 - val_loss: 0.5804 - val_accuracy: 0.7349\n",
      "Epoch 5/100\n",
      "21/21 [==============================] - 5s 240ms/step - loss: 0.5891 - accuracy: 0.7338 - val_loss: 0.5789 - val_accuracy: 0.7349\n",
      "Epoch 6/100\n",
      "21/21 [==============================] - 5s 236ms/step - loss: 0.5871 - accuracy: 0.7338 - val_loss: 0.5787 - val_accuracy: 0.7349\n",
      "Epoch 7/100\n",
      "21/21 [==============================] - 5s 235ms/step - loss: 0.5858 - accuracy: 0.7338 - val_loss: 0.5790 - val_accuracy: 0.7349\n",
      "Epoch 8/100\n",
      "21/21 [==============================] - 5s 238ms/step - loss: 0.5778 - accuracy: 0.7338 - val_loss: 0.5791 - val_accuracy: 0.7349\n",
      "Epoch 9/100\n",
      "21/21 [==============================] - 5s 236ms/step - loss: 0.5842 - accuracy: 0.7338 - val_loss: 0.5787 - val_accuracy: 0.7349\n",
      "Epoch 10/100\n",
      "21/21 [==============================] - 5s 236ms/step - loss: 0.5860 - accuracy: 0.7338 - val_loss: 0.5804 - val_accuracy: 0.7349\n",
      "Epoch 11/100\n",
      "21/21 [==============================] - 5s 236ms/step - loss: 0.5838 - accuracy: 0.7338 - val_loss: 0.5786 - val_accuracy: 0.7349\n",
      "Epoch 12/100\n",
      "21/21 [==============================] - 5s 237ms/step - loss: 0.5883 - accuracy: 0.7338 - val_loss: 0.5788 - val_accuracy: 0.7349\n",
      "Epoch 13/100\n",
      "21/21 [==============================] - 5s 237ms/step - loss: 0.5828 - accuracy: 0.7338 - val_loss: 0.5793 - val_accuracy: 0.7349\n",
      "Epoch 14/100\n",
      "21/21 [==============================] - 5s 237ms/step - loss: 0.5873 - accuracy: 0.7338 - val_loss: 0.5786 - val_accuracy: 0.7349\n",
      "Epoch 15/100\n",
      "21/21 [==============================] - 5s 236ms/step - loss: 0.5845 - accuracy: 0.7338 - val_loss: 0.5794 - val_accuracy: 0.7349\n",
      "Epoch 16/100\n",
      "21/21 [==============================] - 5s 238ms/step - loss: 0.5843 - accuracy: 0.7338 - val_loss: 0.5806 - val_accuracy: 0.7349\n",
      "Epoch 17/100\n",
      "21/21 [==============================] - 5s 237ms/step - loss: 0.5802 - accuracy: 0.7338 - val_loss: 0.5794 - val_accuracy: 0.7349\n",
      "Epoch 18/100\n",
      "21/21 [==============================] - 5s 237ms/step - loss: 0.5878 - accuracy: 0.7338 - val_loss: 0.5798 - val_accuracy: 0.7349\n",
      "Epoch 19/100\n",
      "21/21 [==============================] - 5s 237ms/step - loss: 0.5860 - accuracy: 0.7338 - val_loss: 0.5806 - val_accuracy: 0.7349\n",
      "Epoch 20/100\n",
      "21/21 [==============================] - 5s 238ms/step - loss: 0.5845 - accuracy: 0.7338 - val_loss: 0.5798 - val_accuracy: 0.7349\n",
      "Epoch 21/100\n",
      "21/21 [==============================] - 5s 238ms/step - loss: 0.5837 - accuracy: 0.7338 - val_loss: 0.5804 - val_accuracy: 0.7349\n",
      "Epoch 22/100\n",
      "21/21 [==============================] - 5s 237ms/step - loss: 0.5818 - accuracy: 0.7338 - val_loss: 0.5791 - val_accuracy: 0.7349\n",
      "Epoch 23/100\n",
      "21/21 [==============================] - 5s 237ms/step - loss: 0.5798 - accuracy: 0.7338 - val_loss: 0.5827 - val_accuracy: 0.7349\n",
      "Epoch 24/100\n",
      "21/21 [==============================] - 5s 239ms/step - loss: 0.5976 - accuracy: 0.7338 - val_loss: 0.5788 - val_accuracy: 0.7349\n",
      "Epoch 25/100\n",
      "21/21 [==============================] - 5s 237ms/step - loss: 0.5842 - accuracy: 0.7338 - val_loss: 0.5785 - val_accuracy: 0.7349\n",
      "Epoch 26/100\n",
      "21/21 [==============================] - 5s 238ms/step - loss: 0.5837 - accuracy: 0.7338 - val_loss: 0.5793 - val_accuracy: 0.7349\n",
      "Epoch 27/100\n",
      "21/21 [==============================] - 5s 237ms/step - loss: 0.5881 - accuracy: 0.7338 - val_loss: 0.5785 - val_accuracy: 0.7349\n",
      "Epoch 28/100\n",
      "21/21 [==============================] - 5s 237ms/step - loss: 0.5787 - accuracy: 0.7338 - val_loss: 0.5793 - val_accuracy: 0.7349\n",
      "Epoch 29/100\n",
      "21/21 [==============================] - 5s 238ms/step - loss: 0.5838 - accuracy: 0.7338 - val_loss: 0.5789 - val_accuracy: 0.7349\n",
      "Epoch 30/100\n",
      "21/21 [==============================] - 5s 238ms/step - loss: 0.5842 - accuracy: 0.7338 - val_loss: 0.5785 - val_accuracy: 0.7349\n",
      "Epoch 31/100\n",
      "21/21 [==============================] - 5s 249ms/step - loss: 0.5805 - accuracy: 0.7338 - val_loss: 0.5790 - val_accuracy: 0.7349\n",
      "Epoch 32/100\n",
      "21/21 [==============================] - 5s 241ms/step - loss: 0.5859 - accuracy: 0.7338 - val_loss: 0.5785 - val_accuracy: 0.7349\n",
      "Epoch 33/100\n",
      "21/21 [==============================] - 5s 239ms/step - loss: 0.5806 - accuracy: 0.7338 - val_loss: 0.5793 - val_accuracy: 0.7349\n",
      "Epoch 34/100\n",
      "21/21 [==============================] - 5s 245ms/step - loss: 0.5864 - accuracy: 0.7338 - val_loss: 0.5784 - val_accuracy: 0.7349\n",
      "Epoch 35/100\n",
      "21/21 [==============================] - 5s 238ms/step - loss: 0.5838 - accuracy: 0.7338 - val_loss: 0.5786 - val_accuracy: 0.7349\n",
      "Epoch 36/100\n",
      "21/21 [==============================] - 5s 238ms/step - loss: 0.5830 - accuracy: 0.7338 - val_loss: 0.5810 - val_accuracy: 0.7349\n",
      "Epoch 37/100\n",
      "21/21 [==============================] - 5s 234ms/step - loss: 0.5809 - accuracy: 0.7338 - val_loss: 0.5785 - val_accuracy: 0.7349\n",
      "Epoch 38/100\n",
      "21/21 [==============================] - 5s 232ms/step - loss: 0.5819 - accuracy: 0.7338 - val_loss: 0.5790 - val_accuracy: 0.7349\n",
      "Epoch 39/100\n",
      "21/21 [==============================] - 5s 232ms/step - loss: 0.5803 - accuracy: 0.7338 - val_loss: 0.5789 - val_accuracy: 0.7349\n",
      "Epoch 40/100\n",
      "21/21 [==============================] - 5s 231ms/step - loss: 0.5815 - accuracy: 0.7338 - val_loss: 0.5800 - val_accuracy: 0.7349\n",
      "Epoch 41/100\n",
      "21/21 [==============================] - 5s 232ms/step - loss: 0.5825 - accuracy: 0.7338 - val_loss: 0.5785 - val_accuracy: 0.7349\n",
      "Epoch 42/100\n",
      "21/21 [==============================] - 5s 231ms/step - loss: 0.5819 - accuracy: 0.7338 - val_loss: 0.5786 - val_accuracy: 0.7349\n",
      "Epoch 43/100\n",
      "21/21 [==============================] - 5s 232ms/step - loss: 0.5808 - accuracy: 0.7338 - val_loss: 0.5799 - val_accuracy: 0.7349\n",
      "Epoch 44/100\n",
      "21/21 [==============================] - 5s 231ms/step - loss: 0.5821 - accuracy: 0.7338 - val_loss: 0.5788 - val_accuracy: 0.7349\n",
      "Epoch 45/100\n",
      "21/21 [==============================] - 5s 230ms/step - loss: 0.5855 - accuracy: 0.7338 - val_loss: 0.5787 - val_accuracy: 0.7349\n",
      "Epoch 46/100\n",
      "21/21 [==============================] - 5s 231ms/step - loss: 0.5840 - accuracy: 0.7338 - val_loss: 0.5793 - val_accuracy: 0.7349\n",
      "Epoch 47/100\n",
      "21/21 [==============================] - 5s 232ms/step - loss: 0.5832 - accuracy: 0.7338 - val_loss: 0.5804 - val_accuracy: 0.7349\n",
      "Epoch 48/100\n",
      "21/21 [==============================] - 5s 230ms/step - loss: 0.5815 - accuracy: 0.7338 - val_loss: 0.5789 - val_accuracy: 0.7349\n",
      "Epoch 49/100\n",
      "21/21 [==============================] - 5s 231ms/step - loss: 0.5846 - accuracy: 0.7338 - val_loss: 0.5790 - val_accuracy: 0.7349\n",
      "Epoch 50/100\n",
      "21/21 [==============================] - 5s 231ms/step - loss: 0.5786 - accuracy: 0.7338 - val_loss: 0.5784 - val_accuracy: 0.7349\n",
      "Epoch 51/100\n",
      "21/21 [==============================] - 5s 231ms/step - loss: 0.5794 - accuracy: 0.7338 - val_loss: 0.5793 - val_accuracy: 0.7349\n",
      "Epoch 52/100\n",
      "21/21 [==============================] - 5s 231ms/step - loss: 0.5828 - accuracy: 0.7338 - val_loss: 0.5789 - val_accuracy: 0.7349\n",
      "Epoch 53/100\n",
      "21/21 [==============================] - 5s 230ms/step - loss: 0.5889 - accuracy: 0.7338 - val_loss: 0.5793 - val_accuracy: 0.7349\n",
      "Epoch 54/100\n",
      "21/21 [==============================] - 5s 230ms/step - loss: 0.5843 - accuracy: 0.7338 - val_loss: 0.5784 - val_accuracy: 0.7349\n",
      "Epoch 55/100\n",
      "21/21 [==============================] - 5s 230ms/step - loss: 0.5803 - accuracy: 0.7338 - val_loss: 0.5793 - val_accuracy: 0.7349\n",
      "Epoch 56/100\n",
      "21/21 [==============================] - 5s 231ms/step - loss: 0.5815 - accuracy: 0.7338 - val_loss: 0.5800 - val_accuracy: 0.7349\n",
      "Epoch 57/100\n",
      "21/21 [==============================] - 5s 231ms/step - loss: 0.5848 - accuracy: 0.7338 - val_loss: 0.5802 - val_accuracy: 0.7349\n",
      "Epoch 58/100\n",
      "21/21 [==============================] - 5s 231ms/step - loss: 0.5815 - accuracy: 0.7338 - val_loss: 0.5804 - val_accuracy: 0.7349\n",
      "Epoch 59/100\n",
      "21/21 [==============================] - 5s 231ms/step - loss: 0.5793 - accuracy: 0.7338 - val_loss: 0.5797 - val_accuracy: 0.7349\n",
      "Epoch 60/100\n",
      "21/21 [==============================] - 5s 230ms/step - loss: 0.5813 - accuracy: 0.7338 - val_loss: 0.5807 - val_accuracy: 0.7349\n",
      "Epoch 61/100\n",
      "21/21 [==============================] - 5s 234ms/step - loss: 0.5816 - accuracy: 0.7338 - val_loss: 0.5790 - val_accuracy: 0.7349\n",
      "Epoch 62/100\n",
      "21/21 [==============================] - 5s 230ms/step - loss: 0.5803 - accuracy: 0.7338 - val_loss: 0.5795 - val_accuracy: 0.7349\n",
      "Epoch 63/100\n",
      "21/21 [==============================] - 5s 233ms/step - loss: 0.5742 - accuracy: 0.7338 - val_loss: 0.5797 - val_accuracy: 0.7349\n",
      "Epoch 64/100\n",
      "21/21 [==============================] - 5s 231ms/step - loss: 0.5816 - accuracy: 0.7338 - val_loss: 0.5797 - val_accuracy: 0.7349\n",
      "Epoch 65/100\n",
      "21/21 [==============================] - 5s 231ms/step - loss: 0.5895 - accuracy: 0.7338 - val_loss: 0.5801 - val_accuracy: 0.7349\n",
      "Epoch 66/100\n",
      "21/21 [==============================] - 5s 231ms/step - loss: 0.5840 - accuracy: 0.7338 - val_loss: 0.5833 - val_accuracy: 0.7349\n",
      "Epoch 67/100\n",
      "21/21 [==============================] - 5s 230ms/step - loss: 0.5842 - accuracy: 0.7338 - val_loss: 0.5792 - val_accuracy: 0.7349\n",
      "Epoch 68/100\n",
      "21/21 [==============================] - 5s 231ms/step - loss: 0.5826 - accuracy: 0.7338 - val_loss: 0.5808 - val_accuracy: 0.7349\n",
      "Epoch 69/100\n",
      "21/21 [==============================] - 5s 231ms/step - loss: 0.5796 - accuracy: 0.7338 - val_loss: 0.5792 - val_accuracy: 0.7349\n",
      "Epoch 70/100\n",
      "21/21 [==============================] - 5s 231ms/step - loss: 0.5873 - accuracy: 0.7338 - val_loss: 0.5800 - val_accuracy: 0.7349\n",
      "Epoch 71/100\n",
      "21/21 [==============================] - 5s 231ms/step - loss: 0.5843 - accuracy: 0.7338 - val_loss: 0.5788 - val_accuracy: 0.7349\n",
      "Epoch 72/100\n",
      "21/21 [==============================] - 5s 234ms/step - loss: 0.5806 - accuracy: 0.7338 - val_loss: 0.5792 - val_accuracy: 0.7349\n",
      "Epoch 73/100\n",
      "21/21 [==============================] - 5s 232ms/step - loss: 0.5823 - accuracy: 0.7338 - val_loss: 0.5807 - val_accuracy: 0.7349\n",
      "Epoch 74/100\n",
      "21/21 [==============================] - 5s 233ms/step - loss: 0.5835 - accuracy: 0.7338 - val_loss: 0.5786 - val_accuracy: 0.7349\n",
      "Epoch 75/100\n",
      "21/21 [==============================] - 5s 231ms/step - loss: 0.5799 - accuracy: 0.7338 - val_loss: 0.5795 - val_accuracy: 0.7349\n",
      "Epoch 76/100\n",
      "21/21 [==============================] - 5s 230ms/step - loss: 0.5815 - accuracy: 0.7338 - val_loss: 0.5804 - val_accuracy: 0.7349\n",
      "Epoch 77/100\n",
      "21/21 [==============================] - 5s 231ms/step - loss: 0.5873 - accuracy: 0.7338 - val_loss: 0.5790 - val_accuracy: 0.7349\n",
      "Epoch 78/100\n",
      "21/21 [==============================] - 5s 232ms/step - loss: 0.5860 - accuracy: 0.7338 - val_loss: 0.5807 - val_accuracy: 0.7349\n",
      "Epoch 79/100\n",
      "21/21 [==============================] - 5s 231ms/step - loss: 0.5808 - accuracy: 0.7338 - val_loss: 0.5784 - val_accuracy: 0.7349\n",
      "Epoch 80/100\n",
      "21/21 [==============================] - 5s 230ms/step - loss: 0.5821 - accuracy: 0.7338 - val_loss: 0.5795 - val_accuracy: 0.7349\n",
      "Epoch 81/100\n",
      "21/21 [==============================] - 5s 231ms/step - loss: 0.5800 - accuracy: 0.7338 - val_loss: 0.5795 - val_accuracy: 0.7349\n",
      "Epoch 82/100\n",
      "21/21 [==============================] - 5s 230ms/step - loss: 0.5801 - accuracy: 0.7338 - val_loss: 0.5795 - val_accuracy: 0.7349\n",
      "Epoch 83/100\n",
      "21/21 [==============================] - 5s 232ms/step - loss: 0.5782 - accuracy: 0.7338 - val_loss: 0.5803 - val_accuracy: 0.7349\n",
      "Epoch 84/100\n",
      "21/21 [==============================] - 5s 230ms/step - loss: 0.5838 - accuracy: 0.7338 - val_loss: 0.5791 - val_accuracy: 0.7349\n",
      "Epoch 85/100\n",
      "21/21 [==============================] - 5s 230ms/step - loss: 0.5855 - accuracy: 0.7338 - val_loss: 0.5800 - val_accuracy: 0.7349\n",
      "Epoch 86/100\n",
      "21/21 [==============================] - 5s 230ms/step - loss: 0.5822 - accuracy: 0.7338 - val_loss: 0.5797 - val_accuracy: 0.7349\n",
      "Epoch 87/100\n",
      "21/21 [==============================] - 5s 231ms/step - loss: 0.5807 - accuracy: 0.7338 - val_loss: 0.5807 - val_accuracy: 0.7349\n",
      "Epoch 88/100\n",
      "21/21 [==============================] - 5s 231ms/step - loss: 0.5776 - accuracy: 0.7338 - val_loss: 0.5786 - val_accuracy: 0.7349\n",
      "Epoch 89/100\n",
      "21/21 [==============================] - 5s 231ms/step - loss: 0.5830 - accuracy: 0.7338 - val_loss: 0.5797 - val_accuracy: 0.7349\n",
      "Epoch 90/100\n",
      "21/21 [==============================] - 5s 231ms/step - loss: 0.5864 - accuracy: 0.7338 - val_loss: 0.5791 - val_accuracy: 0.7349\n",
      "Epoch 91/100\n",
      "21/21 [==============================] - 5s 230ms/step - loss: 0.5824 - accuracy: 0.7338 - val_loss: 0.5797 - val_accuracy: 0.7349\n",
      "Epoch 92/100\n",
      "21/21 [==============================] - 5s 231ms/step - loss: 0.5809 - accuracy: 0.7338 - val_loss: 0.5786 - val_accuracy: 0.7349\n",
      "Epoch 93/100\n",
      "21/21 [==============================] - 5s 231ms/step - loss: 0.5823 - accuracy: 0.7338 - val_loss: 0.5805 - val_accuracy: 0.7349\n",
      "Epoch 94/100\n",
      "21/21 [==============================] - 5s 231ms/step - loss: 0.5809 - accuracy: 0.7338 - val_loss: 0.5801 - val_accuracy: 0.7349\n",
      "Epoch 95/100\n",
      "21/21 [==============================] - 5s 230ms/step - loss: 0.5829 - accuracy: 0.7338 - val_loss: 0.5790 - val_accuracy: 0.7349\n",
      "Epoch 96/100\n",
      "21/21 [==============================] - 5s 231ms/step - loss: 0.5795 - accuracy: 0.7338 - val_loss: 0.5801 - val_accuracy: 0.7349\n",
      "Epoch 97/100\n",
      "21/21 [==============================] - 5s 231ms/step - loss: 0.5834 - accuracy: 0.7338 - val_loss: 0.5798 - val_accuracy: 0.7349\n",
      "Epoch 98/100\n",
      "21/21 [==============================] - 5s 231ms/step - loss: 0.5811 - accuracy: 0.7338 - val_loss: 0.5807 - val_accuracy: 0.7349\n",
      "Epoch 99/100\n",
      "21/21 [==============================] - 5s 231ms/step - loss: 0.5798 - accuracy: 0.7338 - val_loss: 0.5797 - val_accuracy: 0.7349\n",
      "Epoch 100/100\n",
      "21/21 [==============================] - 5s 231ms/step - loss: 0.5810 - accuracy: 0.7338 - val_loss: 0.5799 - val_accuracy: 0.7349\n"
     ]
    }
   ],
   "source": [
    "history = model.fit(\n",
    "    train_generator,\n",
    "    validation_data=validation_generator,\n",
    "    epochs=100,\n",
    ")"
   ]
  },
  {
   "cell_type": "code",
   "execution_count": 14,
   "id": "5706f4c1",
   "metadata": {},
   "outputs": [
    {
     "name": "stdout",
     "output_type": "stream",
     "text": [
      "6/6 [==============================] - 1s 154ms/step - loss: 0.5799 - accuracy: 0.7349\n",
      "Validation Accuracy: 73.49%\n",
      "6/6 [==============================] - 1s 164ms/step\n",
      "\n",
      "Classification Report:\n",
      "              precision    recall  f1-score   support\n",
      "\n",
      "           0       0.73      1.00      0.85       122\n",
      "           1       0.00      0.00      0.00        44\n",
      "\n",
      "    accuracy                           0.73       166\n",
      "   macro avg       0.37      0.50      0.42       166\n",
      "weighted avg       0.54      0.73      0.62       166\n",
      "\n",
      "\n",
      "Confusion Matrix:\n",
      "[[122   0]\n",
      " [ 44   0]]\n"
     ]
    },
    {
     "name": "stderr",
     "output_type": "stream",
     "text": [
      "/Users/saikarthik/tensorflow-test/env/lib/python3.8/site-packages/sklearn/metrics/_classification.py:1334: UndefinedMetricWarning: Precision and F-score are ill-defined and being set to 0.0 in labels with no predicted samples. Use `zero_division` parameter to control this behavior.\n",
      "  _warn_prf(average, modifier, msg_start, len(result))\n",
      "/Users/saikarthik/tensorflow-test/env/lib/python3.8/site-packages/sklearn/metrics/_classification.py:1334: UndefinedMetricWarning: Precision and F-score are ill-defined and being set to 0.0 in labels with no predicted samples. Use `zero_division` parameter to control this behavior.\n",
      "  _warn_prf(average, modifier, msg_start, len(result))\n",
      "/Users/saikarthik/tensorflow-test/env/lib/python3.8/site-packages/sklearn/metrics/_classification.py:1334: UndefinedMetricWarning: Precision and F-score are ill-defined and being set to 0.0 in labels with no predicted samples. Use `zero_division` parameter to control this behavior.\n",
      "  _warn_prf(average, modifier, msg_start, len(result))\n"
     ]
    }
   ],
   "source": [
    "val_loss, val_accuracy = model.evaluate(validation_generator)\n",
    "print(f\"Validation Accuracy: {val_accuracy * 100:.2f}%\")\n",
    "\n",
    "validation_generator.reset()\n",
    "predictions = (model.predict(validation_generator) > 0.5).astype(\"int64\")\n",
    "true_classes = validation_generator.classes\n",
    "\n",
    "print(\"\\nClassification Report:\")\n",
    "print(classification_report(true_classes, predictions))\n",
    "\n",
    "print(\"\\nConfusion Matrix:\")\n",
    "print(confusion_matrix(true_classes, predictions))"
   ]
  }
 ],
 "metadata": {
  "kaggle": {
   "accelerator": "gpu",
   "dataSources": [
    {
     "datasetId": 1685415,
     "sourceId": 2762111,
     "sourceType": "datasetVersion"
    }
   ],
   "dockerImageVersionId": 30648,
   "isGpuEnabled": true,
   "isInternetEnabled": true,
   "language": "python",
   "sourceType": "notebook"
  },
  "kernelspec": {
   "display_name": "Python 3",
   "language": "python",
   "name": "python3"
  },
  "language_info": {
   "codemirror_mode": {
    "name": "ipython",
    "version": 3
   },
   "file_extension": ".py",
   "mimetype": "text/x-python",
   "name": "python",
   "nbconvert_exporter": "python",
   "pygments_lexer": "ipython3",
   "version": "3.8.16"
  },
  "papermill": {
   "default_parameters": {},
   "duration": 695.546863,
   "end_time": "2024-02-13T15:29:11.942165",
   "environment_variables": {},
   "exception": null,
   "input_path": "__notebook__.ipynb",
   "output_path": "__notebook__.ipynb",
   "parameters": {},
   "start_time": "2024-02-13T15:17:36.395302",
   "version": "2.5.0"
  }
 },
 "nbformat": 4,
 "nbformat_minor": 5
}
