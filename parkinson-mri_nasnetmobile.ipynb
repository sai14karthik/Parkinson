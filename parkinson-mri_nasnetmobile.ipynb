{
 "cells": [
  {
   "cell_type": "code",
   "execution_count": 1,
   "id": "d5928da8",
   "metadata": {},
   "outputs": [],
   "source": [
    "import os\n",
    "import numpy as np\n",
    "\n",
    "from tensorflow.keras.applications import NASNetMobile\n",
    "\n",
    "from tensorflow.keras.models import Sequential\n",
    "from tensorflow.keras.layers import Dense, GlobalAveragePooling2D, Dropout\n",
    "from tensorflow.keras.preprocessing.image import ImageDataGenerator\n",
    "from tensorflow.keras.optimizers import Adam\n",
    "from sklearn.metrics import classification_report, confusion_matrix"
   ]
  },
  {
   "cell_type": "code",
   "execution_count": 2,
   "id": "d7851ba1",
   "metadata": {},
   "outputs": [],
   "source": [
    "data_dir = '/Users/saikarthik/Downloads/untitled folder/parkinsons_dataset'\n"
   ]
  },
  {
   "cell_type": "code",
   "execution_count": 3,
   "id": "66c3dd9b",
   "metadata": {},
   "outputs": [],
   "source": [
    "img_height, img_width = 224, 224 \n",
    "batch_size = 32\n"
   ]
  },
  {
   "cell_type": "code",
   "execution_count": 4,
   "id": "af6d12a2",
   "metadata": {},
   "outputs": [],
   "source": [
    "datagen = ImageDataGenerator(\n",
    "    rescale=1.0 / 255,\n",
    "    validation_split=0.2,  \n",
    "    rotation_range=20,\n",
    "    width_shift_range=0.2,\n",
    "    height_shift_range=0.2,\n",
    "    shear_range=0.2,\n",
    "    zoom_range=0.2,\n",
    "    horizontal_flip=True,\n",
    ")\n"
   ]
  },
  {
   "cell_type": "code",
   "execution_count": 5,
   "id": "bf0d4695",
   "metadata": {},
   "outputs": [
    {
     "name": "stdout",
     "output_type": "stream",
     "text": [
      "Found 665 images belonging to 2 classes.\n"
     ]
    }
   ],
   "source": [
    "\n",
    "train_generator = datagen.flow_from_directory(\n",
    "    data_dir,\n",
    "    target_size=(img_height, img_width),\n",
    "    batch_size=batch_size,\n",
    "    class_mode='binary',\n",
    "    subset='training',\n",
    ")"
   ]
  },
  {
   "cell_type": "code",
   "execution_count": 6,
   "id": "7467fe4b",
   "metadata": {},
   "outputs": [
    {
     "name": "stdout",
     "output_type": "stream",
     "text": [
      "Found 166 images belonging to 2 classes.\n"
     ]
    }
   ],
   "source": [
    "\n",
    "validation_generator = datagen.flow_from_directory(\n",
    "    data_dir,\n",
    "    target_size=(img_height, img_width),\n",
    "    batch_size=batch_size,\n",
    "    class_mode='binary',\n",
    "    subset='validation',\n",
    ")"
   ]
  },
  {
   "cell_type": "code",
   "execution_count": 7,
   "id": "ebc0cc15",
   "metadata": {},
   "outputs": [
    {
     "name": "stderr",
     "output_type": "stream",
     "text": [
      "2025-04-02 16:11:33.520999: I metal_plugin/src/device/metal_device.cc:1154] Metal device set to: Apple M1 Pro\n",
      "2025-04-02 16:11:33.521030: I metal_plugin/src/device/metal_device.cc:296] systemMemory: 16.00 GB\n",
      "2025-04-02 16:11:33.521042: I metal_plugin/src/device/metal_device.cc:313] maxCacheSize: 5.33 GB\n",
      "2025-04-02 16:11:33.521075: I tensorflow/core/common_runtime/pluggable_device/pluggable_device_factory.cc:303] Could not identify NUMA node of platform GPU ID 0, defaulting to 0. Your kernel may not have been built with NUMA support.\n",
      "2025-04-02 16:11:33.521088: I tensorflow/core/common_runtime/pluggable_device/pluggable_device_factory.cc:269] Created TensorFlow device (/job:localhost/replica:0/task:0/device:GPU:0 with 0 MB memory) -> physical PluggableDevice (device: 0, name: METAL, pci bus id: <undefined>)\n"
     ]
    },
    {
     "name": "stdout",
     "output_type": "stream",
     "text": [
      "A local file was found, but it seems to be incomplete or outdated because the auto file hash does not match the original value of 1ed92395b5b598bdda52abe5c0dbfd63 so we will re-download the data.\n",
      "Downloading data from https://storage.googleapis.com/tensorflow/keras-applications/nasnet/NASNet-mobile-no-top.h5\n",
      "19993432/19993432 [==============================] - 7s 0us/step\n"
     ]
    }
   ],
   "source": [
    "base_model = NASNetMobile(weights='imagenet', include_top=False, input_shape=(img_height, img_width, 3))"
   ]
  },
  {
   "cell_type": "code",
   "execution_count": 8,
   "id": "f5629127",
   "metadata": {},
   "outputs": [],
   "source": [
    "for layer in base_model.layers:\n",
    "    layer.trainable = False"
   ]
  },
  {
   "cell_type": "code",
   "execution_count": 9,
   "id": "c62cda15",
   "metadata": {},
   "outputs": [],
   "source": [
    "\n",
    "\n",
    "model = Sequential([\n",
    "    base_model,\n",
    "    GlobalAveragePooling2D(),\n",
    "    Dense(256, activation='relu'),\n",
    "    Dropout(0.5),\n",
    "    Dense(1, activation='sigmoid')\n",
    "])\n"
   ]
  },
  {
   "cell_type": "code",
   "execution_count": 10,
   "id": "0ef99f53",
   "metadata": {},
   "outputs": [
    {
     "name": "stderr",
     "output_type": "stream",
     "text": [
      "WARNING:absl:At this time, the v2.11+ optimizer `tf.keras.optimizers.Adam` runs slowly on M1/M2 Macs, please use the legacy Keras optimizer instead, located at `tf.keras.optimizers.legacy.Adam`.\n",
      "WARNING:absl:There is a known slowdown when using v2.11+ Keras optimizers on M1/M2 Macs. Falling back to the legacy Keras optimizer, i.e., `tf.keras.optimizers.legacy.Adam`.\n"
     ]
    }
   ],
   "source": [
    "model.compile(optimizer=Adam(learning_rate=0.0001), loss='binary_crossentropy', metrics=['accuracy'])"
   ]
  },
  {
   "cell_type": "code",
   "execution_count": 11,
   "id": "9813ed99",
   "metadata": {},
   "outputs": [
    {
     "name": "stdout",
     "output_type": "stream",
     "text": [
      "Epoch 1/100\n"
     ]
    },
    {
     "name": "stderr",
     "output_type": "stream",
     "text": [
      "2025-04-02 16:11:48.853216: I tensorflow/core/grappler/optimizers/custom_graph_optimizer_registry.cc:114] Plugin optimizer for device_type GPU is enabled.\n"
     ]
    },
    {
     "name": "stdout",
     "output_type": "stream",
     "text": [
      "21/21 [==============================] - ETA: 0s - loss: 0.7734 - accuracy: 0.6556"
     ]
    },
    {
     "name": "stderr",
     "output_type": "stream",
     "text": [
      "2025-04-02 16:11:58.672349: I tensorflow/core/grappler/optimizers/custom_graph_optimizer_registry.cc:114] Plugin optimizer for device_type GPU is enabled.\n"
     ]
    },
    {
     "name": "stdout",
     "output_type": "stream",
     "text": [
      "21/21 [==============================] - 19s 584ms/step - loss: 0.7734 - accuracy: 0.6556 - val_loss: 0.6296 - val_accuracy: 0.7349\n",
      "Epoch 2/100\n",
      "21/21 [==============================] - 5s 239ms/step - loss: 0.5698 - accuracy: 0.7444 - val_loss: 0.5387 - val_accuracy: 0.7470\n",
      "Epoch 3/100\n",
      "21/21 [==============================] - 5s 234ms/step - loss: 0.4941 - accuracy: 0.7684 - val_loss: 0.4960 - val_accuracy: 0.7651\n",
      "Epoch 4/100\n",
      "21/21 [==============================] - 5s 234ms/step - loss: 0.4514 - accuracy: 0.7910 - val_loss: 0.4517 - val_accuracy: 0.7831\n",
      "Epoch 5/100\n",
      "21/21 [==============================] - 5s 235ms/step - loss: 0.4063 - accuracy: 0.8241 - val_loss: 0.4115 - val_accuracy: 0.7952\n",
      "Epoch 6/100\n",
      "21/21 [==============================] - 5s 235ms/step - loss: 0.3787 - accuracy: 0.8421 - val_loss: 0.3832 - val_accuracy: 0.8072\n",
      "Epoch 7/100\n",
      "21/21 [==============================] - 5s 235ms/step - loss: 0.3330 - accuracy: 0.8767 - val_loss: 0.3496 - val_accuracy: 0.8193\n",
      "Epoch 8/100\n",
      "21/21 [==============================] - 5s 236ms/step - loss: 0.3097 - accuracy: 0.8692 - val_loss: 0.3824 - val_accuracy: 0.8253\n",
      "Epoch 9/100\n",
      "21/21 [==============================] - 5s 236ms/step - loss: 0.3048 - accuracy: 0.8842 - val_loss: 0.3372 - val_accuracy: 0.8253\n",
      "Epoch 10/100\n",
      "21/21 [==============================] - 5s 242ms/step - loss: 0.2834 - accuracy: 0.8842 - val_loss: 0.3428 - val_accuracy: 0.8193\n",
      "Epoch 11/100\n",
      "21/21 [==============================] - 5s 239ms/step - loss: 0.2665 - accuracy: 0.8902 - val_loss: 0.3571 - val_accuracy: 0.8373\n",
      "Epoch 12/100\n",
      "21/21 [==============================] - 5s 237ms/step - loss: 0.2499 - accuracy: 0.9053 - val_loss: 0.2756 - val_accuracy: 0.8614\n",
      "Epoch 13/100\n",
      "21/21 [==============================] - 5s 243ms/step - loss: 0.2369 - accuracy: 0.9143 - val_loss: 0.2859 - val_accuracy: 0.8494\n",
      "Epoch 14/100\n",
      "21/21 [==============================] - 5s 245ms/step - loss: 0.2153 - accuracy: 0.9278 - val_loss: 0.2474 - val_accuracy: 0.8916\n",
      "Epoch 15/100\n",
      "21/21 [==============================] - 5s 242ms/step - loss: 0.2195 - accuracy: 0.9158 - val_loss: 0.2915 - val_accuracy: 0.8434\n",
      "Epoch 16/100\n",
      "21/21 [==============================] - 5s 242ms/step - loss: 0.2104 - accuracy: 0.9398 - val_loss: 0.2599 - val_accuracy: 0.8795\n",
      "Epoch 17/100\n",
      "21/21 [==============================] - 5s 242ms/step - loss: 0.2204 - accuracy: 0.9248 - val_loss: 0.2115 - val_accuracy: 0.9036\n",
      "Epoch 18/100\n",
      "21/21 [==============================] - 5s 247ms/step - loss: 0.2119 - accuracy: 0.9248 - val_loss: 0.2445 - val_accuracy: 0.8675\n",
      "Epoch 19/100\n",
      "21/21 [==============================] - 5s 243ms/step - loss: 0.2130 - accuracy: 0.9128 - val_loss: 0.2835 - val_accuracy: 0.8735\n",
      "Epoch 20/100\n",
      "21/21 [==============================] - 5s 236ms/step - loss: 0.2060 - accuracy: 0.9338 - val_loss: 0.2366 - val_accuracy: 0.8614\n",
      "Epoch 21/100\n",
      "21/21 [==============================] - 5s 243ms/step - loss: 0.1997 - accuracy: 0.9263 - val_loss: 0.2015 - val_accuracy: 0.8976\n",
      "Epoch 22/100\n",
      "21/21 [==============================] - 5s 241ms/step - loss: 0.1775 - accuracy: 0.9444 - val_loss: 0.2697 - val_accuracy: 0.8795\n",
      "Epoch 23/100\n",
      "21/21 [==============================] - 5s 241ms/step - loss: 0.1702 - accuracy: 0.9368 - val_loss: 0.2426 - val_accuracy: 0.8795\n",
      "Epoch 24/100\n",
      "21/21 [==============================] - 5s 247ms/step - loss: 0.1467 - accuracy: 0.9594 - val_loss: 0.2403 - val_accuracy: 0.8735\n",
      "Epoch 25/100\n",
      "21/21 [==============================] - 5s 252ms/step - loss: 0.1656 - accuracy: 0.9398 - val_loss: 0.2168 - val_accuracy: 0.8916\n",
      "Epoch 26/100\n",
      "21/21 [==============================] - 5s 245ms/step - loss: 0.1512 - accuracy: 0.9429 - val_loss: 0.2788 - val_accuracy: 0.8554\n",
      "Epoch 27/100\n",
      "21/21 [==============================] - 5s 253ms/step - loss: 0.1680 - accuracy: 0.9414 - val_loss: 0.1668 - val_accuracy: 0.9277\n",
      "Epoch 28/100\n",
      "21/21 [==============================] - 5s 249ms/step - loss: 0.1396 - accuracy: 0.9534 - val_loss: 0.2382 - val_accuracy: 0.8795\n",
      "Epoch 29/100\n",
      "21/21 [==============================] - 5s 241ms/step - loss: 0.1520 - accuracy: 0.9504 - val_loss: 0.2036 - val_accuracy: 0.9036\n",
      "Epoch 30/100\n",
      "21/21 [==============================] - 5s 238ms/step - loss: 0.1617 - accuracy: 0.9504 - val_loss: 0.1960 - val_accuracy: 0.9096\n",
      "Epoch 31/100\n",
      "21/21 [==============================] - 5s 239ms/step - loss: 0.1316 - accuracy: 0.9579 - val_loss: 0.2094 - val_accuracy: 0.8855\n",
      "Epoch 32/100\n",
      "21/21 [==============================] - 5s 236ms/step - loss: 0.1226 - accuracy: 0.9609 - val_loss: 0.2745 - val_accuracy: 0.8735\n",
      "Epoch 33/100\n",
      "21/21 [==============================] - 5s 246ms/step - loss: 0.1337 - accuracy: 0.9459 - val_loss: 0.1904 - val_accuracy: 0.9036\n",
      "Epoch 34/100\n",
      "21/21 [==============================] - 5s 242ms/step - loss: 0.1339 - accuracy: 0.9504 - val_loss: 0.2110 - val_accuracy: 0.8976\n",
      "Epoch 35/100\n",
      "21/21 [==============================] - 5s 241ms/step - loss: 0.1187 - accuracy: 0.9669 - val_loss: 0.2183 - val_accuracy: 0.8916\n",
      "Epoch 36/100\n",
      "21/21 [==============================] - 5s 239ms/step - loss: 0.1203 - accuracy: 0.9609 - val_loss: 0.1822 - val_accuracy: 0.9398\n",
      "Epoch 37/100\n",
      "21/21 [==============================] - 5s 250ms/step - loss: 0.1155 - accuracy: 0.9684 - val_loss: 0.1921 - val_accuracy: 0.8976\n",
      "Epoch 38/100\n",
      "21/21 [==============================] - 5s 244ms/step - loss: 0.1138 - accuracy: 0.9669 - val_loss: 0.1806 - val_accuracy: 0.9096\n",
      "Epoch 39/100\n",
      "21/21 [==============================] - 5s 248ms/step - loss: 0.1163 - accuracy: 0.9579 - val_loss: 0.1800 - val_accuracy: 0.9096\n",
      "Epoch 40/100\n",
      "21/21 [==============================] - 5s 236ms/step - loss: 0.1109 - accuracy: 0.9714 - val_loss: 0.1652 - val_accuracy: 0.9036\n",
      "Epoch 41/100\n",
      "21/21 [==============================] - 5s 241ms/step - loss: 0.1097 - accuracy: 0.9639 - val_loss: 0.1734 - val_accuracy: 0.8916\n",
      "Epoch 42/100\n",
      "21/21 [==============================] - 5s 245ms/step - loss: 0.1116 - accuracy: 0.9624 - val_loss: 0.2251 - val_accuracy: 0.8976\n",
      "Epoch 43/100\n",
      "21/21 [==============================] - 5s 245ms/step - loss: 0.1060 - accuracy: 0.9654 - val_loss: 0.1893 - val_accuracy: 0.9217\n",
      "Epoch 44/100\n",
      "21/21 [==============================] - 5s 242ms/step - loss: 0.1059 - accuracy: 0.9669 - val_loss: 0.1569 - val_accuracy: 0.9096\n",
      "Epoch 45/100\n",
      "21/21 [==============================] - 5s 241ms/step - loss: 0.0952 - accuracy: 0.9729 - val_loss: 0.2759 - val_accuracy: 0.8554\n",
      "Epoch 46/100\n",
      "21/21 [==============================] - 5s 241ms/step - loss: 0.1010 - accuracy: 0.9639 - val_loss: 0.1669 - val_accuracy: 0.9157\n",
      "Epoch 47/100\n",
      "21/21 [==============================] - 5s 240ms/step - loss: 0.1025 - accuracy: 0.9699 - val_loss: 0.1648 - val_accuracy: 0.9157\n",
      "Epoch 48/100\n",
      "21/21 [==============================] - 5s 245ms/step - loss: 0.0890 - accuracy: 0.9744 - val_loss: 0.2496 - val_accuracy: 0.8735\n",
      "Epoch 49/100\n",
      "21/21 [==============================] - 5s 240ms/step - loss: 0.0891 - accuracy: 0.9744 - val_loss: 0.1378 - val_accuracy: 0.9518\n",
      "Epoch 50/100\n",
      "21/21 [==============================] - 5s 240ms/step - loss: 0.0997 - accuracy: 0.9639 - val_loss: 0.1380 - val_accuracy: 0.9337\n",
      "Epoch 51/100\n",
      "21/21 [==============================] - 5s 241ms/step - loss: 0.1019 - accuracy: 0.9669 - val_loss: 0.1916 - val_accuracy: 0.8795\n",
      "Epoch 52/100\n",
      "21/21 [==============================] - 5s 239ms/step - loss: 0.0823 - accuracy: 0.9759 - val_loss: 0.2205 - val_accuracy: 0.9036\n",
      "Epoch 53/100\n",
      "21/21 [==============================] - 5s 239ms/step - loss: 0.0991 - accuracy: 0.9714 - val_loss: 0.1736 - val_accuracy: 0.9157\n",
      "Epoch 54/100\n",
      "21/21 [==============================] - 5s 240ms/step - loss: 0.0857 - accuracy: 0.9774 - val_loss: 0.1974 - val_accuracy: 0.9096\n",
      "Epoch 55/100\n",
      "21/21 [==============================] - 5s 240ms/step - loss: 0.0863 - accuracy: 0.9714 - val_loss: 0.1043 - val_accuracy: 0.9518\n",
      "Epoch 56/100\n",
      "21/21 [==============================] - 5s 242ms/step - loss: 0.0895 - accuracy: 0.9714 - val_loss: 0.2167 - val_accuracy: 0.8916\n",
      "Epoch 57/100\n",
      "21/21 [==============================] - 5s 240ms/step - loss: 0.1007 - accuracy: 0.9714 - val_loss: 0.2157 - val_accuracy: 0.8795\n",
      "Epoch 58/100\n",
      "21/21 [==============================] - 5s 240ms/step - loss: 0.0995 - accuracy: 0.9654 - val_loss: 0.1771 - val_accuracy: 0.9518\n",
      "Epoch 59/100\n",
      "21/21 [==============================] - 5s 242ms/step - loss: 0.0745 - accuracy: 0.9744 - val_loss: 0.1927 - val_accuracy: 0.9036\n",
      "Epoch 60/100\n",
      "21/21 [==============================] - 5s 244ms/step - loss: 0.0684 - accuracy: 0.9865 - val_loss: 0.1641 - val_accuracy: 0.9458\n",
      "Epoch 61/100\n",
      "21/21 [==============================] - 5s 242ms/step - loss: 0.0747 - accuracy: 0.9744 - val_loss: 0.1687 - val_accuracy: 0.9337\n",
      "Epoch 62/100\n",
      "21/21 [==============================] - 5s 240ms/step - loss: 0.0999 - accuracy: 0.9654 - val_loss: 0.1897 - val_accuracy: 0.9036\n",
      "Epoch 63/100\n",
      "21/21 [==============================] - 5s 240ms/step - loss: 0.0760 - accuracy: 0.9759 - val_loss: 0.1702 - val_accuracy: 0.9217\n",
      "Epoch 64/100\n",
      "21/21 [==============================] - 5s 242ms/step - loss: 0.0718 - accuracy: 0.9774 - val_loss: 0.1852 - val_accuracy: 0.9096\n",
      "Epoch 65/100\n",
      "21/21 [==============================] - 5s 239ms/step - loss: 0.0865 - accuracy: 0.9729 - val_loss: 0.1737 - val_accuracy: 0.9036\n",
      "Epoch 66/100\n",
      "21/21 [==============================] - 5s 240ms/step - loss: 0.0739 - accuracy: 0.9729 - val_loss: 0.1839 - val_accuracy: 0.9337\n",
      "Epoch 67/100\n",
      "21/21 [==============================] - 5s 241ms/step - loss: 0.0836 - accuracy: 0.9639 - val_loss: 0.1739 - val_accuracy: 0.9157\n",
      "Epoch 68/100\n",
      "21/21 [==============================] - 5s 240ms/step - loss: 0.0750 - accuracy: 0.9805 - val_loss: 0.1758 - val_accuracy: 0.9036\n",
      "Epoch 69/100\n",
      "21/21 [==============================] - 5s 241ms/step - loss: 0.0844 - accuracy: 0.9744 - val_loss: 0.1738 - val_accuracy: 0.9217\n",
      "Epoch 70/100\n",
      "21/21 [==============================] - 5s 240ms/step - loss: 0.0725 - accuracy: 0.9805 - val_loss: 0.1308 - val_accuracy: 0.9398\n",
      "Epoch 71/100\n",
      "21/21 [==============================] - 5s 240ms/step - loss: 0.0617 - accuracy: 0.9865 - val_loss: 0.1431 - val_accuracy: 0.9337\n",
      "Epoch 72/100\n",
      "21/21 [==============================] - 5s 242ms/step - loss: 0.0687 - accuracy: 0.9774 - val_loss: 0.1463 - val_accuracy: 0.9337\n",
      "Epoch 73/100\n",
      "21/21 [==============================] - 5s 243ms/step - loss: 0.0639 - accuracy: 0.9895 - val_loss: 0.1200 - val_accuracy: 0.9518\n",
      "Epoch 74/100\n",
      "21/21 [==============================] - 5s 241ms/step - loss: 0.0813 - accuracy: 0.9699 - val_loss: 0.1836 - val_accuracy: 0.9157\n",
      "Epoch 75/100\n",
      "21/21 [==============================] - 5s 242ms/step - loss: 0.0686 - accuracy: 0.9820 - val_loss: 0.1939 - val_accuracy: 0.9036\n",
      "Epoch 76/100\n",
      "21/21 [==============================] - 5s 240ms/step - loss: 0.0756 - accuracy: 0.9759 - val_loss: 0.1621 - val_accuracy: 0.9337\n",
      "Epoch 77/100\n",
      "21/21 [==============================] - 5s 240ms/step - loss: 0.0748 - accuracy: 0.9729 - val_loss: 0.1156 - val_accuracy: 0.9398\n",
      "Epoch 78/100\n",
      "21/21 [==============================] - 5s 242ms/step - loss: 0.0667 - accuracy: 0.9759 - val_loss: 0.1705 - val_accuracy: 0.9157\n",
      "Epoch 79/100\n",
      "21/21 [==============================] - 5s 241ms/step - loss: 0.0559 - accuracy: 0.9820 - val_loss: 0.1627 - val_accuracy: 0.9217\n",
      "Epoch 80/100\n",
      "21/21 [==============================] - 5s 240ms/step - loss: 0.0630 - accuracy: 0.9820 - val_loss: 0.1437 - val_accuracy: 0.9277\n",
      "Epoch 81/100\n",
      "21/21 [==============================] - 5s 240ms/step - loss: 0.0651 - accuracy: 0.9805 - val_loss: 0.1565 - val_accuracy: 0.9398\n",
      "Epoch 82/100\n",
      "21/21 [==============================] - 5s 241ms/step - loss: 0.0668 - accuracy: 0.9759 - val_loss: 0.1383 - val_accuracy: 0.9518\n",
      "Epoch 83/100\n",
      "21/21 [==============================] - 5s 241ms/step - loss: 0.0719 - accuracy: 0.9744 - val_loss: 0.1549 - val_accuracy: 0.9458\n",
      "Epoch 84/100\n",
      "21/21 [==============================] - 5s 242ms/step - loss: 0.0802 - accuracy: 0.9729 - val_loss: 0.1413 - val_accuracy: 0.9277\n",
      "Epoch 85/100\n",
      "21/21 [==============================] - 5s 241ms/step - loss: 0.0753 - accuracy: 0.9774 - val_loss: 0.1383 - val_accuracy: 0.9217\n",
      "Epoch 86/100\n",
      "21/21 [==============================] - 5s 241ms/step - loss: 0.0505 - accuracy: 0.9895 - val_loss: 0.1494 - val_accuracy: 0.9217\n",
      "Epoch 87/100\n",
      "21/21 [==============================] - 5s 241ms/step - loss: 0.0464 - accuracy: 0.9880 - val_loss: 0.2396 - val_accuracy: 0.9036\n",
      "Epoch 88/100\n",
      "21/21 [==============================] - 5s 242ms/step - loss: 0.0559 - accuracy: 0.9850 - val_loss: 0.1214 - val_accuracy: 0.9398\n",
      "Epoch 89/100\n",
      "21/21 [==============================] - 5s 241ms/step - loss: 0.0525 - accuracy: 0.9865 - val_loss: 0.1911 - val_accuracy: 0.9217\n",
      "Epoch 90/100\n",
      "21/21 [==============================] - 5s 242ms/step - loss: 0.0640 - accuracy: 0.9805 - val_loss: 0.1074 - val_accuracy: 0.9578\n",
      "Epoch 91/100\n",
      "21/21 [==============================] - 5s 240ms/step - loss: 0.0513 - accuracy: 0.9865 - val_loss: 0.1327 - val_accuracy: 0.9458\n",
      "Epoch 92/100\n",
      "21/21 [==============================] - 5s 240ms/step - loss: 0.0546 - accuracy: 0.9835 - val_loss: 0.1676 - val_accuracy: 0.9157\n",
      "Epoch 93/100\n",
      "21/21 [==============================] - 5s 241ms/step - loss: 0.0607 - accuracy: 0.9835 - val_loss: 0.1479 - val_accuracy: 0.9398\n",
      "Epoch 94/100\n",
      "21/21 [==============================] - 5s 240ms/step - loss: 0.0449 - accuracy: 0.9925 - val_loss: 0.1134 - val_accuracy: 0.9699\n",
      "Epoch 95/100\n",
      "21/21 [==============================] - 5s 241ms/step - loss: 0.0421 - accuracy: 0.9925 - val_loss: 0.2152 - val_accuracy: 0.9157\n",
      "Epoch 96/100\n",
      "21/21 [==============================] - 5s 240ms/step - loss: 0.0441 - accuracy: 0.9865 - val_loss: 0.1662 - val_accuracy: 0.9277\n",
      "Epoch 97/100\n",
      "21/21 [==============================] - 5s 244ms/step - loss: 0.0529 - accuracy: 0.9850 - val_loss: 0.1528 - val_accuracy: 0.9398\n",
      "Epoch 98/100\n",
      "21/21 [==============================] - 5s 242ms/step - loss: 0.0559 - accuracy: 0.9835 - val_loss: 0.1588 - val_accuracy: 0.9277\n",
      "Epoch 99/100\n",
      "21/21 [==============================] - 5s 242ms/step - loss: 0.0552 - accuracy: 0.9835 - val_loss: 0.1405 - val_accuracy: 0.9458\n",
      "Epoch 100/100\n",
      "21/21 [==============================] - 5s 244ms/step - loss: 0.0515 - accuracy: 0.9910 - val_loss: 0.2455 - val_accuracy: 0.9036\n"
     ]
    }
   ],
   "source": [
    "history = model.fit(\n",
    "    train_generator,\n",
    "    validation_data=validation_generator,\n",
    "    epochs=100,\n",
    ")"
   ]
  },
  {
   "cell_type": "code",
   "execution_count": 18,
   "id": "5706f4c1",
   "metadata": {},
   "outputs": [
    {
     "name": "stdout",
     "output_type": "stream",
     "text": [
      "6/6 [==============================] - 1s 162ms/step - loss: 0.1569 - accuracy: 0.9277\n",
      "Validation Accuracy: 92.77%\n",
      "6/6 [==============================] - 1s 167ms/step\n",
      "\n",
      "Classification Report:\n",
      "              precision    recall  f1-score   support\n",
      "\n",
      "           0       0.74      0.80      0.77       122\n",
      "           1       0.27      0.20      0.23        44\n",
      "\n",
      "    accuracy                           0.64       166\n",
      "   macro avg       0.50      0.50      0.50       166\n",
      "weighted avg       0.61      0.64      0.63       166\n",
      "\n",
      "\n",
      "Confusion Matrix:\n",
      "[[98 24]\n",
      " [35  9]]\n"
     ]
    }
   ],
   "source": [
    "val_loss, val_accuracy = model.evaluate(validation_generator)\n",
    "print(f\"Validation Accuracy: {val_accuracy * 100:.2f}%\")\n",
    "\n",
    "validation_generator.reset()\n",
    "predictions = (model.predict(validation_generator) > 0.5).astype(\"int64\")\n",
    "true_classes = validation_generator.classes\n",
    "\n",
    "print(\"\\nClassification Report:\")\n",
    "print(classification_report(true_classes, predictions))\n",
    "\n",
    "print(\"\\nConfusion Matrix:\")\n",
    "print(confusion_matrix(true_classes, predictions))"
   ]
  }
 ],
 "metadata": {
  "kaggle": {
   "accelerator": "gpu",
   "dataSources": [
    {
     "datasetId": 1685415,
     "sourceId": 2762111,
     "sourceType": "datasetVersion"
    }
   ],
   "dockerImageVersionId": 30648,
   "isGpuEnabled": true,
   "isInternetEnabled": true,
   "language": "python",
   "sourceType": "notebook"
  },
  "kernelspec": {
   "display_name": "Python 3",
   "language": "python",
   "name": "python3"
  },
  "language_info": {
   "codemirror_mode": {
    "name": "ipython",
    "version": 3
   },
   "file_extension": ".py",
   "mimetype": "text/x-python",
   "name": "python",
   "nbconvert_exporter": "python",
   "pygments_lexer": "ipython3",
   "version": "3.8.16"
  },
  "papermill": {
   "default_parameters": {},
   "duration": 695.546863,
   "end_time": "2024-02-13T15:29:11.942165",
   "environment_variables": {},
   "exception": null,
   "input_path": "__notebook__.ipynb",
   "output_path": "__notebook__.ipynb",
   "parameters": {},
   "start_time": "2024-02-13T15:17:36.395302",
   "version": "2.5.0"
  }
 },
 "nbformat": 4,
 "nbformat_minor": 5
}
