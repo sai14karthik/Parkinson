{
 "cells": [
  {
   "cell_type": "code",
   "execution_count": 1,
   "id": "d5928da8",
   "metadata": {},
   "outputs": [],
   "source": [
    "import os\n",
    "import numpy as np\n",
    "from tensorflow.keras.applications import InceptionV3\n",
    "\n",
    "from tensorflow.keras.models import Sequential\n",
    "from tensorflow.keras.layers import Dense, GlobalAveragePooling2D, Dropout\n",
    "from tensorflow.keras.preprocessing.image import ImageDataGenerator\n",
    "from tensorflow.keras.optimizers import Adam\n",
    "from sklearn.metrics import classification_report, confusion_matrix"
   ]
  },
  {
   "cell_type": "code",
   "execution_count": 2,
   "id": "d7851ba1",
   "metadata": {},
   "outputs": [],
   "source": [
    "data_dir = '/Users/saikarthik/Downloads/untitled folder/parkinsons_dataset'\n"
   ]
  },
  {
   "cell_type": "code",
   "execution_count": 3,
   "id": "66c3dd9b",
   "metadata": {},
   "outputs": [],
   "source": [
    "img_height, img_width = 224, 224 \n",
    "batch_size = 32\n"
   ]
  },
  {
   "cell_type": "code",
   "execution_count": 4,
   "id": "af6d12a2",
   "metadata": {},
   "outputs": [],
   "source": [
    "datagen = ImageDataGenerator(\n",
    "    rescale=1.0 / 255,\n",
    "    validation_split=0.2,  \n",
    "    rotation_range=20,\n",
    "    width_shift_range=0.2,\n",
    "    height_shift_range=0.2,\n",
    "    shear_range=0.2,\n",
    "    zoom_range=0.2,\n",
    "    horizontal_flip=True,\n",
    ")\n"
   ]
  },
  {
   "cell_type": "code",
   "execution_count": 5,
   "id": "bf0d4695",
   "metadata": {},
   "outputs": [
    {
     "name": "stdout",
     "output_type": "stream",
     "text": [
      "Found 665 images belonging to 2 classes.\n"
     ]
    }
   ],
   "source": [
    "\n",
    "train_generator = datagen.flow_from_directory(\n",
    "    data_dir,\n",
    "    target_size=(img_height, img_width),\n",
    "    batch_size=batch_size,\n",
    "    class_mode='binary',\n",
    "    subset='training',\n",
    ")"
   ]
  },
  {
   "cell_type": "code",
   "execution_count": 6,
   "id": "7467fe4b",
   "metadata": {},
   "outputs": [
    {
     "name": "stdout",
     "output_type": "stream",
     "text": [
      "Found 166 images belonging to 2 classes.\n"
     ]
    }
   ],
   "source": [
    "\n",
    "validation_generator = datagen.flow_from_directory(\n",
    "    data_dir,\n",
    "    target_size=(img_height, img_width),\n",
    "    batch_size=batch_size,\n",
    "    class_mode='binary',\n",
    "    subset='validation',\n",
    ")"
   ]
  },
  {
   "cell_type": "code",
   "execution_count": 7,
   "id": "ebc0cc15",
   "metadata": {},
   "outputs": [
    {
     "name": "stderr",
     "output_type": "stream",
     "text": [
      "2025-04-02 13:49:33.814333: I metal_plugin/src/device/metal_device.cc:1154] Metal device set to: Apple M1 Pro\n",
      "2025-04-02 13:49:33.814365: I metal_plugin/src/device/metal_device.cc:296] systemMemory: 16.00 GB\n",
      "2025-04-02 13:49:33.814376: I metal_plugin/src/device/metal_device.cc:313] maxCacheSize: 5.33 GB\n",
      "2025-04-02 13:49:33.814528: I tensorflow/core/common_runtime/pluggable_device/pluggable_device_factory.cc:303] Could not identify NUMA node of platform GPU ID 0, defaulting to 0. Your kernel may not have been built with NUMA support.\n",
      "2025-04-02 13:49:33.814544: I tensorflow/core/common_runtime/pluggable_device/pluggable_device_factory.cc:269] Created TensorFlow device (/job:localhost/replica:0/task:0/device:GPU:0 with 0 MB memory) -> physical PluggableDevice (device: 0, name: METAL, pci bus id: <undefined>)\n"
     ]
    }
   ],
   "source": [
    "base_model = InceptionV3(weights='imagenet', include_top=False, input_shape=(img_height, img_width, 3))"
   ]
  },
  {
   "cell_type": "code",
   "execution_count": 8,
   "id": "f5629127",
   "metadata": {},
   "outputs": [],
   "source": [
    "for layer in base_model.layers:\n",
    "    layer.trainable = False"
   ]
  },
  {
   "cell_type": "code",
   "execution_count": 9,
   "id": "c62cda15",
   "metadata": {},
   "outputs": [],
   "source": [
    "\n",
    "\n",
    "model = Sequential([\n",
    "    base_model,\n",
    "    GlobalAveragePooling2D(),\n",
    "    Dense(256, activation='relu'),\n",
    "    Dropout(0.5),\n",
    "    Dense(1, activation='sigmoid')\n",
    "])\n"
   ]
  },
  {
   "cell_type": "code",
   "execution_count": 10,
   "id": "0ef99f53",
   "metadata": {},
   "outputs": [
    {
     "name": "stderr",
     "output_type": "stream",
     "text": [
      "WARNING:absl:At this time, the v2.11+ optimizer `tf.keras.optimizers.Adam` runs slowly on M1/M2 Macs, please use the legacy Keras optimizer instead, located at `tf.keras.optimizers.legacy.Adam`.\n",
      "WARNING:absl:There is a known slowdown when using v2.11+ Keras optimizers on M1/M2 Macs. Falling back to the legacy Keras optimizer, i.e., `tf.keras.optimizers.legacy.Adam`.\n"
     ]
    }
   ],
   "source": [
    "model.compile(optimizer=Adam(learning_rate=0.0001), loss='binary_crossentropy', metrics=['accuracy'])"
   ]
  },
  {
   "cell_type": "code",
   "execution_count": 11,
   "id": "9813ed99",
   "metadata": {},
   "outputs": [
    {
     "name": "stdout",
     "output_type": "stream",
     "text": [
      "Epoch 1/100\n"
     ]
    },
    {
     "name": "stderr",
     "output_type": "stream",
     "text": [
      "2025-04-02 13:49:38.533678: I tensorflow/core/grappler/optimizers/custom_graph_optimizer_registry.cc:114] Plugin optimizer for device_type GPU is enabled.\n"
     ]
    },
    {
     "name": "stdout",
     "output_type": "stream",
     "text": [
      "21/21 [==============================] - ETA: 0s - loss: 0.6429 - accuracy: 0.7083"
     ]
    },
    {
     "name": "stderr",
     "output_type": "stream",
     "text": [
      "2025-04-02 13:49:45.667612: I tensorflow/core/grappler/optimizers/custom_graph_optimizer_registry.cc:114] Plugin optimizer for device_type GPU is enabled.\n"
     ]
    },
    {
     "name": "stdout",
     "output_type": "stream",
     "text": [
      "21/21 [==============================] - 11s 364ms/step - loss: 0.6429 - accuracy: 0.7083 - val_loss: 0.7434 - val_accuracy: 0.7349\n",
      "Epoch 2/100\n",
      "21/21 [==============================] - 5s 253ms/step - loss: 0.5201 - accuracy: 0.7850 - val_loss: 0.6559 - val_accuracy: 0.7530\n",
      "Epoch 3/100\n",
      "21/21 [==============================] - 5s 238ms/step - loss: 0.3969 - accuracy: 0.8436 - val_loss: 0.5246 - val_accuracy: 0.7771\n",
      "Epoch 4/100\n",
      "21/21 [==============================] - 5s 236ms/step - loss: 0.3649 - accuracy: 0.8602 - val_loss: 0.5370 - val_accuracy: 0.7771\n",
      "Epoch 5/100\n",
      "21/21 [==============================] - 5s 235ms/step - loss: 0.3194 - accuracy: 0.8692 - val_loss: 0.4662 - val_accuracy: 0.8072\n",
      "Epoch 6/100\n",
      "21/21 [==============================] - 5s 234ms/step - loss: 0.2848 - accuracy: 0.8977 - val_loss: 0.3538 - val_accuracy: 0.8675\n",
      "Epoch 7/100\n",
      "21/21 [==============================] - 5s 236ms/step - loss: 0.3136 - accuracy: 0.8556 - val_loss: 0.3338 - val_accuracy: 0.8373\n",
      "Epoch 8/100\n",
      "21/21 [==============================] - 5s 231ms/step - loss: 0.2758 - accuracy: 0.9008 - val_loss: 0.2916 - val_accuracy: 0.8855\n",
      "Epoch 9/100\n",
      "21/21 [==============================] - 5s 234ms/step - loss: 0.2339 - accuracy: 0.9068 - val_loss: 0.3064 - val_accuracy: 0.8554\n",
      "Epoch 10/100\n",
      "21/21 [==============================] - 5s 238ms/step - loss: 0.2351 - accuracy: 0.9068 - val_loss: 0.2903 - val_accuracy: 0.8916\n",
      "Epoch 11/100\n",
      "21/21 [==============================] - 5s 246ms/step - loss: 0.1903 - accuracy: 0.9293 - val_loss: 0.3754 - val_accuracy: 0.8253\n",
      "Epoch 12/100\n",
      "21/21 [==============================] - 5s 239ms/step - loss: 0.1913 - accuracy: 0.9278 - val_loss: 0.3199 - val_accuracy: 0.8494\n",
      "Epoch 13/100\n",
      "21/21 [==============================] - 5s 240ms/step - loss: 0.2046 - accuracy: 0.9308 - val_loss: 0.3414 - val_accuracy: 0.8373\n",
      "Epoch 14/100\n",
      "21/21 [==============================] - 5s 237ms/step - loss: 0.2128 - accuracy: 0.9113 - val_loss: 0.3022 - val_accuracy: 0.8434\n",
      "Epoch 15/100\n",
      "21/21 [==============================] - 5s 239ms/step - loss: 0.1761 - accuracy: 0.9474 - val_loss: 0.3257 - val_accuracy: 0.8614\n",
      "Epoch 16/100\n",
      "21/21 [==============================] - 5s 240ms/step - loss: 0.1624 - accuracy: 0.9444 - val_loss: 0.2548 - val_accuracy: 0.8735\n",
      "Epoch 17/100\n",
      "21/21 [==============================] - 5s 236ms/step - loss: 0.1661 - accuracy: 0.9308 - val_loss: 0.2980 - val_accuracy: 0.8494\n",
      "Epoch 18/100\n",
      "21/21 [==============================] - 5s 237ms/step - loss: 0.1593 - accuracy: 0.9368 - val_loss: 0.3309 - val_accuracy: 0.8313\n",
      "Epoch 19/100\n",
      "21/21 [==============================] - 5s 238ms/step - loss: 0.1560 - accuracy: 0.9338 - val_loss: 0.3801 - val_accuracy: 0.8253\n",
      "Epoch 20/100\n",
      "21/21 [==============================] - 5s 236ms/step - loss: 0.1338 - accuracy: 0.9549 - val_loss: 0.3592 - val_accuracy: 0.8614\n",
      "Epoch 21/100\n",
      "21/21 [==============================] - 5s 238ms/step - loss: 0.1345 - accuracy: 0.9579 - val_loss: 0.4226 - val_accuracy: 0.8554\n",
      "Epoch 22/100\n",
      "21/21 [==============================] - 5s 236ms/step - loss: 0.1185 - accuracy: 0.9654 - val_loss: 0.3515 - val_accuracy: 0.8554\n",
      "Epoch 23/100\n",
      "21/21 [==============================] - 5s 237ms/step - loss: 0.1210 - accuracy: 0.9639 - val_loss: 0.1982 - val_accuracy: 0.9036\n",
      "Epoch 24/100\n",
      "21/21 [==============================] - 5s 236ms/step - loss: 0.1405 - accuracy: 0.9444 - val_loss: 0.4115 - val_accuracy: 0.8253\n",
      "Epoch 25/100\n",
      "21/21 [==============================] - 5s 238ms/step - loss: 0.1321 - accuracy: 0.9549 - val_loss: 0.3025 - val_accuracy: 0.8795\n",
      "Epoch 26/100\n",
      "21/21 [==============================] - 5s 237ms/step - loss: 0.1110 - accuracy: 0.9624 - val_loss: 0.2773 - val_accuracy: 0.8735\n",
      "Epoch 27/100\n",
      "21/21 [==============================] - 5s 237ms/step - loss: 0.0958 - accuracy: 0.9789 - val_loss: 0.2917 - val_accuracy: 0.8614\n",
      "Epoch 28/100\n",
      "21/21 [==============================] - 5s 238ms/step - loss: 0.1384 - accuracy: 0.9444 - val_loss: 0.2247 - val_accuracy: 0.8976\n",
      "Epoch 29/100\n",
      "21/21 [==============================] - 5s 236ms/step - loss: 0.1001 - accuracy: 0.9684 - val_loss: 0.2926 - val_accuracy: 0.8675\n",
      "Epoch 30/100\n",
      "21/21 [==============================] - 5s 236ms/step - loss: 0.1159 - accuracy: 0.9609 - val_loss: 0.1983 - val_accuracy: 0.9157\n",
      "Epoch 31/100\n",
      "21/21 [==============================] - 5s 237ms/step - loss: 0.1052 - accuracy: 0.9609 - val_loss: 0.2518 - val_accuracy: 0.9157\n",
      "Epoch 32/100\n",
      "21/21 [==============================] - 5s 239ms/step - loss: 0.0999 - accuracy: 0.9729 - val_loss: 0.1637 - val_accuracy: 0.9157\n",
      "Epoch 33/100\n",
      "21/21 [==============================] - 5s 233ms/step - loss: 0.1208 - accuracy: 0.9549 - val_loss: 0.1675 - val_accuracy: 0.9337\n",
      "Epoch 34/100\n",
      "21/21 [==============================] - 5s 234ms/step - loss: 0.1171 - accuracy: 0.9564 - val_loss: 0.2118 - val_accuracy: 0.8916\n",
      "Epoch 35/100\n",
      "21/21 [==============================] - 5s 237ms/step - loss: 0.1004 - accuracy: 0.9669 - val_loss: 0.2694 - val_accuracy: 0.8855\n",
      "Epoch 36/100\n",
      "21/21 [==============================] - 5s 237ms/step - loss: 0.1030 - accuracy: 0.9624 - val_loss: 0.2703 - val_accuracy: 0.8795\n",
      "Epoch 37/100\n",
      "21/21 [==============================] - 5s 238ms/step - loss: 0.0914 - accuracy: 0.9699 - val_loss: 0.1562 - val_accuracy: 0.9398\n",
      "Epoch 38/100\n",
      "21/21 [==============================] - 5s 239ms/step - loss: 0.1041 - accuracy: 0.9624 - val_loss: 0.3495 - val_accuracy: 0.8434\n",
      "Epoch 39/100\n",
      "21/21 [==============================] - 5s 235ms/step - loss: 0.0811 - accuracy: 0.9744 - val_loss: 0.1428 - val_accuracy: 0.9337\n",
      "Epoch 40/100\n",
      "21/21 [==============================] - 5s 237ms/step - loss: 0.0866 - accuracy: 0.9714 - val_loss: 0.2706 - val_accuracy: 0.8976\n",
      "Epoch 41/100\n",
      "21/21 [==============================] - 5s 239ms/step - loss: 0.0815 - accuracy: 0.9789 - val_loss: 0.3155 - val_accuracy: 0.8735\n",
      "Epoch 42/100\n",
      "21/21 [==============================] - 5s 237ms/step - loss: 0.0909 - accuracy: 0.9744 - val_loss: 0.1997 - val_accuracy: 0.9036\n",
      "Epoch 43/100\n",
      "21/21 [==============================] - 5s 238ms/step - loss: 0.0863 - accuracy: 0.9714 - val_loss: 0.2195 - val_accuracy: 0.9157\n",
      "Epoch 44/100\n",
      "21/21 [==============================] - 5s 254ms/step - loss: 0.0960 - accuracy: 0.9624 - val_loss: 0.1958 - val_accuracy: 0.9277\n",
      "Epoch 45/100\n",
      "21/21 [==============================] - 5s 242ms/step - loss: 0.0688 - accuracy: 0.9774 - val_loss: 0.1840 - val_accuracy: 0.9217\n",
      "Epoch 46/100\n",
      "21/21 [==============================] - 5s 241ms/step - loss: 0.0726 - accuracy: 0.9759 - val_loss: 0.1616 - val_accuracy: 0.9398\n",
      "Epoch 47/100\n",
      "21/21 [==============================] - 5s 240ms/step - loss: 0.0801 - accuracy: 0.9699 - val_loss: 0.1654 - val_accuracy: 0.9277\n",
      "Epoch 48/100\n",
      "21/21 [==============================] - 5s 238ms/step - loss: 0.0679 - accuracy: 0.9835 - val_loss: 0.3098 - val_accuracy: 0.8795\n",
      "Epoch 49/100\n",
      "21/21 [==============================] - 5s 238ms/step - loss: 0.0919 - accuracy: 0.9639 - val_loss: 0.2934 - val_accuracy: 0.8976\n",
      "Epoch 50/100\n",
      "21/21 [==============================] - 5s 237ms/step - loss: 0.0756 - accuracy: 0.9805 - val_loss: 0.2254 - val_accuracy: 0.9157\n",
      "Epoch 51/100\n",
      "21/21 [==============================] - 5s 236ms/step - loss: 0.0685 - accuracy: 0.9835 - val_loss: 0.2188 - val_accuracy: 0.9337\n",
      "Epoch 52/100\n",
      "21/21 [==============================] - 5s 245ms/step - loss: 0.0596 - accuracy: 0.9880 - val_loss: 0.2275 - val_accuracy: 0.9157\n",
      "Epoch 53/100\n",
      "21/21 [==============================] - 5s 235ms/step - loss: 0.0832 - accuracy: 0.9669 - val_loss: 0.3272 - val_accuracy: 0.8916\n",
      "Epoch 54/100\n",
      "21/21 [==============================] - 5s 235ms/step - loss: 0.0851 - accuracy: 0.9684 - val_loss: 0.2132 - val_accuracy: 0.8916\n",
      "Epoch 55/100\n",
      "21/21 [==============================] - 5s 236ms/step - loss: 0.0724 - accuracy: 0.9699 - val_loss: 0.2185 - val_accuracy: 0.9217\n",
      "Epoch 56/100\n",
      "21/21 [==============================] - 5s 235ms/step - loss: 0.0607 - accuracy: 0.9865 - val_loss: 0.1581 - val_accuracy: 0.9157\n",
      "Epoch 57/100\n",
      "21/21 [==============================] - 5s 236ms/step - loss: 0.0746 - accuracy: 0.9714 - val_loss: 0.2339 - val_accuracy: 0.9157\n",
      "Epoch 58/100\n",
      "21/21 [==============================] - 5s 239ms/step - loss: 0.0627 - accuracy: 0.9774 - val_loss: 0.2041 - val_accuracy: 0.9157\n",
      "Epoch 59/100\n",
      "21/21 [==============================] - 5s 244ms/step - loss: 0.0669 - accuracy: 0.9729 - val_loss: 0.2155 - val_accuracy: 0.9277\n",
      "Epoch 60/100\n",
      "21/21 [==============================] - 5s 230ms/step - loss: 0.0539 - accuracy: 0.9850 - val_loss: 0.2456 - val_accuracy: 0.9217\n",
      "Epoch 61/100\n",
      "21/21 [==============================] - 5s 236ms/step - loss: 0.0588 - accuracy: 0.9789 - val_loss: 0.2090 - val_accuracy: 0.9277\n",
      "Epoch 62/100\n",
      "21/21 [==============================] - 5s 236ms/step - loss: 0.0591 - accuracy: 0.9789 - val_loss: 0.2086 - val_accuracy: 0.9337\n",
      "Epoch 63/100\n",
      "21/21 [==============================] - 5s 238ms/step - loss: 0.0742 - accuracy: 0.9654 - val_loss: 0.3244 - val_accuracy: 0.8855\n",
      "Epoch 64/100\n",
      "21/21 [==============================] - 5s 234ms/step - loss: 0.0505 - accuracy: 0.9880 - val_loss: 0.2491 - val_accuracy: 0.8976\n",
      "Epoch 65/100\n",
      "21/21 [==============================] - 5s 236ms/step - loss: 0.0701 - accuracy: 0.9744 - val_loss: 0.2818 - val_accuracy: 0.8916\n",
      "Epoch 66/100\n",
      "21/21 [==============================] - 5s 234ms/step - loss: 0.0882 - accuracy: 0.9669 - val_loss: 0.3735 - val_accuracy: 0.8554\n",
      "Epoch 67/100\n",
      "21/21 [==============================] - 5s 235ms/step - loss: 0.0729 - accuracy: 0.9684 - val_loss: 0.1805 - val_accuracy: 0.9277\n",
      "Epoch 68/100\n",
      "21/21 [==============================] - 5s 238ms/step - loss: 0.0717 - accuracy: 0.9744 - val_loss: 0.1543 - val_accuracy: 0.9217\n",
      "Epoch 69/100\n",
      "21/21 [==============================] - 5s 239ms/step - loss: 0.0637 - accuracy: 0.9729 - val_loss: 0.1727 - val_accuracy: 0.9458\n",
      "Epoch 70/100\n",
      "21/21 [==============================] - 5s 234ms/step - loss: 0.0451 - accuracy: 0.9910 - val_loss: 0.1978 - val_accuracy: 0.9096\n",
      "Epoch 71/100\n",
      "21/21 [==============================] - 5s 236ms/step - loss: 0.0564 - accuracy: 0.9835 - val_loss: 0.2181 - val_accuracy: 0.9036\n",
      "Epoch 72/100\n",
      "21/21 [==============================] - 5s 233ms/step - loss: 0.0495 - accuracy: 0.9865 - val_loss: 0.2876 - val_accuracy: 0.8855\n",
      "Epoch 73/100\n",
      "21/21 [==============================] - 5s 236ms/step - loss: 0.0876 - accuracy: 0.9714 - val_loss: 0.3677 - val_accuracy: 0.8614\n",
      "Epoch 74/100\n",
      "21/21 [==============================] - 5s 234ms/step - loss: 0.0603 - accuracy: 0.9774 - val_loss: 0.3071 - val_accuracy: 0.8855\n",
      "Epoch 75/100\n",
      "21/21 [==============================] - 5s 233ms/step - loss: 0.0566 - accuracy: 0.9820 - val_loss: 0.2101 - val_accuracy: 0.9096\n",
      "Epoch 76/100\n",
      "21/21 [==============================] - 5s 234ms/step - loss: 0.0664 - accuracy: 0.9774 - val_loss: 0.1725 - val_accuracy: 0.9337\n",
      "Epoch 77/100\n",
      "21/21 [==============================] - 5s 239ms/step - loss: 0.0659 - accuracy: 0.9684 - val_loss: 0.2908 - val_accuracy: 0.9157\n",
      "Epoch 78/100\n",
      "21/21 [==============================] - 5s 238ms/step - loss: 0.0673 - accuracy: 0.9774 - val_loss: 0.2294 - val_accuracy: 0.8855\n",
      "Epoch 79/100\n",
      "21/21 [==============================] - 5s 237ms/step - loss: 0.0548 - accuracy: 0.9805 - val_loss: 0.2624 - val_accuracy: 0.9036\n",
      "Epoch 80/100\n",
      "21/21 [==============================] - 5s 234ms/step - loss: 0.0620 - accuracy: 0.9789 - val_loss: 0.2742 - val_accuracy: 0.8735\n",
      "Epoch 81/100\n",
      "21/21 [==============================] - 5s 235ms/step - loss: 0.0614 - accuracy: 0.9789 - val_loss: 0.1799 - val_accuracy: 0.9337\n",
      "Epoch 82/100\n",
      "21/21 [==============================] - 5s 235ms/step - loss: 0.0437 - accuracy: 0.9880 - val_loss: 0.2687 - val_accuracy: 0.8916\n",
      "Epoch 83/100\n",
      "21/21 [==============================] - 5s 235ms/step - loss: 0.0426 - accuracy: 0.9850 - val_loss: 0.1545 - val_accuracy: 0.9518\n",
      "Epoch 84/100\n",
      "21/21 [==============================] - 5s 234ms/step - loss: 0.0708 - accuracy: 0.9714 - val_loss: 0.1796 - val_accuracy: 0.9398\n",
      "Epoch 85/100\n",
      "21/21 [==============================] - 5s 239ms/step - loss: 0.0533 - accuracy: 0.9805 - val_loss: 0.1093 - val_accuracy: 0.9699\n",
      "Epoch 86/100\n",
      "21/21 [==============================] - 5s 236ms/step - loss: 0.0673 - accuracy: 0.9744 - val_loss: 0.1370 - val_accuracy: 0.9578\n",
      "Epoch 87/100\n",
      "21/21 [==============================] - 5s 235ms/step - loss: 0.0479 - accuracy: 0.9880 - val_loss: 0.2914 - val_accuracy: 0.8916\n",
      "Epoch 88/100\n",
      "21/21 [==============================] - 5s 237ms/step - loss: 0.0429 - accuracy: 0.9850 - val_loss: 0.2467 - val_accuracy: 0.9337\n",
      "Epoch 89/100\n",
      "21/21 [==============================] - 5s 235ms/step - loss: 0.0388 - accuracy: 0.9880 - val_loss: 0.2335 - val_accuracy: 0.9157\n",
      "Epoch 90/100\n",
      "21/21 [==============================] - 5s 237ms/step - loss: 0.0626 - accuracy: 0.9850 - val_loss: 0.1285 - val_accuracy: 0.9578\n",
      "Epoch 91/100\n",
      "21/21 [==============================] - 5s 237ms/step - loss: 0.0424 - accuracy: 0.9880 - val_loss: 0.1927 - val_accuracy: 0.9277\n",
      "Epoch 92/100\n",
      "21/21 [==============================] - 5s 237ms/step - loss: 0.0513 - accuracy: 0.9865 - val_loss: 0.2298 - val_accuracy: 0.9337\n",
      "Epoch 93/100\n",
      "21/21 [==============================] - 5s 235ms/step - loss: 0.0460 - accuracy: 0.9789 - val_loss: 0.1414 - val_accuracy: 0.9458\n",
      "Epoch 94/100\n",
      "21/21 [==============================] - 5s 239ms/step - loss: 0.0480 - accuracy: 0.9850 - val_loss: 0.2260 - val_accuracy: 0.9277\n",
      "Epoch 95/100\n",
      "21/21 [==============================] - 5s 237ms/step - loss: 0.0467 - accuracy: 0.9865 - val_loss: 0.2693 - val_accuracy: 0.9157\n",
      "Epoch 96/100\n",
      "21/21 [==============================] - 5s 236ms/step - loss: 0.0506 - accuracy: 0.9835 - val_loss: 0.1761 - val_accuracy: 0.9398\n",
      "Epoch 97/100\n",
      "21/21 [==============================] - 5s 240ms/step - loss: 0.0431 - accuracy: 0.9895 - val_loss: 0.1618 - val_accuracy: 0.9458\n",
      "Epoch 98/100\n",
      "21/21 [==============================] - 5s 236ms/step - loss: 0.0403 - accuracy: 0.9880 - val_loss: 0.1417 - val_accuracy: 0.9518\n",
      "Epoch 99/100\n",
      "21/21 [==============================] - 5s 236ms/step - loss: 0.0384 - accuracy: 0.9895 - val_loss: 0.1433 - val_accuracy: 0.9578\n",
      "Epoch 100/100\n",
      "21/21 [==============================] - 5s 241ms/step - loss: 0.0442 - accuracy: 0.9880 - val_loss: 0.2555 - val_accuracy: 0.8855\n"
     ]
    }
   ],
   "source": [
    "history = model.fit(\n",
    "    train_generator,\n",
    "    validation_data=validation_generator,\n",
    "    epochs=100,\n",
    ")"
   ]
  },
  {
   "cell_type": "code",
   "execution_count": 12,
   "id": "5706f4c1",
   "metadata": {},
   "outputs": [
    {
     "name": "stdout",
     "output_type": "stream",
     "text": [
      "6/6 [==============================] - 1s 158ms/step - loss: 0.1817 - accuracy: 0.9217\n",
      "Validation Accuracy: 92.17%\n"
     ]
    },
    {
     "name": "stderr",
     "output_type": "stream",
     "text": [
      "2025-04-02 13:58:07.949011: I tensorflow/core/grappler/optimizers/custom_graph_optimizer_registry.cc:114] Plugin optimizer for device_type GPU is enabled.\n"
     ]
    },
    {
     "name": "stdout",
     "output_type": "stream",
     "text": [
      "6/6 [==============================] - 2s 210ms/step\n",
      "\n",
      "Classification Report:\n",
      "              precision    recall  f1-score   support\n",
      "\n",
      "           0       0.74      0.80      0.77       122\n",
      "           1       0.29      0.23      0.25        44\n",
      "\n",
      "    accuracy                           0.64       166\n",
      "   macro avg       0.51      0.51      0.51       166\n",
      "weighted avg       0.62      0.64      0.63       166\n",
      "\n",
      "\n",
      "Confusion Matrix:\n",
      "[[97 25]\n",
      " [34 10]]\n"
     ]
    }
   ],
   "source": [
    "val_loss, val_accuracy = model.evaluate(validation_generator)\n",
    "print(f\"Validation Accuracy: {val_accuracy * 100:.2f}%\")\n",
    "\n",
    "validation_generator.reset()\n",
    "predictions = (model.predict(validation_generator) > 0.5).astype(\"int64\")\n",
    "true_classes = validation_generator.classes\n",
    "\n",
    "print(\"\\nClassification Report:\")\n",
    "print(classification_report(true_classes, predictions))\n",
    "\n",
    "print(\"\\nConfusion Matrix:\")\n",
    "print(confusion_matrix(true_classes, predictions))"
   ]
  }
 ],
 "metadata": {
  "kaggle": {
   "accelerator": "gpu",
   "dataSources": [
    {
     "datasetId": 1685415,
     "sourceId": 2762111,
     "sourceType": "datasetVersion"
    }
   ],
   "dockerImageVersionId": 30648,
   "isGpuEnabled": true,
   "isInternetEnabled": true,
   "language": "python",
   "sourceType": "notebook"
  },
  "kernelspec": {
   "display_name": "Python 3",
   "language": "python",
   "name": "python3"
  },
  "language_info": {
   "codemirror_mode": {
    "name": "ipython",
    "version": 3
   },
   "file_extension": ".py",
   "mimetype": "text/x-python",
   "name": "python",
   "nbconvert_exporter": "python",
   "pygments_lexer": "ipython3",
   "version": "3.8.16"
  },
  "papermill": {
   "default_parameters": {},
   "duration": 695.546863,
   "end_time": "2024-02-13T15:29:11.942165",
   "environment_variables": {},
   "exception": null,
   "input_path": "__notebook__.ipynb",
   "output_path": "__notebook__.ipynb",
   "parameters": {},
   "start_time": "2024-02-13T15:17:36.395302",
   "version": "2.5.0"
  }
 },
 "nbformat": 4,
 "nbformat_minor": 5
}
