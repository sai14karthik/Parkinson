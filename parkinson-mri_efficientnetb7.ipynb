{
 "cells": [
  {
   "cell_type": "code",
   "execution_count": 2,
   "id": "d5928da8",
   "metadata": {},
   "outputs": [],
   "source": [
    "import os\n",
    "import numpy as np\n",
    "from tensorflow.keras.applications import EfficientNetB7\n",
    "\n",
    "from tensorflow.keras.models import Sequential\n",
    "from tensorflow.keras.layers import Dense, GlobalAveragePooling2D, Dropout\n",
    "from tensorflow.keras.preprocessing.image import ImageDataGenerator\n",
    "from tensorflow.keras.optimizers import Adam\n",
    "from sklearn.metrics import classification_report, confusion_matrix"
   ]
  },
  {
   "cell_type": "code",
   "execution_count": 3,
   "id": "d7851ba1",
   "metadata": {},
   "outputs": [],
   "source": [
    "data_dir = '/Users/saikarthik/Downloads/untitled folder/parkinsons_dataset'\n"
   ]
  },
  {
   "cell_type": "code",
   "execution_count": 4,
   "id": "66c3dd9b",
   "metadata": {},
   "outputs": [],
   "source": [
    "img_height, img_width = 224, 224 \n",
    "batch_size = 32\n"
   ]
  },
  {
   "cell_type": "code",
   "execution_count": 5,
   "id": "af6d12a2",
   "metadata": {},
   "outputs": [],
   "source": [
    "datagen = ImageDataGenerator(\n",
    "    rescale=1.0 / 255,\n",
    "    validation_split=0.2,  \n",
    "    rotation_range=20,\n",
    "    width_shift_range=0.2,\n",
    "    height_shift_range=0.2,\n",
    "    shear_range=0.2,\n",
    "    zoom_range=0.2,\n",
    "    horizontal_flip=True,\n",
    ")\n"
   ]
  },
  {
   "cell_type": "code",
   "execution_count": 6,
   "id": "bf0d4695",
   "metadata": {},
   "outputs": [
    {
     "name": "stdout",
     "output_type": "stream",
     "text": [
      "Found 665 images belonging to 2 classes.\n"
     ]
    }
   ],
   "source": [
    "\n",
    "train_generator = datagen.flow_from_directory(\n",
    "    data_dir,\n",
    "    target_size=(img_height, img_width),\n",
    "    batch_size=batch_size,\n",
    "    class_mode='binary',\n",
    "    subset='training',\n",
    ")"
   ]
  },
  {
   "cell_type": "code",
   "execution_count": 7,
   "id": "7467fe4b",
   "metadata": {},
   "outputs": [
    {
     "name": "stdout",
     "output_type": "stream",
     "text": [
      "Found 166 images belonging to 2 classes.\n"
     ]
    }
   ],
   "source": [
    "\n",
    "validation_generator = datagen.flow_from_directory(\n",
    "    data_dir,\n",
    "    target_size=(img_height, img_width),\n",
    "    batch_size=batch_size,\n",
    "    class_mode='binary',\n",
    "    subset='validation',\n",
    ")"
   ]
  },
  {
   "cell_type": "code",
   "execution_count": 8,
   "id": "ebc0cc15",
   "metadata": {},
   "outputs": [
    {
     "name": "stderr",
     "output_type": "stream",
     "text": [
      "2025-04-02 13:04:31.507326: I metal_plugin/src/device/metal_device.cc:1154] Metal device set to: Apple M1 Pro\n",
      "2025-04-02 13:04:31.507364: I metal_plugin/src/device/metal_device.cc:296] systemMemory: 16.00 GB\n",
      "2025-04-02 13:04:31.507371: I metal_plugin/src/device/metal_device.cc:313] maxCacheSize: 5.33 GB\n",
      "2025-04-02 13:04:31.507402: I tensorflow/core/common_runtime/pluggable_device/pluggable_device_factory.cc:303] Could not identify NUMA node of platform GPU ID 0, defaulting to 0. Your kernel may not have been built with NUMA support.\n",
      "2025-04-02 13:04:31.507418: I tensorflow/core/common_runtime/pluggable_device/pluggable_device_factory.cc:269] Created TensorFlow device (/job:localhost/replica:0/task:0/device:GPU:0 with 0 MB memory) -> physical PluggableDevice (device: 0, name: METAL, pci bus id: <undefined>)\n"
     ]
    }
   ],
   "source": [
    "base_model = EfficientNetB7(weights='imagenet', include_top=False, input_shape=(img_height, img_width, 3))"
   ]
  },
  {
   "cell_type": "code",
   "execution_count": 9,
   "id": "f5629127",
   "metadata": {},
   "outputs": [],
   "source": [
    "for layer in base_model.layers:\n",
    "    layer.trainable = False"
   ]
  },
  {
   "cell_type": "code",
   "execution_count": 10,
   "id": "c62cda15",
   "metadata": {},
   "outputs": [],
   "source": [
    "for layer in base_model.layers:\n",
    "    layer.trainable = False\n",
    "\n",
    "model = Sequential([\n",
    "    base_model,\n",
    "    GlobalAveragePooling2D(),\n",
    "    Dense(256, activation='relu'),\n",
    "    Dropout(0.5),\n",
    "    Dense(1, activation='sigmoid')\n",
    "])\n"
   ]
  },
  {
   "cell_type": "code",
   "execution_count": 11,
   "id": "0ef99f53",
   "metadata": {},
   "outputs": [
    {
     "name": "stderr",
     "output_type": "stream",
     "text": [
      "WARNING:absl:At this time, the v2.11+ optimizer `tf.keras.optimizers.Adam` runs slowly on M1/M2 Macs, please use the legacy Keras optimizer instead, located at `tf.keras.optimizers.legacy.Adam`.\n",
      "WARNING:absl:There is a known slowdown when using v2.11+ Keras optimizers on M1/M2 Macs. Falling back to the legacy Keras optimizer, i.e., `tf.keras.optimizers.legacy.Adam`.\n"
     ]
    }
   ],
   "source": [
    "model.compile(optimizer=Adam(learning_rate=0.0001), loss='binary_crossentropy', metrics=['accuracy'])"
   ]
  },
  {
   "cell_type": "code",
   "execution_count": 12,
   "id": "9813ed99",
   "metadata": {},
   "outputs": [
    {
     "name": "stdout",
     "output_type": "stream",
     "text": [
      "Epoch 1/100\n"
     ]
    },
    {
     "name": "stderr",
     "output_type": "stream",
     "text": [
      "2025-04-02 13:04:44.050781: I tensorflow/core/grappler/optimizers/custom_graph_optimizer_registry.cc:114] Plugin optimizer for device_type GPU is enabled.\n"
     ]
    },
    {
     "name": "stdout",
     "output_type": "stream",
     "text": [
      "21/21 [==============================] - ETA: 0s - loss: 0.6517 - accuracy: 0.6977"
     ]
    },
    {
     "name": "stderr",
     "output_type": "stream",
     "text": [
      "2025-04-02 13:05:03.327379: I tensorflow/core/grappler/optimizers/custom_graph_optimizer_registry.cc:114] Plugin optimizer for device_type GPU is enabled.\n"
     ]
    },
    {
     "name": "stdout",
     "output_type": "stream",
     "text": [
      "21/21 [==============================] - 35s 1s/step - loss: 0.6517 - accuracy: 0.6977 - val_loss: 0.5797 - val_accuracy: 0.7349\n",
      "Epoch 2/100\n",
      "21/21 [==============================] - 14s 616ms/step - loss: 0.6056 - accuracy: 0.7323 - val_loss: 0.5820 - val_accuracy: 0.7349\n",
      "Epoch 3/100\n",
      "21/21 [==============================] - 13s 621ms/step - loss: 0.5982 - accuracy: 0.7278 - val_loss: 0.5811 - val_accuracy: 0.7349\n",
      "Epoch 4/100\n",
      "21/21 [==============================] - 13s 620ms/step - loss: 0.5938 - accuracy: 0.7308 - val_loss: 0.5993 - val_accuracy: 0.7349\n",
      "Epoch 5/100\n",
      "21/21 [==============================] - 13s 627ms/step - loss: 0.5918 - accuracy: 0.7338 - val_loss: 0.5829 - val_accuracy: 0.7349\n",
      "Epoch 6/100\n",
      "21/21 [==============================] - 13s 605ms/step - loss: 0.5941 - accuracy: 0.7293 - val_loss: 0.5814 - val_accuracy: 0.7349\n",
      "Epoch 7/100\n",
      "21/21 [==============================] - 13s 618ms/step - loss: 0.5922 - accuracy: 0.7323 - val_loss: 0.5824 - val_accuracy: 0.7349\n",
      "Epoch 8/100\n",
      "21/21 [==============================] - 13s 619ms/step - loss: 0.6003 - accuracy: 0.7278 - val_loss: 0.5831 - val_accuracy: 0.7349\n",
      "Epoch 9/100\n",
      "21/21 [==============================] - 13s 597ms/step - loss: 0.5864 - accuracy: 0.7338 - val_loss: 0.5889 - val_accuracy: 0.7349\n",
      "Epoch 10/100\n",
      "21/21 [==============================] - 13s 628ms/step - loss: 0.5917 - accuracy: 0.7308 - val_loss: 0.5816 - val_accuracy: 0.7349\n",
      "Epoch 11/100\n",
      "21/21 [==============================] - 13s 614ms/step - loss: 0.5855 - accuracy: 0.7278 - val_loss: 0.5926 - val_accuracy: 0.7349\n",
      "Epoch 12/100\n",
      "21/21 [==============================] - 13s 603ms/step - loss: 0.5907 - accuracy: 0.7338 - val_loss: 0.5836 - val_accuracy: 0.7349\n",
      "Epoch 13/100\n",
      "21/21 [==============================] - 13s 603ms/step - loss: 0.5944 - accuracy: 0.7263 - val_loss: 0.5873 - val_accuracy: 0.7349\n",
      "Epoch 14/100\n",
      "21/21 [==============================] - 13s 600ms/step - loss: 0.5982 - accuracy: 0.7173 - val_loss: 0.5898 - val_accuracy: 0.7349\n",
      "Epoch 15/100\n",
      "21/21 [==============================] - 13s 601ms/step - loss: 0.5947 - accuracy: 0.7338 - val_loss: 0.5840 - val_accuracy: 0.7349\n",
      "Epoch 16/100\n",
      "21/21 [==============================] - 13s 609ms/step - loss: 0.5903 - accuracy: 0.7368 - val_loss: 0.5837 - val_accuracy: 0.7349\n",
      "Epoch 17/100\n",
      "21/21 [==============================] - 13s 595ms/step - loss: 0.5922 - accuracy: 0.7263 - val_loss: 0.5884 - val_accuracy: 0.7349\n",
      "Epoch 18/100\n",
      "21/21 [==============================] - 13s 594ms/step - loss: 0.5882 - accuracy: 0.7323 - val_loss: 0.5855 - val_accuracy: 0.7349\n",
      "Epoch 19/100\n",
      "21/21 [==============================] - 13s 598ms/step - loss: 0.5866 - accuracy: 0.7248 - val_loss: 0.5902 - val_accuracy: 0.7349\n",
      "Epoch 20/100\n",
      "21/21 [==============================] - 13s 593ms/step - loss: 0.5830 - accuracy: 0.7338 - val_loss: 0.5897 - val_accuracy: 0.7349\n",
      "Epoch 21/100\n",
      "21/21 [==============================] - 13s 629ms/step - loss: 0.5853 - accuracy: 0.7338 - val_loss: 0.5851 - val_accuracy: 0.7349\n",
      "Epoch 22/100\n",
      "21/21 [==============================] - 13s 631ms/step - loss: 0.5945 - accuracy: 0.7308 - val_loss: 0.5866 - val_accuracy: 0.7349\n",
      "Epoch 23/100\n",
      "21/21 [==============================] - 13s 604ms/step - loss: 0.5906 - accuracy: 0.7338 - val_loss: 0.5809 - val_accuracy: 0.7349\n",
      "Epoch 24/100\n",
      "21/21 [==============================] - 13s 619ms/step - loss: 0.5937 - accuracy: 0.7278 - val_loss: 0.6006 - val_accuracy: 0.7349\n",
      "Epoch 25/100\n",
      "21/21 [==============================] - 13s 623ms/step - loss: 0.5853 - accuracy: 0.7338 - val_loss: 0.5819 - val_accuracy: 0.7349\n",
      "Epoch 26/100\n",
      "21/21 [==============================] - 13s 610ms/step - loss: 0.5968 - accuracy: 0.7308 - val_loss: 0.5852 - val_accuracy: 0.7349\n",
      "Epoch 27/100\n",
      "21/21 [==============================] - 14s 675ms/step - loss: 0.5892 - accuracy: 0.7338 - val_loss: 0.5888 - val_accuracy: 0.7349\n",
      "Epoch 28/100\n",
      "21/21 [==============================] - 14s 659ms/step - loss: 0.5791 - accuracy: 0.7338 - val_loss: 0.5912 - val_accuracy: 0.7349\n",
      "Epoch 29/100\n",
      "21/21 [==============================] - 14s 653ms/step - loss: 0.6004 - accuracy: 0.7263 - val_loss: 0.5898 - val_accuracy: 0.7349\n",
      "Epoch 30/100\n",
      "21/21 [==============================] - 14s 645ms/step - loss: 0.5873 - accuracy: 0.7323 - val_loss: 0.5918 - val_accuracy: 0.7349\n",
      "Epoch 31/100\n",
      "21/21 [==============================] - 14s 644ms/step - loss: 0.6080 - accuracy: 0.7248 - val_loss: 0.5879 - val_accuracy: 0.7349\n",
      "Epoch 32/100\n",
      "21/21 [==============================] - 14s 644ms/step - loss: 0.5932 - accuracy: 0.7308 - val_loss: 0.5793 - val_accuracy: 0.7349\n",
      "Epoch 33/100\n",
      "21/21 [==============================] - 14s 661ms/step - loss: 0.5818 - accuracy: 0.7338 - val_loss: 0.5845 - val_accuracy: 0.7349\n",
      "Epoch 34/100\n",
      "21/21 [==============================] - 14s 689ms/step - loss: 0.5986 - accuracy: 0.7263 - val_loss: 0.5988 - val_accuracy: 0.7349\n",
      "Epoch 35/100\n",
      "21/21 [==============================] - 14s 672ms/step - loss: 0.5904 - accuracy: 0.7293 - val_loss: 0.5805 - val_accuracy: 0.7349\n",
      "Epoch 36/100\n",
      "21/21 [==============================] - 15s 713ms/step - loss: 0.6050 - accuracy: 0.7248 - val_loss: 0.5927 - val_accuracy: 0.7349\n",
      "Epoch 37/100\n",
      "21/21 [==============================] - 15s 717ms/step - loss: 0.5819 - accuracy: 0.7338 - val_loss: 0.5859 - val_accuracy: 0.7349\n",
      "Epoch 38/100\n",
      "21/21 [==============================] - 15s 731ms/step - loss: 0.5921 - accuracy: 0.7338 - val_loss: 0.5862 - val_accuracy: 0.7349\n",
      "Epoch 39/100\n",
      "21/21 [==============================] - 15s 726ms/step - loss: 0.5858 - accuracy: 0.7308 - val_loss: 0.5902 - val_accuracy: 0.7349\n",
      "Epoch 40/100\n",
      "21/21 [==============================] - 16s 748ms/step - loss: 0.5885 - accuracy: 0.7338 - val_loss: 0.5839 - val_accuracy: 0.7349\n",
      "Epoch 41/100\n",
      "21/21 [==============================] - 15s 709ms/step - loss: 0.5820 - accuracy: 0.7338 - val_loss: 0.5901 - val_accuracy: 0.7349\n",
      "Epoch 42/100\n",
      "21/21 [==============================] - 16s 759ms/step - loss: 0.5860 - accuracy: 0.7293 - val_loss: 0.5849 - val_accuracy: 0.7349\n",
      "Epoch 43/100\n",
      "21/21 [==============================] - 15s 729ms/step - loss: 0.5888 - accuracy: 0.7338 - val_loss: 0.5830 - val_accuracy: 0.7349\n",
      "Epoch 44/100\n",
      "21/21 [==============================] - 16s 750ms/step - loss: 0.5869 - accuracy: 0.7323 - val_loss: 0.5854 - val_accuracy: 0.7349\n",
      "Epoch 45/100\n",
      "21/21 [==============================] - 16s 745ms/step - loss: 0.5906 - accuracy: 0.7338 - val_loss: 0.5926 - val_accuracy: 0.7349\n",
      "Epoch 46/100\n",
      "21/21 [==============================] - 16s 750ms/step - loss: 0.5898 - accuracy: 0.7293 - val_loss: 0.5909 - val_accuracy: 0.7349\n",
      "Epoch 47/100\n",
      "21/21 [==============================] - 17s 806ms/step - loss: 0.5928 - accuracy: 0.7263 - val_loss: 0.5865 - val_accuracy: 0.7349\n",
      "Epoch 48/100\n",
      "21/21 [==============================] - 17s 820ms/step - loss: 0.5885 - accuracy: 0.7338 - val_loss: 0.5867 - val_accuracy: 0.7349\n",
      "Epoch 49/100\n",
      "21/21 [==============================] - 17s 826ms/step - loss: 0.5943 - accuracy: 0.7338 - val_loss: 0.5923 - val_accuracy: 0.7349\n",
      "Epoch 50/100\n",
      "21/21 [==============================] - 17s 812ms/step - loss: 0.5860 - accuracy: 0.7338 - val_loss: 0.5783 - val_accuracy: 0.7349\n",
      "Epoch 51/100\n",
      "21/21 [==============================] - 16s 778ms/step - loss: 0.5895 - accuracy: 0.7338 - val_loss: 0.5924 - val_accuracy: 0.7349\n",
      "Epoch 52/100\n",
      "21/21 [==============================] - 18s 860ms/step - loss: 0.5854 - accuracy: 0.7323 - val_loss: 0.5796 - val_accuracy: 0.7349\n",
      "Epoch 53/100\n",
      "21/21 [==============================] - 19s 885ms/step - loss: 0.5958 - accuracy: 0.7353 - val_loss: 0.5921 - val_accuracy: 0.7349\n",
      "Epoch 54/100\n",
      "21/21 [==============================] - 18s 855ms/step - loss: 0.5869 - accuracy: 0.7278 - val_loss: 0.5898 - val_accuracy: 0.7349\n",
      "Epoch 55/100\n",
      "21/21 [==============================] - 18s 854ms/step - loss: 0.5856 - accuracy: 0.7338 - val_loss: 0.5864 - val_accuracy: 0.7349\n",
      "Epoch 56/100\n",
      "21/21 [==============================] - 17s 822ms/step - loss: 0.5818 - accuracy: 0.7278 - val_loss: 0.5893 - val_accuracy: 0.7349\n",
      "Epoch 57/100\n",
      "21/21 [==============================] - 19s 888ms/step - loss: 0.5942 - accuracy: 0.7278 - val_loss: 0.5917 - val_accuracy: 0.7349\n",
      "Epoch 58/100\n",
      "21/21 [==============================] - 18s 869ms/step - loss: 0.5840 - accuracy: 0.7323 - val_loss: 0.5893 - val_accuracy: 0.7349\n",
      "Epoch 59/100\n",
      "21/21 [==============================] - 19s 899ms/step - loss: 0.5848 - accuracy: 0.7338 - val_loss: 0.5866 - val_accuracy: 0.7349\n",
      "Epoch 60/100\n",
      "21/21 [==============================] - 18s 880ms/step - loss: 0.5892 - accuracy: 0.7263 - val_loss: 0.5897 - val_accuracy: 0.7349\n",
      "Epoch 61/100\n",
      "21/21 [==============================] - 18s 871ms/step - loss: 0.5849 - accuracy: 0.7308 - val_loss: 0.5858 - val_accuracy: 0.7349\n",
      "Epoch 62/100\n",
      "21/21 [==============================] - 17s 786ms/step - loss: 0.5944 - accuracy: 0.7308 - val_loss: 0.5907 - val_accuracy: 0.7349\n",
      "Epoch 63/100\n",
      "21/21 [==============================] - 17s 789ms/step - loss: 0.5742 - accuracy: 0.7338 - val_loss: 0.5910 - val_accuracy: 0.7349\n",
      "Epoch 64/100\n",
      "21/21 [==============================] - 17s 818ms/step - loss: 0.5824 - accuracy: 0.7338 - val_loss: 0.5915 - val_accuracy: 0.7349\n",
      "Epoch 65/100\n",
      "21/21 [==============================] - 17s 791ms/step - loss: 0.6008 - accuracy: 0.7323 - val_loss: 0.5867 - val_accuracy: 0.7349\n",
      "Epoch 66/100\n",
      "21/21 [==============================] - 19s 894ms/step - loss: 0.5874 - accuracy: 0.7308 - val_loss: 0.5905 - val_accuracy: 0.7349\n",
      "Epoch 67/100\n",
      "21/21 [==============================] - 18s 846ms/step - loss: 0.5891 - accuracy: 0.7263 - val_loss: 0.5833 - val_accuracy: 0.7349\n",
      "Epoch 68/100\n",
      "21/21 [==============================] - 17s 806ms/step - loss: 0.5850 - accuracy: 0.7308 - val_loss: 0.5866 - val_accuracy: 0.7349\n",
      "Epoch 69/100\n",
      "21/21 [==============================] - 17s 802ms/step - loss: 0.5830 - accuracy: 0.7338 - val_loss: 0.5842 - val_accuracy: 0.7349\n",
      "Epoch 70/100\n",
      "21/21 [==============================] - 17s 811ms/step - loss: 0.5869 - accuracy: 0.7308 - val_loss: 0.5979 - val_accuracy: 0.7349\n",
      "Epoch 71/100\n",
      "21/21 [==============================] - 17s 819ms/step - loss: 0.5874 - accuracy: 0.7308 - val_loss: 0.5844 - val_accuracy: 0.7349\n",
      "Epoch 72/100\n",
      "21/21 [==============================] - 19s 897ms/step - loss: 0.5845 - accuracy: 0.7338 - val_loss: 0.5894 - val_accuracy: 0.7349\n",
      "Epoch 73/100\n",
      "21/21 [==============================] - 18s 860ms/step - loss: 0.5823 - accuracy: 0.7323 - val_loss: 0.5851 - val_accuracy: 0.7349\n",
      "Epoch 74/100\n",
      "21/21 [==============================] - 18s 853ms/step - loss: 0.5780 - accuracy: 0.7353 - val_loss: 0.5857 - val_accuracy: 0.7349\n",
      "Epoch 75/100\n",
      "21/21 [==============================] - 17s 831ms/step - loss: 0.6080 - accuracy: 0.7263 - val_loss: 0.5817 - val_accuracy: 0.7349\n",
      "Epoch 76/100\n",
      "21/21 [==============================] - 17s 816ms/step - loss: 0.5850 - accuracy: 0.7338 - val_loss: 0.5878 - val_accuracy: 0.7349\n",
      "Epoch 77/100\n",
      "21/21 [==============================] - 17s 836ms/step - loss: 0.5872 - accuracy: 0.7338 - val_loss: 0.5875 - val_accuracy: 0.7349\n",
      "Epoch 78/100\n",
      "21/21 [==============================] - 17s 832ms/step - loss: 0.5900 - accuracy: 0.7338 - val_loss: 0.5883 - val_accuracy: 0.7349\n",
      "Epoch 79/100\n",
      "21/21 [==============================] - 18s 866ms/step - loss: 0.5833 - accuracy: 0.7278 - val_loss: 0.5845 - val_accuracy: 0.7349\n",
      "Epoch 80/100\n",
      "21/21 [==============================] - 17s 810ms/step - loss: 0.5962 - accuracy: 0.7233 - val_loss: 0.5823 - val_accuracy: 0.7349\n",
      "Epoch 81/100\n",
      "21/21 [==============================] - 17s 801ms/step - loss: 0.5845 - accuracy: 0.7338 - val_loss: 0.5982 - val_accuracy: 0.7349\n",
      "Epoch 82/100\n",
      "21/21 [==============================] - 17s 799ms/step - loss: 0.5833 - accuracy: 0.7338 - val_loss: 0.5847 - val_accuracy: 0.7349\n",
      "Epoch 83/100\n",
      "21/21 [==============================] - 17s 792ms/step - loss: 0.5809 - accuracy: 0.7338 - val_loss: 0.5857 - val_accuracy: 0.7349\n",
      "Epoch 84/100\n",
      "21/21 [==============================] - 17s 796ms/step - loss: 0.5881 - accuracy: 0.7293 - val_loss: 0.5837 - val_accuracy: 0.7349\n",
      "Epoch 85/100\n",
      "21/21 [==============================] - 17s 793ms/step - loss: 0.5829 - accuracy: 0.7338 - val_loss: 0.5836 - val_accuracy: 0.7349\n",
      "Epoch 86/100\n",
      "21/21 [==============================] - 17s 831ms/step - loss: 0.5905 - accuracy: 0.7338 - val_loss: 0.5850 - val_accuracy: 0.7349\n",
      "Epoch 87/100\n",
      "21/21 [==============================] - 17s 821ms/step - loss: 0.5912 - accuracy: 0.7338 - val_loss: 0.5848 - val_accuracy: 0.7349\n",
      "Epoch 88/100\n",
      "21/21 [==============================] - 17s 796ms/step - loss: 0.5926 - accuracy: 0.7278 - val_loss: 0.5958 - val_accuracy: 0.7349\n",
      "Epoch 89/100\n",
      "21/21 [==============================] - 17s 797ms/step - loss: 0.5816 - accuracy: 0.7338 - val_loss: 0.5959 - val_accuracy: 0.7349\n",
      "Epoch 90/100\n",
      "21/21 [==============================] - 17s 791ms/step - loss: 0.5942 - accuracy: 0.7278 - val_loss: 0.5841 - val_accuracy: 0.7349\n",
      "Epoch 91/100\n",
      "21/21 [==============================] - 17s 812ms/step - loss: 0.5867 - accuracy: 0.7338 - val_loss: 0.5847 - val_accuracy: 0.7349\n",
      "Epoch 92/100\n",
      "21/21 [==============================] - 17s 810ms/step - loss: 0.5851 - accuracy: 0.7338 - val_loss: 0.5880 - val_accuracy: 0.7349\n",
      "Epoch 93/100\n",
      "21/21 [==============================] - 17s 789ms/step - loss: 0.5885 - accuracy: 0.7338 - val_loss: 0.5913 - val_accuracy: 0.7349\n",
      "Epoch 94/100\n",
      "21/21 [==============================] - 17s 795ms/step - loss: 0.5920 - accuracy: 0.7308 - val_loss: 0.5871 - val_accuracy: 0.7349\n",
      "Epoch 95/100\n",
      "21/21 [==============================] - 16s 791ms/step - loss: 0.5844 - accuracy: 0.7293 - val_loss: 0.5897 - val_accuracy: 0.7349\n",
      "Epoch 96/100\n",
      "21/21 [==============================] - 17s 791ms/step - loss: 0.5833 - accuracy: 0.7338 - val_loss: 0.5841 - val_accuracy: 0.7349\n",
      "Epoch 97/100\n",
      "21/21 [==============================] - 17s 791ms/step - loss: 0.5876 - accuracy: 0.7338 - val_loss: 0.5839 - val_accuracy: 0.7349\n",
      "Epoch 98/100\n",
      "21/21 [==============================] - 16s 780ms/step - loss: 0.5919 - accuracy: 0.7248 - val_loss: 0.5950 - val_accuracy: 0.7349\n",
      "Epoch 99/100\n",
      "21/21 [==============================] - 16s 777ms/step - loss: 0.5936 - accuracy: 0.7263 - val_loss: 0.5860 - val_accuracy: 0.7349\n",
      "Epoch 100/100\n",
      "21/21 [==============================] - 16s 778ms/step - loss: 0.5868 - accuracy: 0.7293 - val_loss: 0.5846 - val_accuracy: 0.7349\n"
     ]
    }
   ],
   "source": [
    "history = model.fit(\n",
    "    train_generator,\n",
    "    validation_data=validation_generator,\n",
    "    epochs=100,\n",
    ")"
   ]
  },
  {
   "cell_type": "code",
   "execution_count": 13,
   "id": "5706f4c1",
   "metadata": {},
   "outputs": [
    {
     "name": "stdout",
     "output_type": "stream",
     "text": [
      "6/6 [==============================] - 3s 491ms/step - loss: 0.5851 - accuracy: 0.7349\n",
      "Validation Accuracy: 73.49%\n"
     ]
    },
    {
     "name": "stderr",
     "output_type": "stream",
     "text": [
      "2025-04-02 13:31:07.678213: I tensorflow/core/grappler/optimizers/custom_graph_optimizer_registry.cc:114] Plugin optimizer for device_type GPU is enabled.\n"
     ]
    },
    {
     "name": "stdout",
     "output_type": "stream",
     "text": [
      "6/6 [==============================] - 9s 830ms/step\n",
      "\n",
      "Classification Report:\n",
      "              precision    recall  f1-score   support\n",
      "\n",
      "           0       0.73      1.00      0.85       122\n",
      "           1       0.00      0.00      0.00        44\n",
      "\n",
      "    accuracy                           0.73       166\n",
      "   macro avg       0.37      0.50      0.42       166\n",
      "weighted avg       0.54      0.73      0.62       166\n",
      "\n",
      "\n",
      "Confusion Matrix:\n",
      "[[122   0]\n",
      " [ 44   0]]\n"
     ]
    },
    {
     "name": "stderr",
     "output_type": "stream",
     "text": [
      "/Users/saikarthik/tensorflow-test/env/lib/python3.8/site-packages/sklearn/metrics/_classification.py:1334: UndefinedMetricWarning: Precision and F-score are ill-defined and being set to 0.0 in labels with no predicted samples. Use `zero_division` parameter to control this behavior.\n",
      "  _warn_prf(average, modifier, msg_start, len(result))\n",
      "/Users/saikarthik/tensorflow-test/env/lib/python3.8/site-packages/sklearn/metrics/_classification.py:1334: UndefinedMetricWarning: Precision and F-score are ill-defined and being set to 0.0 in labels with no predicted samples. Use `zero_division` parameter to control this behavior.\n",
      "  _warn_prf(average, modifier, msg_start, len(result))\n",
      "/Users/saikarthik/tensorflow-test/env/lib/python3.8/site-packages/sklearn/metrics/_classification.py:1334: UndefinedMetricWarning: Precision and F-score are ill-defined and being set to 0.0 in labels with no predicted samples. Use `zero_division` parameter to control this behavior.\n",
      "  _warn_prf(average, modifier, msg_start, len(result))\n"
     ]
    }
   ],
   "source": [
    "val_loss, val_accuracy = model.evaluate(validation_generator)\n",
    "print(f\"Validation Accuracy: {val_accuracy * 100:.2f}%\")\n",
    "\n",
    "validation_generator.reset()\n",
    "predictions = (model.predict(validation_generator) > 0.5).astype(\"int64\")\n",
    "true_classes = validation_generator.classes\n",
    "\n",
    "print(\"\\nClassification Report:\")\n",
    "print(classification_report(true_classes, predictions))\n",
    "\n",
    "print(\"\\nConfusion Matrix:\")\n",
    "print(confusion_matrix(true_classes, predictions))"
   ]
  }
 ],
 "metadata": {
  "kaggle": {
   "accelerator": "gpu",
   "dataSources": [
    {
     "datasetId": 1685415,
     "sourceId": 2762111,
     "sourceType": "datasetVersion"
    }
   ],
   "dockerImageVersionId": 30648,
   "isGpuEnabled": true,
   "isInternetEnabled": true,
   "language": "python",
   "sourceType": "notebook"
  },
  "kernelspec": {
   "display_name": "Python 3",
   "language": "python",
   "name": "python3"
  },
  "language_info": {
   "codemirror_mode": {
    "name": "ipython",
    "version": 3
   },
   "file_extension": ".py",
   "mimetype": "text/x-python",
   "name": "python",
   "nbconvert_exporter": "python",
   "pygments_lexer": "ipython3",
   "version": "3.8.16"
  },
  "papermill": {
   "default_parameters": {},
   "duration": 695.546863,
   "end_time": "2024-02-13T15:29:11.942165",
   "environment_variables": {},
   "exception": null,
   "input_path": "__notebook__.ipynb",
   "output_path": "__notebook__.ipynb",
   "parameters": {},
   "start_time": "2024-02-13T15:17:36.395302",
   "version": "2.5.0"
  }
 },
 "nbformat": 4,
 "nbformat_minor": 5
}
