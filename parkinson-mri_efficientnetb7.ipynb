{
 "cells": [
  {
   "cell_type": "code",
   "execution_count": 1,
   "id": "d5928da8",
   "metadata": {},
   "outputs": [],
   "source": [
    "import os\n",
    "import numpy as np\n",
    "from tensorflow.keras.applications import EfficientNetB7\n",
    "\n",
    "from tensorflow.keras.models import Sequential\n",
    "from tensorflow.keras.layers import Dense, GlobalAveragePooling2D, Dropout\n",
    "from tensorflow.keras.preprocessing.image import ImageDataGenerator\n",
    "from tensorflow.keras.optimizers import Adam\n",
    "from sklearn.metrics import classification_report, confusion_matrix"
   ]
  },
  {
   "cell_type": "code",
   "execution_count": 2,
   "id": "d7851ba1",
   "metadata": {},
   "outputs": [],
   "source": [
    "data_dir = '/Users/saikarthik/Downloads/untitled folder/parkinsons_dataset'\n"
   ]
  },
  {
   "cell_type": "code",
   "execution_count": 3,
   "id": "66c3dd9b",
   "metadata": {},
   "outputs": [],
   "source": [
    "img_height, img_width = 224, 224 \n",
    "batch_size = 32\n"
   ]
  },
  {
   "cell_type": "code",
   "execution_count": 4,
   "id": "af6d12a2",
   "metadata": {},
   "outputs": [],
   "source": [
    "datagen = ImageDataGenerator(\n",
    "    rescale=1.0 / 255,\n",
    "    validation_split=0.2,  \n",
    "    rotation_range=20,\n",
    "    width_shift_range=0.2,\n",
    "    height_shift_range=0.2,\n",
    "    shear_range=0.2,\n",
    "    zoom_range=0.2,\n",
    "    horizontal_flip=True,\n",
    ")\n"
   ]
  },
  {
   "cell_type": "code",
   "execution_count": 5,
   "id": "bf0d4695",
   "metadata": {},
   "outputs": [
    {
     "name": "stdout",
     "output_type": "stream",
     "text": [
      "Found 665 images belonging to 2 classes.\n"
     ]
    }
   ],
   "source": [
    "\n",
    "train_generator = datagen.flow_from_directory(\n",
    "    data_dir,\n",
    "    target_size=(img_height, img_width),\n",
    "    batch_size=batch_size,\n",
    "    class_mode='binary',\n",
    "    subset='training',\n",
    ")"
   ]
  },
  {
   "cell_type": "code",
   "execution_count": 6,
   "id": "7467fe4b",
   "metadata": {},
   "outputs": [
    {
     "name": "stdout",
     "output_type": "stream",
     "text": [
      "Found 166 images belonging to 2 classes.\n"
     ]
    }
   ],
   "source": [
    "\n",
    "validation_generator = datagen.flow_from_directory(\n",
    "    data_dir,\n",
    "    target_size=(img_height, img_width),\n",
    "    batch_size=batch_size,\n",
    "    class_mode='binary',\n",
    "    subset='validation',\n",
    ")"
   ]
  },
  {
   "cell_type": "code",
   "execution_count": 7,
   "id": "ebc0cc15",
   "metadata": {},
   "outputs": [
    {
     "name": "stderr",
     "output_type": "stream",
     "text": [
      "2025-04-02 12:18:13.049654: I metal_plugin/src/device/metal_device.cc:1154] Metal device set to: Apple M1 Pro\n",
      "2025-04-02 12:18:13.049684: I metal_plugin/src/device/metal_device.cc:296] systemMemory: 16.00 GB\n",
      "2025-04-02 12:18:13.049691: I metal_plugin/src/device/metal_device.cc:313] maxCacheSize: 5.33 GB\n",
      "2025-04-02 12:18:13.049722: I tensorflow/core/common_runtime/pluggable_device/pluggable_device_factory.cc:303] Could not identify NUMA node of platform GPU ID 0, defaulting to 0. Your kernel may not have been built with NUMA support.\n",
      "2025-04-02 12:18:13.049735: I tensorflow/core/common_runtime/pluggable_device/pluggable_device_factory.cc:269] Created TensorFlow device (/job:localhost/replica:0/task:0/device:GPU:0 with 0 MB memory) -> physical PluggableDevice (device: 0, name: METAL, pci bus id: <undefined>)\n"
     ]
    },
    {
     "name": "stdout",
     "output_type": "stream",
     "text": [
      "Downloading data from https://storage.googleapis.com/keras-applications/efficientnetb7_notop.h5\n",
      "258076736/258076736 [==============================] - 77s 0us/step\n"
     ]
    }
   ],
   "source": [
    "base_model = EfficientNetB7(weights='imagenet', include_top=False, input_shape=(img_height, img_width, 3))"
   ]
  },
  {
   "cell_type": "code",
   "execution_count": 8,
   "id": "f5629127",
   "metadata": {},
   "outputs": [],
   "source": [
    "for layer in base_model.layers:\n",
    "    layer.trainable = False"
   ]
  },
  {
   "cell_type": "code",
   "execution_count": 9,
   "id": "c62cda15",
   "metadata": {},
   "outputs": [],
   "source": [
    "for layer in base_model.layers:\n",
    "    layer.trainable = False\n",
    "\n",
    "model = Sequential([\n",
    "    base_model,\n",
    "    GlobalAveragePooling2D(),\n",
    "    Dense(256, activation='relu'),\n",
    "    Dropout(0.5),\n",
    "    Dense(1, activation='sigmoid')\n",
    "])\n"
   ]
  },
  {
   "cell_type": "code",
   "execution_count": 10,
   "id": "0ef99f53",
   "metadata": {},
   "outputs": [
    {
     "name": "stderr",
     "output_type": "stream",
     "text": [
      "WARNING:absl:At this time, the v2.11+ optimizer `tf.keras.optimizers.Adam` runs slowly on M1/M2 Macs, please use the legacy Keras optimizer instead, located at `tf.keras.optimizers.legacy.Adam`.\n",
      "WARNING:absl:There is a known slowdown when using v2.11+ Keras optimizers on M1/M2 Macs. Falling back to the legacy Keras optimizer, i.e., `tf.keras.optimizers.legacy.Adam`.\n"
     ]
    }
   ],
   "source": [
    "model.compile(optimizer=Adam(learning_rate=0.0001), loss='binary_crossentropy', metrics=['accuracy'])"
   ]
  },
  {
   "cell_type": "code",
   "execution_count": 11,
   "id": "9813ed99",
   "metadata": {},
   "outputs": [
    {
     "name": "stdout",
     "output_type": "stream",
     "text": [
      "Epoch 1/100\n"
     ]
    },
    {
     "name": "stderr",
     "output_type": "stream",
     "text": [
      "2025-04-02 12:19:42.796316: I tensorflow/core/grappler/optimizers/custom_graph_optimizer_registry.cc:114] Plugin optimizer for device_type GPU is enabled.\n"
     ]
    },
    {
     "name": "stdout",
     "output_type": "stream",
     "text": [
      "21/21 [==============================] - ETA: 0s - loss: 0.6406 - accuracy: 0.6932"
     ]
    },
    {
     "name": "stderr",
     "output_type": "stream",
     "text": [
      "2025-04-02 12:20:04.723207: I tensorflow/core/grappler/optimizers/custom_graph_optimizer_registry.cc:114] Plugin optimizer for device_type GPU is enabled.\n"
     ]
    },
    {
     "name": "stdout",
     "output_type": "stream",
     "text": [
      "21/21 [==============================] - 39s 1s/step - loss: 0.6406 - accuracy: 0.6932 - val_loss: 0.5793 - val_accuracy: 0.7349\n",
      "Epoch 2/100\n",
      "21/21 [==============================] - 14s 602ms/step - loss: 0.5996 - accuracy: 0.7353 - val_loss: 0.5790 - val_accuracy: 0.7349\n",
      "Epoch 3/100\n",
      "21/21 [==============================] - 13s 613ms/step - loss: 0.6057 - accuracy: 0.7263 - val_loss: 0.5790 - val_accuracy: 0.7349\n",
      "Epoch 4/100\n",
      "21/21 [==============================] - 13s 602ms/step - loss: 0.5881 - accuracy: 0.7338 - val_loss: 0.5789 - val_accuracy: 0.7349\n",
      "Epoch 5/100\n",
      "21/21 [==============================] - 13s 609ms/step - loss: 0.6101 - accuracy: 0.7308 - val_loss: 0.5826 - val_accuracy: 0.7349\n",
      "Epoch 6/100\n",
      "21/21 [==============================] - 13s 607ms/step - loss: 0.5953 - accuracy: 0.7293 - val_loss: 0.5780 - val_accuracy: 0.7349\n",
      "Epoch 7/100\n",
      "21/21 [==============================] - 13s 612ms/step - loss: 0.5991 - accuracy: 0.7338 - val_loss: 0.5838 - val_accuracy: 0.7349\n",
      "Epoch 8/100\n",
      "21/21 [==============================] - 13s 635ms/step - loss: 0.6006 - accuracy: 0.7308 - val_loss: 0.5785 - val_accuracy: 0.7349\n",
      "Epoch 9/100\n",
      "21/21 [==============================] - 13s 620ms/step - loss: 0.6153 - accuracy: 0.7293 - val_loss: 0.5902 - val_accuracy: 0.7349\n",
      "Epoch 10/100\n",
      "21/21 [==============================] - 13s 621ms/step - loss: 0.5826 - accuracy: 0.7323 - val_loss: 0.5789 - val_accuracy: 0.7349\n",
      "Epoch 11/100\n",
      "21/21 [==============================] - 13s 628ms/step - loss: 0.6082 - accuracy: 0.7278 - val_loss: 0.5802 - val_accuracy: 0.7349\n",
      "Epoch 12/100\n",
      "21/21 [==============================] - 13s 620ms/step - loss: 0.6037 - accuracy: 0.7323 - val_loss: 0.5781 - val_accuracy: 0.7349\n",
      "Epoch 13/100\n",
      "21/21 [==============================] - 13s 616ms/step - loss: 0.5921 - accuracy: 0.7293 - val_loss: 0.5808 - val_accuracy: 0.7349\n",
      "Epoch 14/100\n",
      "21/21 [==============================] - 13s 634ms/step - loss: 0.5995 - accuracy: 0.7278 - val_loss: 0.5787 - val_accuracy: 0.7349\n",
      "Epoch 15/100\n",
      "21/21 [==============================] - 14s 669ms/step - loss: 0.5930 - accuracy: 0.7338 - val_loss: 0.5808 - val_accuracy: 0.7349\n",
      "Epoch 16/100\n",
      "21/21 [==============================] - 14s 672ms/step - loss: 0.5961 - accuracy: 0.7278 - val_loss: 0.5834 - val_accuracy: 0.7349\n",
      "Epoch 17/100\n",
      "21/21 [==============================] - 14s 658ms/step - loss: 0.5993 - accuracy: 0.7278 - val_loss: 0.5850 - val_accuracy: 0.7349\n",
      "Epoch 18/100\n",
      "21/21 [==============================] - 14s 671ms/step - loss: 0.5959 - accuracy: 0.7338 - val_loss: 0.5779 - val_accuracy: 0.7349\n",
      "Epoch 19/100\n",
      "21/21 [==============================] - 14s 676ms/step - loss: 0.5888 - accuracy: 0.7248 - val_loss: 0.5805 - val_accuracy: 0.7349\n",
      "Epoch 20/100\n",
      "21/21 [==============================] - 15s 702ms/step - loss: 0.5813 - accuracy: 0.7338 - val_loss: 0.5811 - val_accuracy: 0.7349\n",
      "Epoch 21/100\n",
      "21/21 [==============================] - 15s 706ms/step - loss: 0.5885 - accuracy: 0.7338 - val_loss: 0.5814 - val_accuracy: 0.7349\n",
      "Epoch 22/100\n",
      "21/21 [==============================] - 14s 674ms/step - loss: 0.5905 - accuracy: 0.7338 - val_loss: 0.5797 - val_accuracy: 0.7349\n",
      "Epoch 23/100\n",
      "21/21 [==============================] - 14s 681ms/step - loss: 0.5925 - accuracy: 0.7308 - val_loss: 0.5804 - val_accuracy: 0.7349\n",
      "Epoch 24/100\n",
      "21/21 [==============================] - 32s 2s/step - loss: 0.6003 - accuracy: 0.7323 - val_loss: 0.5780 - val_accuracy: 0.7349\n",
      "Epoch 25/100\n",
      "21/21 [==============================] - 15s 727ms/step - loss: 0.5971 - accuracy: 0.7293 - val_loss: 0.5791 - val_accuracy: 0.7349\n",
      "Epoch 26/100\n",
      "21/21 [==============================] - 15s 702ms/step - loss: 0.5860 - accuracy: 0.7338 - val_loss: 0.5806 - val_accuracy: 0.7349\n",
      "Epoch 27/100\n",
      "21/21 [==============================] - 14s 680ms/step - loss: 0.5870 - accuracy: 0.7338 - val_loss: 0.5820 - val_accuracy: 0.7349\n",
      "Epoch 28/100\n",
      "21/21 [==============================] - 15s 731ms/step - loss: 0.5834 - accuracy: 0.7338 - val_loss: 0.5805 - val_accuracy: 0.7349\n",
      "Epoch 29/100\n",
      "21/21 [==============================] - 15s 704ms/step - loss: 0.5827 - accuracy: 0.7323 - val_loss: 0.5792 - val_accuracy: 0.7349\n",
      "Epoch 30/100\n",
      "21/21 [==============================] - 15s 721ms/step - loss: 0.5866 - accuracy: 0.7338 - val_loss: 0.5884 - val_accuracy: 0.7349\n",
      "Epoch 31/100\n",
      "21/21 [==============================] - 16s 755ms/step - loss: 0.5982 - accuracy: 0.7338 - val_loss: 0.5779 - val_accuracy: 0.7349\n",
      "Epoch 32/100\n",
      "21/21 [==============================] - 15s 726ms/step - loss: 0.5956 - accuracy: 0.7278 - val_loss: 0.5829 - val_accuracy: 0.7349\n",
      "Epoch 33/100\n",
      "21/21 [==============================] - 16s 776ms/step - loss: 0.6027 - accuracy: 0.7338 - val_loss: 0.5855 - val_accuracy: 0.7349\n",
      "Epoch 34/100\n",
      "21/21 [==============================] - 15s 724ms/step - loss: 0.5986 - accuracy: 0.7338 - val_loss: 0.5790 - val_accuracy: 0.7349\n",
      "Epoch 35/100\n",
      "21/21 [==============================] - 16s 784ms/step - loss: 0.5902 - accuracy: 0.7293 - val_loss: 0.5840 - val_accuracy: 0.7349\n",
      "Epoch 36/100\n",
      "21/21 [==============================] - 17s 790ms/step - loss: 0.5942 - accuracy: 0.7293 - val_loss: 0.5804 - val_accuracy: 0.7349\n",
      "Epoch 37/100\n",
      "21/21 [==============================] - 16s 767ms/step - loss: 0.5964 - accuracy: 0.7338 - val_loss: 0.5819 - val_accuracy: 0.7349\n",
      "Epoch 38/100\n",
      "21/21 [==============================] - 15s 720ms/step - loss: 0.5916 - accuracy: 0.7278 - val_loss: 0.5795 - val_accuracy: 0.7349\n",
      "Epoch 39/100\n",
      "21/21 [==============================] - 15s 691ms/step - loss: 0.5885 - accuracy: 0.7293 - val_loss: 0.5803 - val_accuracy: 0.7349\n",
      "Epoch 40/100\n",
      "21/21 [==============================] - 15s 695ms/step - loss: 0.6034 - accuracy: 0.7293 - val_loss: 0.5813 - val_accuracy: 0.7349\n",
      "Epoch 41/100\n",
      "21/21 [==============================] - 15s 717ms/step - loss: 0.5859 - accuracy: 0.7338 - val_loss: 0.5783 - val_accuracy: 0.7349\n",
      "Epoch 42/100\n",
      "21/21 [==============================] - 16s 745ms/step - loss: 0.5949 - accuracy: 0.7293 - val_loss: 0.5813 - val_accuracy: 0.7349\n",
      "Epoch 43/100\n",
      "21/21 [==============================] - 15s 726ms/step - loss: 0.5856 - accuracy: 0.7338 - val_loss: 0.5780 - val_accuracy: 0.7349\n",
      "Epoch 44/100\n",
      "21/21 [==============================] - 15s 725ms/step - loss: 0.5919 - accuracy: 0.7323 - val_loss: 0.5792 - val_accuracy: 0.7349\n",
      "Epoch 45/100\n",
      "21/21 [==============================] - 15s 703ms/step - loss: 0.5910 - accuracy: 0.7323 - val_loss: 0.5784 - val_accuracy: 0.7349\n",
      "Epoch 46/100\n",
      "21/21 [==============================] - 15s 716ms/step - loss: 0.5911 - accuracy: 0.7293 - val_loss: 0.5866 - val_accuracy: 0.7349\n",
      "Epoch 47/100\n",
      "21/21 [==============================] - 15s 708ms/step - loss: 0.5878 - accuracy: 0.7368 - val_loss: 0.5782 - val_accuracy: 0.7349\n",
      "Epoch 48/100\n",
      "21/21 [==============================] - 15s 708ms/step - loss: 0.6040 - accuracy: 0.7293 - val_loss: 0.5785 - val_accuracy: 0.7349\n",
      "Epoch 49/100\n",
      "21/21 [==============================] - 15s 727ms/step - loss: 0.6106 - accuracy: 0.7248 - val_loss: 0.5801 - val_accuracy: 0.7349\n",
      "Epoch 50/100\n",
      "21/21 [==============================] - 15s 737ms/step - loss: 0.5888 - accuracy: 0.7278 - val_loss: 0.5779 - val_accuracy: 0.7349\n",
      "Epoch 51/100\n",
      "21/21 [==============================] - 15s 731ms/step - loss: 0.5952 - accuracy: 0.7293 - val_loss: 0.5808 - val_accuracy: 0.7349\n",
      "Epoch 52/100\n",
      "21/21 [==============================] - 15s 725ms/step - loss: 0.5833 - accuracy: 0.7338 - val_loss: 0.5778 - val_accuracy: 0.7349\n",
      "Epoch 53/100\n",
      "21/21 [==============================] - 15s 727ms/step - loss: 0.5908 - accuracy: 0.7338 - val_loss: 0.5804 - val_accuracy: 0.7349\n",
      "Epoch 54/100\n",
      "21/21 [==============================] - 16s 776ms/step - loss: 0.5828 - accuracy: 0.7293 - val_loss: 0.5797 - val_accuracy: 0.7349\n",
      "Epoch 55/100\n",
      "21/21 [==============================] - 16s 742ms/step - loss: 0.5883 - accuracy: 0.7338 - val_loss: 0.5788 - val_accuracy: 0.7349\n",
      "Epoch 56/100\n",
      "21/21 [==============================] - 15s 721ms/step - loss: 0.5953 - accuracy: 0.7278 - val_loss: 0.5789 - val_accuracy: 0.7349\n",
      "Epoch 57/100\n",
      "21/21 [==============================] - 16s 747ms/step - loss: 0.5881 - accuracy: 0.7323 - val_loss: 0.5784 - val_accuracy: 0.7349\n",
      "Epoch 58/100\n",
      "21/21 [==============================] - 16s 748ms/step - loss: 0.5847 - accuracy: 0.7308 - val_loss: 0.5813 - val_accuracy: 0.7349\n",
      "Epoch 59/100\n",
      "21/21 [==============================] - 15s 725ms/step - loss: 0.5910 - accuracy: 0.7338 - val_loss: 0.5782 - val_accuracy: 0.7349\n",
      "Epoch 60/100\n",
      "21/21 [==============================] - 15s 728ms/step - loss: 0.5798 - accuracy: 0.7293 - val_loss: 0.5789 - val_accuracy: 0.7349\n",
      "Epoch 61/100\n",
      "21/21 [==============================] - 16s 758ms/step - loss: 0.5858 - accuracy: 0.7338 - val_loss: 0.5792 - val_accuracy: 0.7349\n",
      "Epoch 62/100\n",
      "21/21 [==============================] - 16s 780ms/step - loss: 0.5884 - accuracy: 0.7338 - val_loss: 0.5784 - val_accuracy: 0.7349\n",
      "Epoch 63/100\n",
      "21/21 [==============================] - 16s 750ms/step - loss: 0.5884 - accuracy: 0.7338 - val_loss: 0.5781 - val_accuracy: 0.7349\n",
      "Epoch 64/100\n",
      "21/21 [==============================] - 16s 749ms/step - loss: 0.5871 - accuracy: 0.7293 - val_loss: 0.5804 - val_accuracy: 0.7349\n",
      "Epoch 65/100\n",
      "21/21 [==============================] - 15s 732ms/step - loss: 0.5862 - accuracy: 0.7338 - val_loss: 0.5785 - val_accuracy: 0.7349\n",
      "Epoch 66/100\n",
      "21/21 [==============================] - 16s 741ms/step - loss: 0.5842 - accuracy: 0.7293 - val_loss: 0.5792 - val_accuracy: 0.7349\n",
      "Epoch 67/100\n",
      "21/21 [==============================] - 15s 732ms/step - loss: 0.5942 - accuracy: 0.7293 - val_loss: 0.5789 - val_accuracy: 0.7349\n",
      "Epoch 68/100\n",
      "21/21 [==============================] - 16s 739ms/step - loss: 0.5909 - accuracy: 0.7263 - val_loss: 0.5794 - val_accuracy: 0.7349\n",
      "Epoch 69/100\n",
      "21/21 [==============================] - 15s 736ms/step - loss: 0.5927 - accuracy: 0.7278 - val_loss: 0.5797 - val_accuracy: 0.7349\n",
      "Epoch 70/100\n",
      "21/21 [==============================] - 15s 736ms/step - loss: 0.5836 - accuracy: 0.7338 - val_loss: 0.5786 - val_accuracy: 0.7349\n",
      "Epoch 71/100\n",
      "21/21 [==============================] - 16s 747ms/step - loss: 0.5865 - accuracy: 0.7338 - val_loss: 0.5780 - val_accuracy: 0.7349\n",
      "Epoch 72/100\n",
      "21/21 [==============================] - 16s 768ms/step - loss: 0.5856 - accuracy: 0.7278 - val_loss: 0.5818 - val_accuracy: 0.7349\n",
      "Epoch 73/100\n",
      "21/21 [==============================] - 16s 739ms/step - loss: 0.5801 - accuracy: 0.7338 - val_loss: 0.5794 - val_accuracy: 0.7349\n",
      "Epoch 74/100\n",
      "21/21 [==============================] - 16s 746ms/step - loss: 0.5877 - accuracy: 0.7293 - val_loss: 0.5814 - val_accuracy: 0.7349\n",
      "Epoch 75/100\n",
      "21/21 [==============================] - 16s 755ms/step - loss: 0.5858 - accuracy: 0.7338 - val_loss: 0.5788 - val_accuracy: 0.7349\n",
      "Epoch 76/100\n",
      "21/21 [==============================] - 16s 745ms/step - loss: 0.5883 - accuracy: 0.7293 - val_loss: 0.5790 - val_accuracy: 0.7349\n",
      "Epoch 77/100\n",
      "21/21 [==============================] - 16s 757ms/step - loss: 0.5843 - accuracy: 0.7338 - val_loss: 0.5797 - val_accuracy: 0.7349\n",
      "Epoch 78/100\n",
      "21/21 [==============================] - 16s 752ms/step - loss: 0.5932 - accuracy: 0.7278 - val_loss: 0.5791 - val_accuracy: 0.7349\n",
      "Epoch 79/100\n",
      "21/21 [==============================] - 16s 767ms/step - loss: 0.5968 - accuracy: 0.7293 - val_loss: 0.5842 - val_accuracy: 0.7349\n",
      "Epoch 80/100\n",
      "21/21 [==============================] - 16s 753ms/step - loss: 0.5956 - accuracy: 0.7248 - val_loss: 0.5781 - val_accuracy: 0.7349\n",
      "Epoch 81/100\n",
      "21/21 [==============================] - 16s 746ms/step - loss: 0.5806 - accuracy: 0.7338 - val_loss: 0.5794 - val_accuracy: 0.7349\n",
      "Epoch 82/100\n",
      "21/21 [==============================] - 16s 746ms/step - loss: 0.5936 - accuracy: 0.7293 - val_loss: 0.5802 - val_accuracy: 0.7349\n",
      "Epoch 83/100\n",
      "21/21 [==============================] - 16s 745ms/step - loss: 0.5986 - accuracy: 0.7338 - val_loss: 0.5799 - val_accuracy: 0.7349\n",
      "Epoch 84/100\n",
      "21/21 [==============================] - 18s 852ms/step - loss: 0.6004 - accuracy: 0.7248 - val_loss: 0.5781 - val_accuracy: 0.7349\n",
      "Epoch 85/100\n",
      "21/21 [==============================] - 15s 728ms/step - loss: 0.5891 - accuracy: 0.7278 - val_loss: 0.5798 - val_accuracy: 0.7349\n",
      "Epoch 86/100\n",
      "21/21 [==============================] - 16s 763ms/step - loss: 0.5872 - accuracy: 0.7278 - val_loss: 0.5800 - val_accuracy: 0.7349\n",
      "Epoch 87/100\n",
      "21/21 [==============================] - 16s 748ms/step - loss: 0.5900 - accuracy: 0.7338 - val_loss: 0.5785 - val_accuracy: 0.7349\n",
      "Epoch 88/100\n",
      "21/21 [==============================] - 16s 751ms/step - loss: 0.6029 - accuracy: 0.7263 - val_loss: 0.5825 - val_accuracy: 0.7349\n",
      "Epoch 89/100\n",
      "21/21 [==============================] - 16s 755ms/step - loss: 0.6010 - accuracy: 0.7323 - val_loss: 0.5784 - val_accuracy: 0.7349\n",
      "Epoch 90/100\n",
      "21/21 [==============================] - 16s 753ms/step - loss: 0.5792 - accuracy: 0.7338 - val_loss: 0.5785 - val_accuracy: 0.7349\n",
      "Epoch 91/100\n",
      "21/21 [==============================] - 16s 774ms/step - loss: 0.5831 - accuracy: 0.7323 - val_loss: 0.5836 - val_accuracy: 0.7349\n",
      "Epoch 92/100\n",
      "21/21 [==============================] - 16s 765ms/step - loss: 0.5892 - accuracy: 0.7323 - val_loss: 0.5782 - val_accuracy: 0.7349\n",
      "Epoch 93/100\n",
      "21/21 [==============================] - 16s 774ms/step - loss: 0.5979 - accuracy: 0.7308 - val_loss: 0.5802 - val_accuracy: 0.7349\n",
      "Epoch 94/100\n",
      "21/21 [==============================] - 17s 792ms/step - loss: 0.5865 - accuracy: 0.7338 - val_loss: 0.5778 - val_accuracy: 0.7349\n",
      "Epoch 95/100\n",
      "21/21 [==============================] - 16s 778ms/step - loss: 0.5877 - accuracy: 0.7338 - val_loss: 0.5790 - val_accuracy: 0.7349\n",
      "Epoch 96/100\n",
      "21/21 [==============================] - 16s 768ms/step - loss: 0.5822 - accuracy: 0.7278 - val_loss: 0.5794 - val_accuracy: 0.7349\n",
      "Epoch 97/100\n",
      "21/21 [==============================] - 16s 759ms/step - loss: 0.5884 - accuracy: 0.7278 - val_loss: 0.5797 - val_accuracy: 0.7349\n",
      "Epoch 98/100\n",
      "21/21 [==============================] - 16s 760ms/step - loss: 0.6057 - accuracy: 0.7338 - val_loss: 0.5780 - val_accuracy: 0.7349\n",
      "Epoch 99/100\n",
      "21/21 [==============================] - 16s 766ms/step - loss: 0.5845 - accuracy: 0.7308 - val_loss: 0.5814 - val_accuracy: 0.7349\n",
      "Epoch 100/100\n",
      "21/21 [==============================] - 16s 770ms/step - loss: 0.5937 - accuracy: 0.7338 - val_loss: 0.5784 - val_accuracy: 0.7349\n"
     ]
    }
   ],
   "source": [
    "history = model.fit(\n",
    "    train_generator,\n",
    "    validation_data=validation_generator,\n",
    "    epochs=100,\n",
    ")"
   ]
  },
  {
   "cell_type": "code",
   "execution_count": null,
   "id": "5706f4c1",
   "metadata": {},
   "outputs": [
    {
     "ename": "NameError",
     "evalue": "name 'model' is not defined",
     "output_type": "error",
     "traceback": [
      "\u001b[0;31m---------------------------------------------------------------------------\u001b[0m",
      "\u001b[0;31mNameError\u001b[0m                                 Traceback (most recent call last)",
      "Cell \u001b[0;32mIn[1], line 1\u001b[0m\n\u001b[0;32m----> 1\u001b[0m val_loss, val_accuracy \u001b[38;5;241m=\u001b[39m \u001b[43mmodel\u001b[49m\u001b[38;5;241m.\u001b[39mevaluate(validation_generator)\n\u001b[1;32m      2\u001b[0m \u001b[38;5;28mprint\u001b[39m(\u001b[38;5;124mf\u001b[39m\u001b[38;5;124m\"\u001b[39m\u001b[38;5;124mValidation Accuracy: \u001b[39m\u001b[38;5;132;01m{\u001b[39;00mval_accuracy\u001b[38;5;250m \u001b[39m\u001b[38;5;241m*\u001b[39m\u001b[38;5;250m \u001b[39m\u001b[38;5;241m100\u001b[39m\u001b[38;5;132;01m:\u001b[39;00m\u001b[38;5;124m.2f\u001b[39m\u001b[38;5;132;01m}\u001b[39;00m\u001b[38;5;124m%\u001b[39m\u001b[38;5;124m\"\u001b[39m)\n\u001b[1;32m      4\u001b[0m validation_generator\u001b[38;5;241m.\u001b[39mreset()\n",
      "\u001b[0;31mNameError\u001b[0m: name 'model' is not defined"
     ]
    }
   ],
   "source": [
    "val_loss, val_accuracy = model.evaluate(validation_generator)\n",
    "print(f\"Validation Accuracy: {val_accuracy * 100:.2f}%\")\n",
    "\n",
    "validation_generator.reset()\n",
    "predictions = (model.predict(validation_generator) > 0.5).astype(\"int64\")\n",
    "true_classes = validation_generator.classes\n",
    "\n",
    "print(\"\\nClassification Report:\")\n",
    "print(classification_report(true_classes, predictions))\n",
    "\n",
    "print(\"\\nConfusion Matrix:\")\n",
    "print(confusion_matrix(true_classes, predictions))"
   ]
  }
 ],
 "metadata": {
  "kaggle": {
   "accelerator": "gpu",
   "dataSources": [
    {
     "datasetId": 1685415,
     "sourceId": 2762111,
     "sourceType": "datasetVersion"
    }
   ],
   "dockerImageVersionId": 30648,
   "isGpuEnabled": true,
   "isInternetEnabled": true,
   "language": "python",
   "sourceType": "notebook"
  },
  "kernelspec": {
   "display_name": "Python 3",
   "language": "python",
   "name": "python3"
  },
  "language_info": {
   "codemirror_mode": {
    "name": "ipython",
    "version": 3
   },
   "file_extension": ".py",
   "mimetype": "text/x-python",
   "name": "python",
   "nbconvert_exporter": "python",
   "pygments_lexer": "ipython3",
   "version": "3.8.16"
  },
  "papermill": {
   "default_parameters": {},
   "duration": 695.546863,
   "end_time": "2024-02-13T15:29:11.942165",
   "environment_variables": {},
   "exception": null,
   "input_path": "__notebook__.ipynb",
   "output_path": "__notebook__.ipynb",
   "parameters": {},
   "start_time": "2024-02-13T15:17:36.395302",
   "version": "2.5.0"
  }
 },
 "nbformat": 4,
 "nbformat_minor": 5
}
