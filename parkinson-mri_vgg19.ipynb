{
 "cells": [
  {
   "cell_type": "code",
   "execution_count": 1,
   "id": "d5928da8",
   "metadata": {},
   "outputs": [],
   "source": [
    "import os\n",
    "import numpy as np\n",
    "import pandas as pd\n",
    "from tensorflow.keras.applications import VGG19\n",
    "from tensorflow.keras.models import Model, Sequential\n",
    "from tensorflow.keras.layers import Dense, Flatten, Dropout, GlobalAveragePooling2D\n",
    "from tensorflow.keras.preprocessing.image import ImageDataGenerator\n",
    "from tensorflow.keras.optimizers import Adam\n",
    "from sklearn.metrics import classification_report, confusion_matrix"
   ]
  },
  {
   "cell_type": "code",
   "execution_count": 2,
   "id": "d7851ba1",
   "metadata": {},
   "outputs": [],
   "source": [
    "data_dir = '/Users/saikarthik/Downloads/untitled folder/parkinsons_dataset'\n"
   ]
  },
  {
   "cell_type": "code",
   "execution_count": null,
   "id": "66c3dd9b",
   "metadata": {},
   "outputs": [],
   "source": [
    "img_height, img_width = 224, 224 \n",
    "batch_size = 32\n"
   ]
  },
  {
   "cell_type": "code",
   "execution_count": 4,
   "id": "af6d12a2",
   "metadata": {},
   "outputs": [],
   "source": [
    "datagen = ImageDataGenerator(\n",
    "    rescale=1.0 / 255,\n",
    "    validation_split=0.2,  \n",
    "    rotation_range=20,\n",
    "    width_shift_range=0.2,\n",
    "    height_shift_range=0.2,\n",
    "    shear_range=0.2,\n",
    "    zoom_range=0.2,\n",
    "    horizontal_flip=True,\n",
    ")\n"
   ]
  },
  {
   "cell_type": "code",
   "execution_count": 5,
   "id": "bf0d4695",
   "metadata": {},
   "outputs": [
    {
     "name": "stdout",
     "output_type": "stream",
     "text": [
      "Found 665 images belonging to 2 classes.\n"
     ]
    }
   ],
   "source": [
    "\n",
    "train_generator = datagen.flow_from_directory(\n",
    "    data_dir,\n",
    "    target_size=(img_height, img_width),\n",
    "    batch_size=batch_size,\n",
    "    class_mode='binary',\n",
    "    subset='training',\n",
    ")"
   ]
  },
  {
   "cell_type": "code",
   "execution_count": 6,
   "id": "7467fe4b",
   "metadata": {},
   "outputs": [
    {
     "name": "stdout",
     "output_type": "stream",
     "text": [
      "Found 166 images belonging to 2 classes.\n"
     ]
    }
   ],
   "source": [
    "\n",
    "validation_generator = datagen.flow_from_directory(\n",
    "    data_dir,\n",
    "    target_size=(img_height, img_width),\n",
    "    batch_size=batch_size,\n",
    "    class_mode='binary',\n",
    "    subset='validation',\n",
    ")"
   ]
  },
  {
   "cell_type": "code",
   "execution_count": 7,
   "id": "ebc0cc15",
   "metadata": {},
   "outputs": [
    {
     "name": "stderr",
     "output_type": "stream",
     "text": [
      "2025-04-02 11:19:27.822491: I metal_plugin/src/device/metal_device.cc:1154] Metal device set to: Apple M1 Pro\n",
      "2025-04-02 11:19:27.822523: I metal_plugin/src/device/metal_device.cc:296] systemMemory: 16.00 GB\n",
      "2025-04-02 11:19:27.822534: I metal_plugin/src/device/metal_device.cc:313] maxCacheSize: 5.33 GB\n",
      "2025-04-02 11:19:27.822734: I tensorflow/core/common_runtime/pluggable_device/pluggable_device_factory.cc:303] Could not identify NUMA node of platform GPU ID 0, defaulting to 0. Your kernel may not have been built with NUMA support.\n",
      "2025-04-02 11:19:27.822752: I tensorflow/core/common_runtime/pluggable_device/pluggable_device_factory.cc:269] Created TensorFlow device (/job:localhost/replica:0/task:0/device:GPU:0 with 0 MB memory) -> physical PluggableDevice (device: 0, name: METAL, pci bus id: <undefined>)\n"
     ]
    }
   ],
   "source": [
    "base_model = VGG19(weights='imagenet', include_top=False, input_shape=(img_height, img_width, 3))\n"
   ]
  },
  {
   "cell_type": "code",
   "execution_count": 8,
   "id": "c62cda15",
   "metadata": {},
   "outputs": [],
   "source": [
    "for layer in base_model.layers:\n",
    "    layer.trainable = False\n",
    "\n",
    "model = Sequential([\n",
    "    base_model,\n",
    "    GlobalAveragePooling2D(),\n",
    "    Dense(256, activation='relu'),\n",
    "    Dropout(0.5),\n",
    "    Dense(1, activation='sigmoid')\n",
    "])\n"
   ]
  },
  {
   "cell_type": "code",
   "execution_count": 9,
   "id": "0ef99f53",
   "metadata": {},
   "outputs": [
    {
     "name": "stderr",
     "output_type": "stream",
     "text": [
      "WARNING:absl:At this time, the v2.11+ optimizer `tf.keras.optimizers.Adam` runs slowly on M1/M2 Macs, please use the legacy Keras optimizer instead, located at `tf.keras.optimizers.legacy.Adam`.\n",
      "WARNING:absl:There is a known slowdown when using v2.11+ Keras optimizers on M1/M2 Macs. Falling back to the legacy Keras optimizer, i.e., `tf.keras.optimizers.legacy.Adam`.\n"
     ]
    }
   ],
   "source": [
    "model.compile(optimizer=Adam(learning_rate=0.0001), loss='binary_crossentropy', metrics=['accuracy'])"
   ]
  },
  {
   "cell_type": "code",
   "execution_count": 10,
   "id": "9813ed99",
   "metadata": {},
   "outputs": [
    {
     "name": "stdout",
     "output_type": "stream",
     "text": [
      "Epoch 1/100\n"
     ]
    },
    {
     "name": "stderr",
     "output_type": "stream",
     "text": [
      "2025-04-02 11:19:29.631168: I tensorflow/core/grappler/optimizers/custom_graph_optimizer_registry.cc:114] Plugin optimizer for device_type GPU is enabled.\n"
     ]
    },
    {
     "name": "stdout",
     "output_type": "stream",
     "text": [
      "21/21 [==============================] - ETA: 0s - loss: 0.6665 - accuracy: 0.6060"
     ]
    },
    {
     "name": "stderr",
     "output_type": "stream",
     "text": [
      "2025-04-02 11:19:38.269030: I tensorflow/core/grappler/optimizers/custom_graph_optimizer_registry.cc:114] Plugin optimizer for device_type GPU is enabled.\n"
     ]
    },
    {
     "name": "stdout",
     "output_type": "stream",
     "text": [
      "21/21 [==============================] - 11s 375ms/step - loss: 0.6665 - accuracy: 0.6060 - val_loss: 0.5733 - val_accuracy: 0.7349\n",
      "Epoch 2/100\n",
      "21/21 [==============================] - 7s 341ms/step - loss: 0.6071 - accuracy: 0.7308 - val_loss: 0.5758 - val_accuracy: 0.7349\n",
      "Epoch 3/100\n",
      "21/21 [==============================] - 7s 337ms/step - loss: 0.5950 - accuracy: 0.7338 - val_loss: 0.5576 - val_accuracy: 0.7349\n",
      "Epoch 4/100\n",
      "21/21 [==============================] - 7s 340ms/step - loss: 0.5786 - accuracy: 0.7308 - val_loss: 0.5504 - val_accuracy: 0.7349\n",
      "Epoch 5/100\n",
      "21/21 [==============================] - 7s 335ms/step - loss: 0.5576 - accuracy: 0.7398 - val_loss: 0.5477 - val_accuracy: 0.7349\n",
      "Epoch 6/100\n",
      "21/21 [==============================] - 7s 339ms/step - loss: 0.5563 - accuracy: 0.7353 - val_loss: 0.5334 - val_accuracy: 0.7349\n",
      "Epoch 7/100\n",
      "21/21 [==============================] - 8s 352ms/step - loss: 0.5425 - accuracy: 0.7383 - val_loss: 0.5302 - val_accuracy: 0.7349\n",
      "Epoch 8/100\n",
      "21/21 [==============================] - 7s 330ms/step - loss: 0.5222 - accuracy: 0.7504 - val_loss: 0.5189 - val_accuracy: 0.7349\n",
      "Epoch 9/100\n",
      "21/21 [==============================] - 7s 335ms/step - loss: 0.5154 - accuracy: 0.7444 - val_loss: 0.5136 - val_accuracy: 0.7349\n",
      "Epoch 10/100\n",
      "21/21 [==============================] - 7s 335ms/step - loss: 0.5171 - accuracy: 0.7639 - val_loss: 0.5055 - val_accuracy: 0.7349\n",
      "Epoch 11/100\n",
      "21/21 [==============================] - 7s 338ms/step - loss: 0.5053 - accuracy: 0.7519 - val_loss: 0.4909 - val_accuracy: 0.7349\n",
      "Epoch 12/100\n",
      "21/21 [==============================] - 7s 336ms/step - loss: 0.5035 - accuracy: 0.7759 - val_loss: 0.4906 - val_accuracy: 0.7349\n",
      "Epoch 13/100\n",
      "21/21 [==============================] - 7s 346ms/step - loss: 0.4840 - accuracy: 0.7669 - val_loss: 0.4785 - val_accuracy: 0.7349\n",
      "Epoch 14/100\n",
      "21/21 [==============================] - 7s 341ms/step - loss: 0.4777 - accuracy: 0.7699 - val_loss: 0.4675 - val_accuracy: 0.7410\n",
      "Epoch 15/100\n",
      "21/21 [==============================] - 7s 344ms/step - loss: 0.4784 - accuracy: 0.7865 - val_loss: 0.4708 - val_accuracy: 0.7410\n",
      "Epoch 16/100\n",
      "21/21 [==============================] - 7s 344ms/step - loss: 0.4672 - accuracy: 0.7850 - val_loss: 0.4832 - val_accuracy: 0.7349\n",
      "Epoch 17/100\n",
      "21/21 [==============================] - 7s 346ms/step - loss: 0.4609 - accuracy: 0.7895 - val_loss: 0.4572 - val_accuracy: 0.7470\n",
      "Epoch 18/100\n",
      "21/21 [==============================] - 7s 349ms/step - loss: 0.4565 - accuracy: 0.8045 - val_loss: 0.4581 - val_accuracy: 0.7410\n",
      "Epoch 19/100\n",
      "21/21 [==============================] - 7s 351ms/step - loss: 0.4574 - accuracy: 0.7850 - val_loss: 0.4624 - val_accuracy: 0.7410\n",
      "Epoch 20/100\n",
      "21/21 [==============================] - 8s 356ms/step - loss: 0.4446 - accuracy: 0.7835 - val_loss: 0.4628 - val_accuracy: 0.7470\n",
      "Epoch 21/100\n",
      "21/21 [==============================] - 8s 359ms/step - loss: 0.4457 - accuracy: 0.8135 - val_loss: 0.4655 - val_accuracy: 0.7470\n",
      "Epoch 22/100\n",
      "21/21 [==============================] - 8s 361ms/step - loss: 0.4317 - accuracy: 0.8271 - val_loss: 0.4470 - val_accuracy: 0.7470\n",
      "Epoch 23/100\n",
      "21/21 [==============================] - 8s 375ms/step - loss: 0.4272 - accuracy: 0.8195 - val_loss: 0.4527 - val_accuracy: 0.7410\n",
      "Epoch 24/100\n",
      "21/21 [==============================] - 8s 360ms/step - loss: 0.4315 - accuracy: 0.8256 - val_loss: 0.4388 - val_accuracy: 0.7590\n",
      "Epoch 25/100\n",
      "21/21 [==============================] - 8s 385ms/step - loss: 0.4197 - accuracy: 0.8211 - val_loss: 0.4563 - val_accuracy: 0.7590\n",
      "Epoch 26/100\n",
      "21/21 [==============================] - 8s 371ms/step - loss: 0.4201 - accuracy: 0.8090 - val_loss: 0.4405 - val_accuracy: 0.7590\n",
      "Epoch 27/100\n",
      "21/21 [==============================] - 8s 378ms/step - loss: 0.4111 - accuracy: 0.8376 - val_loss: 0.4467 - val_accuracy: 0.7590\n",
      "Epoch 28/100\n",
      "21/21 [==============================] - 8s 385ms/step - loss: 0.4121 - accuracy: 0.8195 - val_loss: 0.4268 - val_accuracy: 0.7651\n",
      "Epoch 29/100\n",
      "21/21 [==============================] - 9s 412ms/step - loss: 0.4043 - accuracy: 0.8376 - val_loss: 0.4347 - val_accuracy: 0.7711\n",
      "Epoch 30/100\n",
      "21/21 [==============================] - 9s 428ms/step - loss: 0.3986 - accuracy: 0.8301 - val_loss: 0.4529 - val_accuracy: 0.7530\n",
      "Epoch 31/100\n",
      "21/21 [==============================] - 9s 443ms/step - loss: 0.3966 - accuracy: 0.8331 - val_loss: 0.4334 - val_accuracy: 0.7651\n",
      "Epoch 32/100\n",
      "21/21 [==============================] - 9s 407ms/step - loss: 0.4031 - accuracy: 0.8301 - val_loss: 0.4359 - val_accuracy: 0.7771\n",
      "Epoch 33/100\n",
      "21/21 [==============================] - 9s 423ms/step - loss: 0.3991 - accuracy: 0.8331 - val_loss: 0.4486 - val_accuracy: 0.7711\n",
      "Epoch 34/100\n",
      "21/21 [==============================] - 9s 443ms/step - loss: 0.3891 - accuracy: 0.8256 - val_loss: 0.4380 - val_accuracy: 0.7651\n",
      "Epoch 35/100\n",
      "21/21 [==============================] - 9s 420ms/step - loss: 0.3966 - accuracy: 0.8316 - val_loss: 0.4319 - val_accuracy: 0.7711\n",
      "Epoch 36/100\n",
      "21/21 [==============================] - 9s 409ms/step - loss: 0.3883 - accuracy: 0.8346 - val_loss: 0.4569 - val_accuracy: 0.7771\n",
      "Epoch 37/100\n",
      "21/21 [==============================] - 9s 408ms/step - loss: 0.3886 - accuracy: 0.8406 - val_loss: 0.4293 - val_accuracy: 0.7771\n",
      "Epoch 38/100\n",
      "21/21 [==============================] - 9s 413ms/step - loss: 0.3754 - accuracy: 0.8451 - val_loss: 0.4148 - val_accuracy: 0.7892\n",
      "Epoch 39/100\n",
      "21/21 [==============================] - 9s 415ms/step - loss: 0.3718 - accuracy: 0.8376 - val_loss: 0.4351 - val_accuracy: 0.7711\n",
      "Epoch 40/100\n",
      "21/21 [==============================] - 9s 420ms/step - loss: 0.3805 - accuracy: 0.8391 - val_loss: 0.4431 - val_accuracy: 0.7590\n",
      "Epoch 41/100\n",
      "21/21 [==============================] - 9s 426ms/step - loss: 0.3626 - accuracy: 0.8451 - val_loss: 0.4347 - val_accuracy: 0.7711\n",
      "Epoch 42/100\n",
      "21/21 [==============================] - 9s 442ms/step - loss: 0.3709 - accuracy: 0.8391 - val_loss: 0.4782 - val_accuracy: 0.7952\n",
      "Epoch 43/100\n",
      "21/21 [==============================] - 10s 463ms/step - loss: 0.3635 - accuracy: 0.8421 - val_loss: 0.4650 - val_accuracy: 0.7711\n",
      "Epoch 44/100\n",
      "21/21 [==============================] - 10s 480ms/step - loss: 0.3676 - accuracy: 0.8361 - val_loss: 0.4725 - val_accuracy: 0.7831\n",
      "Epoch 45/100\n",
      "21/21 [==============================] - 10s 463ms/step - loss: 0.3656 - accuracy: 0.8361 - val_loss: 0.4300 - val_accuracy: 0.7892\n",
      "Epoch 46/100\n",
      "21/21 [==============================] - 10s 484ms/step - loss: 0.3572 - accuracy: 0.8436 - val_loss: 0.4242 - val_accuracy: 0.7892\n",
      "Epoch 47/100\n",
      "21/21 [==============================] - 11s 520ms/step - loss: 0.3545 - accuracy: 0.8571 - val_loss: 0.4292 - val_accuracy: 0.7711\n",
      "Epoch 48/100\n",
      "21/21 [==============================] - 11s 506ms/step - loss: 0.3534 - accuracy: 0.8541 - val_loss: 0.4451 - val_accuracy: 0.7952\n",
      "Epoch 49/100\n",
      "21/21 [==============================] - 10s 493ms/step - loss: 0.3490 - accuracy: 0.8556 - val_loss: 0.4609 - val_accuracy: 0.7771\n",
      "Epoch 50/100\n",
      "21/21 [==============================] - 10s 484ms/step - loss: 0.3497 - accuracy: 0.8466 - val_loss: 0.4144 - val_accuracy: 0.7892\n",
      "Epoch 51/100\n",
      "21/21 [==============================] - 10s 483ms/step - loss: 0.3415 - accuracy: 0.8496 - val_loss: 0.4378 - val_accuracy: 0.8133\n",
      "Epoch 52/100\n",
      "21/21 [==============================] - 10s 475ms/step - loss: 0.3395 - accuracy: 0.8602 - val_loss: 0.4364 - val_accuracy: 0.8012\n",
      "Epoch 53/100\n",
      "21/21 [==============================] - 10s 461ms/step - loss: 0.3476 - accuracy: 0.8677 - val_loss: 0.4586 - val_accuracy: 0.7831\n",
      "Epoch 54/100\n",
      "21/21 [==============================] - 10s 482ms/step - loss: 0.3465 - accuracy: 0.8511 - val_loss: 0.4264 - val_accuracy: 0.8012\n",
      "Epoch 55/100\n",
      "21/21 [==============================] - 10s 476ms/step - loss: 0.3455 - accuracy: 0.8526 - val_loss: 0.4225 - val_accuracy: 0.7952\n",
      "Epoch 56/100\n",
      "21/21 [==============================] - 11s 504ms/step - loss: 0.3398 - accuracy: 0.8556 - val_loss: 0.4595 - val_accuracy: 0.7892\n",
      "Epoch 57/100\n",
      "21/21 [==============================] - 10s 483ms/step - loss: 0.3432 - accuracy: 0.8496 - val_loss: 0.4819 - val_accuracy: 0.7892\n",
      "Epoch 58/100\n",
      "21/21 [==============================] - 11s 519ms/step - loss: 0.3240 - accuracy: 0.8677 - val_loss: 0.4432 - val_accuracy: 0.8072\n",
      "Epoch 59/100\n",
      "21/21 [==============================] - 10s 478ms/step - loss: 0.3296 - accuracy: 0.8737 - val_loss: 0.4830 - val_accuracy: 0.7952\n",
      "Epoch 60/100\n",
      "21/21 [==============================] - 10s 473ms/step - loss: 0.3312 - accuracy: 0.8722 - val_loss: 0.4321 - val_accuracy: 0.8012\n",
      "Epoch 61/100\n",
      "21/21 [==============================] - 10s 476ms/step - loss: 0.3331 - accuracy: 0.8451 - val_loss: 0.4965 - val_accuracy: 0.7771\n",
      "Epoch 62/100\n",
      "21/21 [==============================] - 10s 479ms/step - loss: 0.3332 - accuracy: 0.8466 - val_loss: 0.4455 - val_accuracy: 0.7892\n",
      "Epoch 63/100\n",
      "21/21 [==============================] - 10s 479ms/step - loss: 0.3259 - accuracy: 0.8632 - val_loss: 0.4814 - val_accuracy: 0.7892\n",
      "Epoch 64/100\n",
      "21/21 [==============================] - 10s 483ms/step - loss: 0.3217 - accuracy: 0.8647 - val_loss: 0.4503 - val_accuracy: 0.8193\n",
      "Epoch 65/100\n",
      "21/21 [==============================] - 10s 483ms/step - loss: 0.3196 - accuracy: 0.8797 - val_loss: 0.4526 - val_accuracy: 0.7892\n",
      "Epoch 66/100\n",
      "21/21 [==============================] - 10s 488ms/step - loss: 0.3262 - accuracy: 0.8602 - val_loss: 0.4398 - val_accuracy: 0.8012\n",
      "Epoch 67/100\n",
      "21/21 [==============================] - 10s 490ms/step - loss: 0.3217 - accuracy: 0.8632 - val_loss: 0.4501 - val_accuracy: 0.7952\n",
      "Epoch 68/100\n",
      "21/21 [==============================] - 10s 490ms/step - loss: 0.3206 - accuracy: 0.8632 - val_loss: 0.4458 - val_accuracy: 0.8012\n",
      "Epoch 69/100\n",
      "21/21 [==============================] - 10s 496ms/step - loss: 0.3138 - accuracy: 0.8632 - val_loss: 0.4431 - val_accuracy: 0.8133\n",
      "Epoch 70/100\n",
      "21/21 [==============================] - 10s 495ms/step - loss: 0.3136 - accuracy: 0.8647 - val_loss: 0.4361 - val_accuracy: 0.7952\n",
      "Epoch 71/100\n",
      "21/21 [==============================] - 10s 496ms/step - loss: 0.3129 - accuracy: 0.8617 - val_loss: 0.4629 - val_accuracy: 0.7952\n",
      "Epoch 72/100\n",
      "21/21 [==============================] - 11s 501ms/step - loss: 0.3070 - accuracy: 0.8692 - val_loss: 0.4529 - val_accuracy: 0.7831\n",
      "Epoch 73/100\n",
      "21/21 [==============================] - 10s 493ms/step - loss: 0.2994 - accuracy: 0.8782 - val_loss: 0.4296 - val_accuracy: 0.8012\n",
      "Epoch 74/100\n",
      "21/21 [==============================] - 10s 495ms/step - loss: 0.3029 - accuracy: 0.8662 - val_loss: 0.4566 - val_accuracy: 0.7952\n",
      "Epoch 75/100\n",
      "21/21 [==============================] - 10s 498ms/step - loss: 0.2993 - accuracy: 0.8812 - val_loss: 0.4755 - val_accuracy: 0.7892\n",
      "Epoch 76/100\n",
      "21/21 [==============================] - 10s 495ms/step - loss: 0.3103 - accuracy: 0.8737 - val_loss: 0.4718 - val_accuracy: 0.8012\n",
      "Epoch 77/100\n",
      "21/21 [==============================] - 10s 496ms/step - loss: 0.2979 - accuracy: 0.8632 - val_loss: 0.4867 - val_accuracy: 0.7892\n",
      "Epoch 78/100\n",
      "21/21 [==============================] - 11s 499ms/step - loss: 0.3042 - accuracy: 0.8632 - val_loss: 0.4753 - val_accuracy: 0.7952\n",
      "Epoch 79/100\n",
      "21/21 [==============================] - 11s 499ms/step - loss: 0.3117 - accuracy: 0.8752 - val_loss: 0.4654 - val_accuracy: 0.8012\n",
      "Epoch 80/100\n",
      "21/21 [==============================] - 11s 500ms/step - loss: 0.3086 - accuracy: 0.8737 - val_loss: 0.4724 - val_accuracy: 0.7952\n",
      "Epoch 81/100\n",
      "21/21 [==============================] - 11s 498ms/step - loss: 0.3015 - accuracy: 0.8677 - val_loss: 0.4945 - val_accuracy: 0.7892\n",
      "Epoch 82/100\n",
      "21/21 [==============================] - 10s 496ms/step - loss: 0.2963 - accuracy: 0.8692 - val_loss: 0.4539 - val_accuracy: 0.8133\n",
      "Epoch 83/100\n",
      "21/21 [==============================] - 10s 497ms/step - loss: 0.2923 - accuracy: 0.8827 - val_loss: 0.4704 - val_accuracy: 0.7831\n",
      "Epoch 84/100\n",
      "21/21 [==============================] - 10s 495ms/step - loss: 0.3029 - accuracy: 0.8752 - val_loss: 0.4679 - val_accuracy: 0.8072\n",
      "Epoch 85/100\n",
      "21/21 [==============================] - 10s 494ms/step - loss: 0.3012 - accuracy: 0.8722 - val_loss: 0.4652 - val_accuracy: 0.7952\n",
      "Epoch 86/100\n",
      "21/21 [==============================] - 10s 493ms/step - loss: 0.2920 - accuracy: 0.8707 - val_loss: 0.4514 - val_accuracy: 0.8133\n",
      "Epoch 87/100\n",
      "21/21 [==============================] - 11s 508ms/step - loss: 0.2848 - accuracy: 0.8902 - val_loss: 0.4711 - val_accuracy: 0.7952\n",
      "Epoch 88/100\n",
      "21/21 [==============================] - 12s 572ms/step - loss: 0.2861 - accuracy: 0.8797 - val_loss: 0.4873 - val_accuracy: 0.8193\n",
      "Epoch 89/100\n",
      "21/21 [==============================] - 12s 546ms/step - loss: 0.2902 - accuracy: 0.8767 - val_loss: 0.4527 - val_accuracy: 0.8193\n",
      "Epoch 90/100\n",
      "21/21 [==============================] - 11s 545ms/step - loss: 0.2881 - accuracy: 0.8827 - val_loss: 0.4825 - val_accuracy: 0.7952\n",
      "Epoch 91/100\n",
      "21/21 [==============================] - 12s 561ms/step - loss: 0.2836 - accuracy: 0.8842 - val_loss: 0.4505 - val_accuracy: 0.7952\n",
      "Epoch 92/100\n",
      "21/21 [==============================] - 12s 555ms/step - loss: 0.2798 - accuracy: 0.8752 - val_loss: 0.4781 - val_accuracy: 0.7952\n",
      "Epoch 93/100\n",
      "21/21 [==============================] - 12s 569ms/step - loss: 0.2786 - accuracy: 0.8887 - val_loss: 0.4538 - val_accuracy: 0.8072\n",
      "Epoch 94/100\n",
      "21/21 [==============================] - 12s 559ms/step - loss: 0.2804 - accuracy: 0.8932 - val_loss: 0.4377 - val_accuracy: 0.8253\n",
      "Epoch 95/100\n",
      "21/21 [==============================] - 12s 545ms/step - loss: 0.2948 - accuracy: 0.8617 - val_loss: 0.4649 - val_accuracy: 0.8012\n",
      "Epoch 96/100\n",
      "21/21 [==============================] - 12s 549ms/step - loss: 0.2798 - accuracy: 0.8782 - val_loss: 0.4113 - val_accuracy: 0.8133\n",
      "Epoch 97/100\n",
      "21/21 [==============================] - 12s 549ms/step - loss: 0.2871 - accuracy: 0.8812 - val_loss: 0.4674 - val_accuracy: 0.7892\n",
      "Epoch 98/100\n",
      "21/21 [==============================] - 11s 546ms/step - loss: 0.2807 - accuracy: 0.8857 - val_loss: 0.4347 - val_accuracy: 0.8072\n",
      "Epoch 99/100\n",
      "21/21 [==============================] - 12s 550ms/step - loss: 0.2700 - accuracy: 0.8857 - val_loss: 0.4783 - val_accuracy: 0.8133\n",
      "Epoch 100/100\n",
      "21/21 [==============================] - 12s 548ms/step - loss: 0.2678 - accuracy: 0.8857 - val_loss: 0.4452 - val_accuracy: 0.8012\n"
     ]
    }
   ],
   "source": [
    "# Train the model\n",
    "history = model.fit(\n",
    "    train_generator,\n",
    "    validation_data=validation_generator,\n",
    "    epochs=100,\n",
    ")"
   ]
  },
  {
   "cell_type": "code",
   "execution_count": 14,
   "id": "5706f4c1",
   "metadata": {},
   "outputs": [
    {
     "name": "stdout",
     "output_type": "stream",
     "text": [
      "6/6 [==============================] - 2s 209ms/step - loss: 0.4330 - accuracy: 0.8193\n",
      "Validation Accuracy: 81.93%\n",
      "6/6 [==============================] - 1s 244ms/step\n",
      "\n",
      "Classification Report:\n",
      "              precision    recall  f1-score   support\n",
      "\n",
      "           0       0.74      0.94      0.83       122\n",
      "           1       0.36      0.09      0.15        44\n",
      "\n",
      "    accuracy                           0.72       166\n",
      "   macro avg       0.55      0.52      0.49       166\n",
      "weighted avg       0.64      0.72      0.65       166\n",
      "\n",
      "\n",
      "Confusion Matrix:\n",
      "[[115   7]\n",
      " [ 40   4]]\n"
     ]
    }
   ],
   "source": [
    "val_loss, val_accuracy = model.evaluate(validation_generator)\n",
    "print(f\"Validation Accuracy: {val_accuracy * 100:.2f}%\")\n",
    "\n",
    "validation_generator.reset()\n",
    "predictions = (model.predict(validation_generator) > 0.5).astype(\"int64\")\n",
    "true_classes = validation_generator.classes\n",
    "\n",
    "print(\"\\nClassification Report:\")\n",
    "print(classification_report(true_classes, predictions))\n",
    "\n",
    "print(\"\\nConfusion Matrix:\")\n",
    "print(confusion_matrix(true_classes, predictions))"
   ]
  }
 ],
 "metadata": {
  "kaggle": {
   "accelerator": "gpu",
   "dataSources": [
    {
     "datasetId": 1685415,
     "sourceId": 2762111,
     "sourceType": "datasetVersion"
    }
   ],
   "dockerImageVersionId": 30648,
   "isGpuEnabled": true,
   "isInternetEnabled": true,
   "language": "python",
   "sourceType": "notebook"
  },
  "kernelspec": {
   "display_name": "Python 3",
   "language": "python",
   "name": "python3"
  },
  "language_info": {
   "codemirror_mode": {
    "name": "ipython",
    "version": 3
   },
   "file_extension": ".py",
   "mimetype": "text/x-python",
   "name": "python",
   "nbconvert_exporter": "python",
   "pygments_lexer": "ipython3",
   "version": "3.8.16"
  },
  "papermill": {
   "default_parameters": {},
   "duration": 695.546863,
   "end_time": "2024-02-13T15:29:11.942165",
   "environment_variables": {},
   "exception": null,
   "input_path": "__notebook__.ipynb",
   "output_path": "__notebook__.ipynb",
   "parameters": {},
   "start_time": "2024-02-13T15:17:36.395302",
   "version": "2.5.0"
  }
 },
 "nbformat": 4,
 "nbformat_minor": 5
}
