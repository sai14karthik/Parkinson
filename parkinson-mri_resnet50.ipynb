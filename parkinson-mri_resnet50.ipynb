{
 "cells": [
  {
   "cell_type": "code",
   "execution_count": 1,
   "id": "d5928da8",
   "metadata": {},
   "outputs": [],
   "source": [
    "import os\n",
    "import numpy as np\n",
    "from tensorflow.keras.applications import ResNet50\n",
    "from tensorflow.keras.models import Sequential\n",
    "from tensorflow.keras.layers import Dense, GlobalAveragePooling2D, Dropout\n",
    "from tensorflow.keras.preprocessing.image import ImageDataGenerator\n",
    "from tensorflow.keras.optimizers import Adam\n",
    "from sklearn.metrics import classification_report, confusion_matrix"
   ]
  },
  {
   "cell_type": "code",
   "execution_count": 2,
   "id": "d7851ba1",
   "metadata": {},
   "outputs": [],
   "source": [
    "data_dir = '/Users/saikarthik/Downloads/untitled folder/parkinsons_dataset'\n"
   ]
  },
  {
   "cell_type": "code",
   "execution_count": 3,
   "id": "66c3dd9b",
   "metadata": {},
   "outputs": [],
   "source": [
    "img_height, img_width = 224, 224 \n",
    "batch_size = 32\n"
   ]
  },
  {
   "cell_type": "code",
   "execution_count": 4,
   "id": "af6d12a2",
   "metadata": {},
   "outputs": [],
   "source": [
    "datagen = ImageDataGenerator(\n",
    "    rescale=1.0 / 255,\n",
    "    validation_split=0.2,  \n",
    "    rotation_range=20,\n",
    "    width_shift_range=0.2,\n",
    "    height_shift_range=0.2,\n",
    "    shear_range=0.2,\n",
    "    zoom_range=0.2,\n",
    "    horizontal_flip=True,\n",
    ")\n"
   ]
  },
  {
   "cell_type": "code",
   "execution_count": 5,
   "id": "bf0d4695",
   "metadata": {},
   "outputs": [
    {
     "name": "stdout",
     "output_type": "stream",
     "text": [
      "Found 665 images belonging to 2 classes.\n"
     ]
    }
   ],
   "source": [
    "\n",
    "train_generator = datagen.flow_from_directory(\n",
    "    data_dir,\n",
    "    target_size=(img_height, img_width),\n",
    "    batch_size=batch_size,\n",
    "    class_mode='binary',\n",
    "    subset='training',\n",
    ")"
   ]
  },
  {
   "cell_type": "code",
   "execution_count": 6,
   "id": "7467fe4b",
   "metadata": {},
   "outputs": [
    {
     "name": "stdout",
     "output_type": "stream",
     "text": [
      "Found 166 images belonging to 2 classes.\n"
     ]
    }
   ],
   "source": [
    "\n",
    "validation_generator = datagen.flow_from_directory(\n",
    "    data_dir,\n",
    "    target_size=(img_height, img_width),\n",
    "    batch_size=batch_size,\n",
    "    class_mode='binary',\n",
    "    subset='validation',\n",
    ")"
   ]
  },
  {
   "cell_type": "code",
   "execution_count": 7,
   "id": "ebc0cc15",
   "metadata": {},
   "outputs": [
    {
     "name": "stderr",
     "output_type": "stream",
     "text": [
      "2025-04-02 11:47:35.249176: I metal_plugin/src/device/metal_device.cc:1154] Metal device set to: Apple M1 Pro\n",
      "2025-04-02 11:47:35.249209: I metal_plugin/src/device/metal_device.cc:296] systemMemory: 16.00 GB\n",
      "2025-04-02 11:47:35.249218: I metal_plugin/src/device/metal_device.cc:313] maxCacheSize: 5.33 GB\n",
      "2025-04-02 11:47:35.249344: I tensorflow/core/common_runtime/pluggable_device/pluggable_device_factory.cc:303] Could not identify NUMA node of platform GPU ID 0, defaulting to 0. Your kernel may not have been built with NUMA support.\n",
      "2025-04-02 11:47:35.249593: I tensorflow/core/common_runtime/pluggable_device/pluggable_device_factory.cc:269] Created TensorFlow device (/job:localhost/replica:0/task:0/device:GPU:0 with 0 MB memory) -> physical PluggableDevice (device: 0, name: METAL, pci bus id: <undefined>)\n"
     ]
    }
   ],
   "source": [
    "base_model = ResNet50(weights='imagenet', include_top=False, input_shape=(img_height, img_width, 3))"
   ]
  },
  {
   "cell_type": "code",
   "execution_count": 8,
   "id": "f5629127",
   "metadata": {},
   "outputs": [],
   "source": [
    "for layer in base_model.layers:\n",
    "    layer.trainable = False"
   ]
  },
  {
   "cell_type": "code",
   "execution_count": 9,
   "id": "c62cda15",
   "metadata": {},
   "outputs": [],
   "source": [
    "for layer in base_model.layers:\n",
    "    layer.trainable = False\n",
    "\n",
    "model = Sequential([\n",
    "    base_model,\n",
    "    GlobalAveragePooling2D(),\n",
    "    Dense(256, activation='relu'),\n",
    "    Dropout(0.5),\n",
    "    Dense(1, activation='sigmoid')\n",
    "])\n"
   ]
  },
  {
   "cell_type": "code",
   "execution_count": 10,
   "id": "0ef99f53",
   "metadata": {},
   "outputs": [
    {
     "name": "stderr",
     "output_type": "stream",
     "text": [
      "WARNING:absl:At this time, the v2.11+ optimizer `tf.keras.optimizers.Adam` runs slowly on M1/M2 Macs, please use the legacy Keras optimizer instead, located at `tf.keras.optimizers.legacy.Adam`.\n",
      "WARNING:absl:There is a known slowdown when using v2.11+ Keras optimizers on M1/M2 Macs. Falling back to the legacy Keras optimizer, i.e., `tf.keras.optimizers.legacy.Adam`.\n"
     ]
    }
   ],
   "source": [
    "model.compile(optimizer=Adam(learning_rate=0.0001), loss='binary_crossentropy', metrics=['accuracy'])"
   ]
  },
  {
   "cell_type": "code",
   "execution_count": 11,
   "id": "9813ed99",
   "metadata": {},
   "outputs": [
    {
     "name": "stdout",
     "output_type": "stream",
     "text": [
      "Epoch 1/100\n"
     ]
    },
    {
     "name": "stderr",
     "output_type": "stream",
     "text": [
      "2025-04-02 11:47:38.732283: I tensorflow/core/grappler/optimizers/custom_graph_optimizer_registry.cc:114] Plugin optimizer for device_type GPU is enabled.\n"
     ]
    },
    {
     "name": "stdout",
     "output_type": "stream",
     "text": [
      "21/21 [==============================] - ETA: 0s - loss: 0.7336 - accuracy: 0.6602"
     ]
    },
    {
     "name": "stderr",
     "output_type": "stream",
     "text": [
      "2025-04-02 11:47:45.507479: I tensorflow/core/grappler/optimizers/custom_graph_optimizer_registry.cc:114] Plugin optimizer for device_type GPU is enabled.\n"
     ]
    },
    {
     "name": "stdout",
     "output_type": "stream",
     "text": [
      "21/21 [==============================] - 10s 317ms/step - loss: 0.7336 - accuracy: 0.6602 - val_loss: 0.6043 - val_accuracy: 0.7349\n",
      "Epoch 2/100\n",
      "21/21 [==============================] - 5s 251ms/step - loss: 0.6520 - accuracy: 0.6767 - val_loss: 0.5739 - val_accuracy: 0.7349\n",
      "Epoch 3/100\n",
      "21/21 [==============================] - 5s 242ms/step - loss: 0.6377 - accuracy: 0.7023 - val_loss: 0.5689 - val_accuracy: 0.7349\n",
      "Epoch 4/100\n",
      "21/21 [==============================] - 5s 241ms/step - loss: 0.6135 - accuracy: 0.7248 - val_loss: 0.5655 - val_accuracy: 0.7349\n",
      "Epoch 5/100\n",
      "21/21 [==============================] - 5s 245ms/step - loss: 0.5871 - accuracy: 0.7278 - val_loss: 0.5591 - val_accuracy: 0.7349\n",
      "Epoch 6/100\n",
      "21/21 [==============================] - 5s 241ms/step - loss: 0.5644 - accuracy: 0.7444 - val_loss: 0.5689 - val_accuracy: 0.7349\n",
      "Epoch 7/100\n",
      "21/21 [==============================] - 5s 240ms/step - loss: 0.5621 - accuracy: 0.7429 - val_loss: 0.5526 - val_accuracy: 0.7349\n",
      "Epoch 8/100\n",
      "21/21 [==============================] - 5s 240ms/step - loss: 0.5562 - accuracy: 0.7534 - val_loss: 0.5559 - val_accuracy: 0.7349\n",
      "Epoch 9/100\n",
      "21/21 [==============================] - 5s 240ms/step - loss: 0.5472 - accuracy: 0.7579 - val_loss: 0.5514 - val_accuracy: 0.7349\n",
      "Epoch 10/100\n",
      "21/21 [==============================] - 5s 240ms/step - loss: 0.5496 - accuracy: 0.7444 - val_loss: 0.5427 - val_accuracy: 0.7349\n",
      "Epoch 11/100\n",
      "21/21 [==============================] - 5s 242ms/step - loss: 0.5268 - accuracy: 0.7459 - val_loss: 0.5569 - val_accuracy: 0.7349\n",
      "Epoch 12/100\n",
      "21/21 [==============================] - 5s 241ms/step - loss: 0.5249 - accuracy: 0.7594 - val_loss: 0.5493 - val_accuracy: 0.7349\n",
      "Epoch 13/100\n",
      "21/21 [==============================] - 5s 239ms/step - loss: 0.5250 - accuracy: 0.7564 - val_loss: 0.5387 - val_accuracy: 0.7349\n",
      "Epoch 14/100\n",
      "21/21 [==============================] - 5s 239ms/step - loss: 0.5068 - accuracy: 0.7654 - val_loss: 0.5397 - val_accuracy: 0.7349\n",
      "Epoch 15/100\n",
      "21/21 [==============================] - 5s 239ms/step - loss: 0.5042 - accuracy: 0.7714 - val_loss: 0.5253 - val_accuracy: 0.7349\n",
      "Epoch 16/100\n",
      "21/21 [==============================] - 5s 240ms/step - loss: 0.5124 - accuracy: 0.7639 - val_loss: 0.5353 - val_accuracy: 0.7349\n",
      "Epoch 17/100\n",
      "21/21 [==============================] - 5s 241ms/step - loss: 0.5002 - accuracy: 0.7805 - val_loss: 0.5626 - val_accuracy: 0.7349\n",
      "Epoch 18/100\n",
      "21/21 [==============================] - 5s 244ms/step - loss: 0.5086 - accuracy: 0.7549 - val_loss: 0.5195 - val_accuracy: 0.7349\n",
      "Epoch 19/100\n",
      "21/21 [==============================] - 5s 239ms/step - loss: 0.4931 - accuracy: 0.7759 - val_loss: 0.5372 - val_accuracy: 0.7349\n",
      "Epoch 20/100\n",
      "21/21 [==============================] - 5s 240ms/step - loss: 0.5090 - accuracy: 0.7669 - val_loss: 0.5192 - val_accuracy: 0.7349\n",
      "Epoch 21/100\n",
      "21/21 [==============================] - 5s 239ms/step - loss: 0.4958 - accuracy: 0.7684 - val_loss: 0.5068 - val_accuracy: 0.7349\n",
      "Epoch 22/100\n",
      "21/21 [==============================] - 5s 241ms/step - loss: 0.4944 - accuracy: 0.7699 - val_loss: 0.5207 - val_accuracy: 0.7410\n",
      "Epoch 23/100\n",
      "21/21 [==============================] - 5s 240ms/step - loss: 0.4855 - accuracy: 0.7774 - val_loss: 0.5252 - val_accuracy: 0.7349\n",
      "Epoch 24/100\n",
      "21/21 [==============================] - 5s 240ms/step - loss: 0.4735 - accuracy: 0.7910 - val_loss: 0.5160 - val_accuracy: 0.7349\n",
      "Epoch 25/100\n",
      "21/21 [==============================] - 5s 240ms/step - loss: 0.4762 - accuracy: 0.7744 - val_loss: 0.5084 - val_accuracy: 0.7349\n",
      "Epoch 26/100\n",
      "21/21 [==============================] - 5s 239ms/step - loss: 0.4821 - accuracy: 0.7955 - val_loss: 0.5148 - val_accuracy: 0.7349\n",
      "Epoch 27/100\n",
      "21/21 [==============================] - 5s 239ms/step - loss: 0.4707 - accuracy: 0.7774 - val_loss: 0.5258 - val_accuracy: 0.7349\n",
      "Epoch 28/100\n",
      "21/21 [==============================] - 5s 241ms/step - loss: 0.4704 - accuracy: 0.7835 - val_loss: 0.5292 - val_accuracy: 0.7349\n",
      "Epoch 29/100\n",
      "21/21 [==============================] - 5s 239ms/step - loss: 0.4720 - accuracy: 0.7925 - val_loss: 0.5398 - val_accuracy: 0.7349\n",
      "Epoch 30/100\n",
      "21/21 [==============================] - 5s 240ms/step - loss: 0.4746 - accuracy: 0.7880 - val_loss: 0.5057 - val_accuracy: 0.7349\n",
      "Epoch 31/100\n",
      "21/21 [==============================] - 5s 241ms/step - loss: 0.4711 - accuracy: 0.7744 - val_loss: 0.5010 - val_accuracy: 0.7349\n",
      "Epoch 32/100\n",
      "21/21 [==============================] - 5s 240ms/step - loss: 0.4664 - accuracy: 0.7789 - val_loss: 0.4881 - val_accuracy: 0.7470\n",
      "Epoch 33/100\n",
      "21/21 [==============================] - 5s 240ms/step - loss: 0.4699 - accuracy: 0.7925 - val_loss: 0.5146 - val_accuracy: 0.7349\n",
      "Epoch 34/100\n",
      "21/21 [==============================] - 5s 241ms/step - loss: 0.4600 - accuracy: 0.7955 - val_loss: 0.5106 - val_accuracy: 0.7349\n",
      "Epoch 35/100\n",
      "21/21 [==============================] - 5s 239ms/step - loss: 0.4598 - accuracy: 0.7925 - val_loss: 0.5185 - val_accuracy: 0.7349\n",
      "Epoch 36/100\n",
      "21/21 [==============================] - 5s 239ms/step - loss: 0.4644 - accuracy: 0.7850 - val_loss: 0.5193 - val_accuracy: 0.7349\n",
      "Epoch 37/100\n",
      "21/21 [==============================] - 5s 240ms/step - loss: 0.4538 - accuracy: 0.7940 - val_loss: 0.4987 - val_accuracy: 0.7470\n",
      "Epoch 38/100\n",
      "21/21 [==============================] - 5s 240ms/step - loss: 0.4683 - accuracy: 0.7744 - val_loss: 0.4953 - val_accuracy: 0.7410\n",
      "Epoch 39/100\n",
      "21/21 [==============================] - 5s 242ms/step - loss: 0.4578 - accuracy: 0.7895 - val_loss: 0.5030 - val_accuracy: 0.7410\n",
      "Epoch 40/100\n",
      "21/21 [==============================] - 5s 239ms/step - loss: 0.4578 - accuracy: 0.7865 - val_loss: 0.5374 - val_accuracy: 0.7349\n",
      "Epoch 41/100\n",
      "21/21 [==============================] - 5s 240ms/step - loss: 0.4581 - accuracy: 0.7880 - val_loss: 0.4872 - val_accuracy: 0.7470\n",
      "Epoch 42/100\n",
      "21/21 [==============================] - 5s 242ms/step - loss: 0.4507 - accuracy: 0.7925 - val_loss: 0.4994 - val_accuracy: 0.7349\n",
      "Epoch 43/100\n",
      "21/21 [==============================] - 5s 240ms/step - loss: 0.4474 - accuracy: 0.7925 - val_loss: 0.4949 - val_accuracy: 0.7349\n",
      "Epoch 44/100\n",
      "21/21 [==============================] - 5s 242ms/step - loss: 0.4327 - accuracy: 0.8105 - val_loss: 0.4912 - val_accuracy: 0.7410\n",
      "Epoch 45/100\n",
      "21/21 [==============================] - 5s 245ms/step - loss: 0.4465 - accuracy: 0.8000 - val_loss: 0.4892 - val_accuracy: 0.7349\n",
      "Epoch 46/100\n",
      "21/21 [==============================] - 5s 241ms/step - loss: 0.4364 - accuracy: 0.8030 - val_loss: 0.4845 - val_accuracy: 0.7530\n",
      "Epoch 47/100\n",
      "21/21 [==============================] - 5s 242ms/step - loss: 0.4536 - accuracy: 0.7850 - val_loss: 0.5164 - val_accuracy: 0.7349\n",
      "Epoch 48/100\n",
      "21/21 [==============================] - 5s 244ms/step - loss: 0.4423 - accuracy: 0.7985 - val_loss: 0.4806 - val_accuracy: 0.7349\n",
      "Epoch 49/100\n",
      "21/21 [==============================] - 5s 243ms/step - loss: 0.4413 - accuracy: 0.7985 - val_loss: 0.5080 - val_accuracy: 0.7470\n",
      "Epoch 50/100\n",
      "21/21 [==============================] - 5s 244ms/step - loss: 0.4365 - accuracy: 0.8075 - val_loss: 0.4886 - val_accuracy: 0.7349\n",
      "Epoch 51/100\n",
      "21/21 [==============================] - 5s 243ms/step - loss: 0.4405 - accuracy: 0.7925 - val_loss: 0.4916 - val_accuracy: 0.7470\n",
      "Epoch 52/100\n",
      "21/21 [==============================] - 5s 245ms/step - loss: 0.4489 - accuracy: 0.7835 - val_loss: 0.4734 - val_accuracy: 0.7410\n",
      "Epoch 53/100\n",
      "21/21 [==============================] - 5s 245ms/step - loss: 0.4279 - accuracy: 0.8105 - val_loss: 0.4855 - val_accuracy: 0.7410\n",
      "Epoch 54/100\n",
      "21/21 [==============================] - 5s 247ms/step - loss: 0.4350 - accuracy: 0.8075 - val_loss: 0.5279 - val_accuracy: 0.7349\n",
      "Epoch 55/100\n",
      "21/21 [==============================] - 5s 245ms/step - loss: 0.4461 - accuracy: 0.7955 - val_loss: 0.4851 - val_accuracy: 0.7410\n",
      "Epoch 56/100\n",
      "21/21 [==============================] - 5s 250ms/step - loss: 0.4367 - accuracy: 0.8105 - val_loss: 0.4774 - val_accuracy: 0.7349\n",
      "Epoch 57/100\n",
      "21/21 [==============================] - 5s 248ms/step - loss: 0.4347 - accuracy: 0.8105 - val_loss: 0.4923 - val_accuracy: 0.7349\n",
      "Epoch 58/100\n",
      "21/21 [==============================] - 5s 253ms/step - loss: 0.4453 - accuracy: 0.7850 - val_loss: 0.4800 - val_accuracy: 0.7349\n",
      "Epoch 59/100\n",
      "21/21 [==============================] - 5s 255ms/step - loss: 0.4461 - accuracy: 0.7805 - val_loss: 0.4911 - val_accuracy: 0.7410\n",
      "Epoch 60/100\n",
      "21/21 [==============================] - 5s 253ms/step - loss: 0.4200 - accuracy: 0.8075 - val_loss: 0.4894 - val_accuracy: 0.7410\n",
      "Epoch 61/100\n",
      "21/21 [==============================] - 5s 253ms/step - loss: 0.4278 - accuracy: 0.8075 - val_loss: 0.5015 - val_accuracy: 0.7349\n",
      "Epoch 62/100\n",
      "21/21 [==============================] - 5s 254ms/step - loss: 0.4321 - accuracy: 0.8075 - val_loss: 0.5029 - val_accuracy: 0.7410\n",
      "Epoch 63/100\n",
      "21/21 [==============================] - 5s 250ms/step - loss: 0.4254 - accuracy: 0.7940 - val_loss: 0.4639 - val_accuracy: 0.7651\n",
      "Epoch 64/100\n",
      "21/21 [==============================] - 5s 250ms/step - loss: 0.4231 - accuracy: 0.8060 - val_loss: 0.4706 - val_accuracy: 0.7470\n",
      "Epoch 65/100\n",
      "21/21 [==============================] - 5s 252ms/step - loss: 0.4331 - accuracy: 0.8015 - val_loss: 0.4710 - val_accuracy: 0.7470\n",
      "Epoch 66/100\n",
      "21/21 [==============================] - 5s 250ms/step - loss: 0.4449 - accuracy: 0.7895 - val_loss: 0.4778 - val_accuracy: 0.7470\n",
      "Epoch 67/100\n",
      "21/21 [==============================] - 5s 252ms/step - loss: 0.4353 - accuracy: 0.7835 - val_loss: 0.4877 - val_accuracy: 0.7349\n",
      "Epoch 68/100\n",
      "21/21 [==============================] - 5s 245ms/step - loss: 0.4278 - accuracy: 0.7910 - val_loss: 0.4847 - val_accuracy: 0.7470\n",
      "Epoch 69/100\n",
      "21/21 [==============================] - 5s 248ms/step - loss: 0.4254 - accuracy: 0.8090 - val_loss: 0.4863 - val_accuracy: 0.7349\n",
      "Epoch 70/100\n",
      "21/21 [==============================] - 5s 247ms/step - loss: 0.4333 - accuracy: 0.7910 - val_loss: 0.4789 - val_accuracy: 0.7349\n",
      "Epoch 71/100\n",
      "21/21 [==============================] - 5s 248ms/step - loss: 0.4215 - accuracy: 0.8015 - val_loss: 0.4484 - val_accuracy: 0.7590\n",
      "Epoch 72/100\n",
      "21/21 [==============================] - 5s 247ms/step - loss: 0.4240 - accuracy: 0.8000 - val_loss: 0.4704 - val_accuracy: 0.7530\n",
      "Epoch 73/100\n",
      "21/21 [==============================] - 5s 248ms/step - loss: 0.4195 - accuracy: 0.8105 - val_loss: 0.4956 - val_accuracy: 0.7410\n",
      "Epoch 74/100\n",
      "21/21 [==============================] - 5s 246ms/step - loss: 0.4282 - accuracy: 0.7985 - val_loss: 0.4892 - val_accuracy: 0.7410\n",
      "Epoch 75/100\n",
      "21/21 [==============================] - 5s 251ms/step - loss: 0.4245 - accuracy: 0.8120 - val_loss: 0.4669 - val_accuracy: 0.7530\n",
      "Epoch 76/100\n",
      "21/21 [==============================] - 5s 246ms/step - loss: 0.4035 - accuracy: 0.8165 - val_loss: 0.4678 - val_accuracy: 0.7590\n",
      "Epoch 77/100\n",
      "21/21 [==============================] - 5s 245ms/step - loss: 0.4348 - accuracy: 0.7985 - val_loss: 0.4817 - val_accuracy: 0.7530\n",
      "Epoch 78/100\n",
      "21/21 [==============================] - 5s 247ms/step - loss: 0.4324 - accuracy: 0.7985 - val_loss: 0.4663 - val_accuracy: 0.7651\n",
      "Epoch 79/100\n",
      "21/21 [==============================] - 5s 245ms/step - loss: 0.4074 - accuracy: 0.8211 - val_loss: 0.4602 - val_accuracy: 0.7590\n",
      "Epoch 80/100\n",
      "21/21 [==============================] - 5s 248ms/step - loss: 0.4120 - accuracy: 0.8030 - val_loss: 0.4675 - val_accuracy: 0.7410\n",
      "Epoch 81/100\n",
      "21/21 [==============================] - 5s 249ms/step - loss: 0.4103 - accuracy: 0.8195 - val_loss: 0.4567 - val_accuracy: 0.7590\n",
      "Epoch 82/100\n",
      "21/21 [==============================] - 5s 247ms/step - loss: 0.4173 - accuracy: 0.7985 - val_loss: 0.4763 - val_accuracy: 0.7530\n",
      "Epoch 83/100\n",
      "21/21 [==============================] - 5s 246ms/step - loss: 0.4006 - accuracy: 0.8150 - val_loss: 0.4594 - val_accuracy: 0.7349\n",
      "Epoch 84/100\n",
      "21/21 [==============================] - 5s 247ms/step - loss: 0.4277 - accuracy: 0.7985 - val_loss: 0.4482 - val_accuracy: 0.7470\n",
      "Epoch 85/100\n",
      "21/21 [==============================] - 5s 247ms/step - loss: 0.4056 - accuracy: 0.8180 - val_loss: 0.4695 - val_accuracy: 0.7470\n",
      "Epoch 86/100\n",
      "21/21 [==============================] - 5s 244ms/step - loss: 0.4213 - accuracy: 0.8060 - val_loss: 0.4541 - val_accuracy: 0.7651\n",
      "Epoch 87/100\n",
      "21/21 [==============================] - 5s 244ms/step - loss: 0.4252 - accuracy: 0.8165 - val_loss: 0.4844 - val_accuracy: 0.7470\n",
      "Epoch 88/100\n",
      "21/21 [==============================] - 5s 246ms/step - loss: 0.4037 - accuracy: 0.8331 - val_loss: 0.4950 - val_accuracy: 0.7470\n",
      "Epoch 89/100\n",
      "21/21 [==============================] - 5s 242ms/step - loss: 0.4170 - accuracy: 0.8075 - val_loss: 0.4657 - val_accuracy: 0.7771\n",
      "Epoch 90/100\n",
      "21/21 [==============================] - 5s 247ms/step - loss: 0.4117 - accuracy: 0.8195 - val_loss: 0.4586 - val_accuracy: 0.7651\n",
      "Epoch 91/100\n",
      "21/21 [==============================] - 5s 243ms/step - loss: 0.4071 - accuracy: 0.8150 - val_loss: 0.4845 - val_accuracy: 0.7590\n",
      "Epoch 92/100\n",
      "21/21 [==============================] - 5s 243ms/step - loss: 0.4299 - accuracy: 0.8105 - val_loss: 0.4540 - val_accuracy: 0.7590\n",
      "Epoch 93/100\n",
      "21/21 [==============================] - 5s 247ms/step - loss: 0.3976 - accuracy: 0.8271 - val_loss: 0.4580 - val_accuracy: 0.7530\n",
      "Epoch 94/100\n",
      "21/21 [==============================] - 5s 244ms/step - loss: 0.3961 - accuracy: 0.8256 - val_loss: 0.4651 - val_accuracy: 0.7470\n",
      "Epoch 95/100\n",
      "21/21 [==============================] - 5s 245ms/step - loss: 0.4219 - accuracy: 0.8045 - val_loss: 0.4884 - val_accuracy: 0.7349\n",
      "Epoch 96/100\n",
      "21/21 [==============================] - 5s 242ms/step - loss: 0.3973 - accuracy: 0.8256 - val_loss: 0.4665 - val_accuracy: 0.7470\n",
      "Epoch 97/100\n",
      "21/21 [==============================] - 5s 243ms/step - loss: 0.4098 - accuracy: 0.8045 - val_loss: 0.4493 - val_accuracy: 0.7651\n",
      "Epoch 98/100\n",
      "21/21 [==============================] - 5s 245ms/step - loss: 0.3994 - accuracy: 0.8211 - val_loss: 0.4374 - val_accuracy: 0.7771\n",
      "Epoch 99/100\n",
      "21/21 [==============================] - 5s 243ms/step - loss: 0.4205 - accuracy: 0.8000 - val_loss: 0.4791 - val_accuracy: 0.7651\n",
      "Epoch 100/100\n",
      "21/21 [==============================] - 5s 245ms/step - loss: 0.4042 - accuracy: 0.8180 - val_loss: 0.4611 - val_accuracy: 0.7651\n"
     ]
    }
   ],
   "source": [
    "history = model.fit(\n",
    "    train_generator,\n",
    "    validation_data=validation_generator,\n",
    "    epochs=100,\n",
    ")"
   ]
  },
  {
   "cell_type": "code",
   "execution_count": 30,
   "id": "5706f4c1",
   "metadata": {},
   "outputs": [
    {
     "name": "stdout",
     "output_type": "stream",
     "text": [
      "6/6 [==============================] - 1s 167ms/step - loss: 0.4223 - accuracy: 0.7831\n",
      "Validation Accuracy: 78.31%\n",
      "6/6 [==============================] - 1s 175ms/step\n",
      "\n",
      "Classification Report:\n",
      "              precision    recall  f1-score   support\n",
      "\n",
      "           0       0.74      0.95      0.83       122\n",
      "           1       0.33      0.07      0.11        44\n",
      "\n",
      "    accuracy                           0.72       166\n",
      "   macro avg       0.54      0.51      0.47       166\n",
      "weighted avg       0.63      0.72      0.64       166\n",
      "\n",
      "\n",
      "Confusion Matrix:\n",
      "[[116   6]\n",
      " [ 41   3]]\n"
     ]
    }
   ],
   "source": [
    "val_loss, val_accuracy = model.evaluate(validation_generator)\n",
    "print(f\"Validation Accuracy: {val_accuracy * 100:.2f}%\")\n",
    "\n",
    "validation_generator.reset()\n",
    "predictions = (model.predict(validation_generator) > 0.5).astype(\"int64\")\n",
    "true_classes = validation_generator.classes\n",
    "\n",
    "print(\"\\nClassification Report:\")\n",
    "print(classification_report(true_classes, predictions))\n",
    "\n",
    "print(\"\\nConfusion Matrix:\")\n",
    "print(confusion_matrix(true_classes, predictions))"
   ]
  }
 ],
 "metadata": {
  "kaggle": {
   "accelerator": "gpu",
   "dataSources": [
    {
     "datasetId": 1685415,
     "sourceId": 2762111,
     "sourceType": "datasetVersion"
    }
   ],
   "dockerImageVersionId": 30648,
   "isGpuEnabled": true,
   "isInternetEnabled": true,
   "language": "python",
   "sourceType": "notebook"
  },
  "kernelspec": {
   "display_name": "Python 3",
   "language": "python",
   "name": "python3"
  },
  "language_info": {
   "codemirror_mode": {
    "name": "ipython",
    "version": 3
   },
   "file_extension": ".py",
   "mimetype": "text/x-python",
   "name": "python",
   "nbconvert_exporter": "python",
   "pygments_lexer": "ipython3",
   "version": "3.8.16"
  },
  "papermill": {
   "default_parameters": {},
   "duration": 695.546863,
   "end_time": "2024-02-13T15:29:11.942165",
   "environment_variables": {},
   "exception": null,
   "input_path": "__notebook__.ipynb",
   "output_path": "__notebook__.ipynb",
   "parameters": {},
   "start_time": "2024-02-13T15:17:36.395302",
   "version": "2.5.0"
  }
 },
 "nbformat": 4,
 "nbformat_minor": 5
}
